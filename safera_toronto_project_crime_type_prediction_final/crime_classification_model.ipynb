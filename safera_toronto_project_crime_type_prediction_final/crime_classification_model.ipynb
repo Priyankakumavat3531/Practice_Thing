{
 "cells": [
  {
   "cell_type": "markdown",
   "metadata": {
    "nteract": {
     "transient": {
      "deleting": false
     }
    }
   },
   "source": [
    "# **Crime Type Classification Model**"
   ]
  },
  {
   "cell_type": "markdown",
   "metadata": {
    "nteract": {
     "transient": {
      "deleting": false
     }
    }
   },
   "source": [
    "We are going to Predict the type of crime using Toronto Dataset of Crimes and Weather for this these two datasets merged together to  form a single dataset named as CrimeWeatherMerg.\n",
    "MCI_CATEGORY is the column in our dataset which has various categories of crimes, so it's the target column for our Auto ML model Prediction. i.e. we want to do predictions of the types of crime with respect to other features (columns) in our dataset.\n",
    "\n",
    "(data : we will see the detailed data information below)"
   ]
  },
  {
   "cell_type": "markdown",
   "metadata": {
    "nteract": {
     "transient": {
      "deleting": false
     }
    }
   },
   "source": [
    "### **1. Installing the required Libraries**"
   ]
  },
  {
   "cell_type": "markdown",
   "metadata": {
    "nteract": {
     "transient": {
      "deleting": false
     }
    }
   },
   "source": [
    "Here, we have to install the requirded libraries"
   ]
  },
  {
   "cell_type": "code",
   "execution_count": 2,
   "metadata": {
    "gather": {
     "logged": 1683094436722
    },
    "jupyter": {
     "outputs_hidden": false,
     "source_hidden": false
    },
    "nteract": {
     "transient": {
      "deleting": false
     }
    }
   },
   "outputs": [
    {
     "name": "stdout",
     "output_type": "stream",
     "text": [
      "Requirement already satisfied: pyodbc in /anaconda/envs/azureml_py38/lib/python3.8/site-packages (4.0.34)\n",
      "Note: you may need to restart the kernel to use updated packages.\n"
     ]
    }
   ],
   "source": [
    "pip install pyodbc"
   ]
  },
  {
   "cell_type": "code",
   "execution_count": 3,
   "metadata": {
    "gather": {
     "logged": 1683094441833
    },
    "jupyter": {
     "outputs_hidden": false,
     "source_hidden": false
    },
    "nteract": {
     "transient": {
      "deleting": false
     }
    }
   },
   "outputs": [
    {
     "name": "stdout",
     "output_type": "stream",
     "text": [
      "Requirement already satisfied: azure-common==1.1.28 in /anaconda/envs/azureml_py38/lib/python3.8/site-packages (from -r requirement.txt (line 1)) (1.1.28)\n",
      "Requirement already satisfied: azure-core==1.26.1 in /anaconda/envs/azureml_py38/lib/python3.8/site-packages (from -r requirement.txt (line 2)) (1.26.1)\n",
      "Requirement already satisfied: azure-cosmos==3.2.0 in /anaconda/envs/azureml_py38/lib/python3.8/site-packages (from -r requirement.txt (line 3)) (3.2.0)\n",
      "Requirement already satisfied: azure-data-tables==12.4.0 in /anaconda/envs/azureml_py38/lib/python3.8/site-packages (from -r requirement.txt (line 4)) (12.4.0)\n",
      "Requirement already satisfied: azure-datalake-store==0.0.52 in /anaconda/envs/azureml_py38/lib/python3.8/site-packages (from -r requirement.txt (line 5)) (0.0.52)\n",
      "Requirement already satisfied: azure-graphrbac==0.61.1 in /anaconda/envs/azureml_py38/lib/python3.8/site-packages (from -r requirement.txt (line 6)) (0.61.1)\n",
      "Requirement already satisfied: azure-identity==1.7.0 in /anaconda/envs/azureml_py38/lib/python3.8/site-packages (from -r requirement.txt (line 7)) (1.7.0)\n",
      "Requirement already satisfied: azure-keyvault==1.1.0 in /anaconda/envs/azureml_py38/lib/python3.8/site-packages (from -r requirement.txt (line 8)) (1.1.0)\n",
      "Requirement already satisfied: azure-keyvault-administration==4.0.0b3 in /anaconda/envs/azureml_py38/lib/python3.8/site-packages (from -r requirement.txt (line 9)) (4.0.0b3)\n",
      "Requirement already satisfied: azure-keyvault-keys==4.8.0b2 in /anaconda/envs/azureml_py38/lib/python3.8/site-packages (from -r requirement.txt (line 10)) (4.8.0b2)\n",
      "Requirement already satisfied: azure-loganalytics==0.1.1 in /anaconda/envs/azureml_py38/lib/python3.8/site-packages (from -r requirement.txt (line 11)) (0.1.1)\n",
      "Requirement already satisfied: azure-mgmt-advisor==9.0.0 in /anaconda/envs/azureml_py38/lib/python3.8/site-packages (from -r requirement.txt (line 12)) (9.0.0)\n",
      "Requirement already satisfied: azure-mgmt-apimanagement==3.0.0 in /anaconda/envs/azureml_py38/lib/python3.8/site-packages (from -r requirement.txt (line 13)) (3.0.0)\n",
      "Requirement already satisfied: azure-mgmt-appconfiguration==2.2.0 in /anaconda/envs/azureml_py38/lib/python3.8/site-packages (from -r requirement.txt (line 14)) (2.2.0)\n",
      "Requirement already satisfied: azure-mgmt-applicationinsights==1.0.0 in /anaconda/envs/azureml_py38/lib/python3.8/site-packages (from -r requirement.txt (line 15)) (1.0.0)\n",
      "Requirement already satisfied: azure-mgmt-authorization==3.0.0 in /anaconda/envs/azureml_py38/lib/python3.8/site-packages (from -r requirement.txt (line 16)) (3.0.0)\n",
      "Requirement already satisfied: azure-mgmt-batch==17.0.0 in /anaconda/envs/azureml_py38/lib/python3.8/site-packages (from -r requirement.txt (line 17)) (17.0.0)\n",
      "Requirement already satisfied: azure-mgmt-batchai==7.0.0b1 in /anaconda/envs/azureml_py38/lib/python3.8/site-packages (from -r requirement.txt (line 18)) (7.0.0b1)\n",
      "Requirement already satisfied: azure-mgmt-billing==6.0.0 in /anaconda/envs/azureml_py38/lib/python3.8/site-packages (from -r requirement.txt (line 19)) (6.0.0)\n",
      "Requirement already satisfied: azure-mgmt-botservice==2.0.0 in /anaconda/envs/azureml_py38/lib/python3.8/site-packages (from -r requirement.txt (line 20)) (2.0.0)\n",
      "Requirement already satisfied: azure-mgmt-cdn==12.0.0 in /anaconda/envs/azureml_py38/lib/python3.8/site-packages (from -r requirement.txt (line 21)) (12.0.0)\n",
      "Requirement already satisfied: azure-mgmt-cognitiveservices==13.3.0 in /anaconda/envs/azureml_py38/lib/python3.8/site-packages (from -r requirement.txt (line 22)) (13.3.0)\n",
      "Requirement already satisfied: azure-mgmt-compute==29.0.0 in /anaconda/envs/azureml_py38/lib/python3.8/site-packages (from -r requirement.txt (line 23)) (29.0.0)\n",
      "Requirement already satisfied: azure-mgmt-consumption==2.0.0 in /anaconda/envs/azureml_py38/lib/python3.8/site-packages (from -r requirement.txt (line 24)) (2.0.0)\n",
      "Requirement already satisfied: azure-mgmt-containerinstance==9.1.0 in /anaconda/envs/azureml_py38/lib/python3.8/site-packages (from -r requirement.txt (line 25)) (9.1.0)\n",
      "Requirement already satisfied: azure-mgmt-containerregistry==10.0.0 in /anaconda/envs/azureml_py38/lib/python3.8/site-packages (from -r requirement.txt (line 26)) (10.0.0)\n",
      "Requirement already satisfied: azure-mgmt-containerservice==21.1.0 in /anaconda/envs/azureml_py38/lib/python3.8/site-packages (from -r requirement.txt (line 27)) (21.1.0)\n",
      "Requirement already satisfied: azure-mgmt-core==1.3.2 in /anaconda/envs/azureml_py38/lib/python3.8/site-packages (from -r requirement.txt (line 28)) (1.3.2)\n",
      "Requirement already satisfied: azure-mgmt-cosmosdb==8.0.0 in /anaconda/envs/azureml_py38/lib/python3.8/site-packages (from -r requirement.txt (line 29)) (8.0.0)\n",
      "Requirement already satisfied: azure-mgmt-databoxedge==1.0.0 in /anaconda/envs/azureml_py38/lib/python3.8/site-packages (from -r requirement.txt (line 30)) (1.0.0)\n",
      "Requirement already satisfied: azure-mgmt-datalake-analytics==0.2.1 in /anaconda/envs/azureml_py38/lib/python3.8/site-packages (from -r requirement.txt (line 31)) (0.2.1)\n",
      "Requirement already satisfied: azure-mgmt-datalake-nspkg==3.0.1 in /anaconda/envs/azureml_py38/lib/python3.8/site-packages (from -r requirement.txt (line 32)) (3.0.1)\n",
      "Requirement already satisfied: azure-mgmt-datalake-store==0.5.0 in /anaconda/envs/azureml_py38/lib/python3.8/site-packages (from -r requirement.txt (line 33)) (0.5.0)\n",
      "Requirement already satisfied: azure-mgmt-datamigration==10.0.0 in /anaconda/envs/azureml_py38/lib/python3.8/site-packages (from -r requirement.txt (line 34)) (10.0.0)\n",
      "Requirement already satisfied: azure-mgmt-deploymentmanager==0.2.0 in /anaconda/envs/azureml_py38/lib/python3.8/site-packages (from -r requirement.txt (line 35)) (0.2.0)\n",
      "Requirement already satisfied: azure-mgmt-devtestlabs==4.0.0 in /anaconda/envs/azureml_py38/lib/python3.8/site-packages (from -r requirement.txt (line 36)) (4.0.0)\n",
      "Requirement already satisfied: azure-mgmt-dns==8.0.0 in /anaconda/envs/azureml_py38/lib/python3.8/site-packages (from -r requirement.txt (line 37)) (8.0.0)\n",
      "Requirement already satisfied: azure-mgmt-eventgrid==10.2.0b2 in /anaconda/envs/azureml_py38/lib/python3.8/site-packages (from -r requirement.txt (line 38)) (10.2.0b2)\n",
      "Requirement already satisfied: azure-mgmt-eventhub==10.1.0 in /anaconda/envs/azureml_py38/lib/python3.8/site-packages (from -r requirement.txt (line 39)) (10.1.0)\n",
      "Requirement already satisfied: azure-mgmt-extendedlocation==1.0.0b2 in /anaconda/envs/azureml_py38/lib/python3.8/site-packages (from -r requirement.txt (line 40)) (1.0.0b2)\n",
      "Requirement already satisfied: azure-mgmt-hdinsight==9.0.0 in /anaconda/envs/azureml_py38/lib/python3.8/site-packages (from -r requirement.txt (line 41)) (9.0.0)\n",
      "Requirement already satisfied: azure-mgmt-imagebuilder==1.1.0 in /anaconda/envs/azureml_py38/lib/python3.8/site-packages (from -r requirement.txt (line 42)) (1.1.0)\n",
      "Requirement already satisfied: azure-mgmt-iotcentral==10.0.0b2 in /anaconda/envs/azureml_py38/lib/python3.8/site-packages (from -r requirement.txt (line 43)) (10.0.0b2)\n",
      "Requirement already satisfied: azure-mgmt-iothub==2.3.0 in /anaconda/envs/azureml_py38/lib/python3.8/site-packages (from -r requirement.txt (line 44)) (2.3.0)\n",
      "Requirement already satisfied: azure-mgmt-iothubprovisioningservices==1.1.0 in /anaconda/envs/azureml_py38/lib/python3.8/site-packages (from -r requirement.txt (line 45)) (1.1.0)\n",
      "Requirement already satisfied: azure-mgmt-keyvault==10.1.0 in /anaconda/envs/azureml_py38/lib/python3.8/site-packages (from -r requirement.txt (line 46)) (10.1.0)\n",
      "Requirement already satisfied: azure-mgmt-kusto==0.3.0 in /anaconda/envs/azureml_py38/lib/python3.8/site-packages (from -r requirement.txt (line 47)) (0.3.0)\n",
      "Requirement already satisfied: azure-mgmt-loganalytics==13.0.0b4 in /anaconda/envs/azureml_py38/lib/python3.8/site-packages (from -r requirement.txt (line 48)) (13.0.0b4)\n",
      "Requirement already satisfied: azure-mgmt-managedservices==1.0.0 in /anaconda/envs/azureml_py38/lib/python3.8/site-packages (from -r requirement.txt (line 49)) (1.0.0)\n",
      "Requirement already satisfied: azure-mgmt-managementgroups==1.0.0 in /anaconda/envs/azureml_py38/lib/python3.8/site-packages (from -r requirement.txt (line 50)) (1.0.0)\n",
      "Requirement already satisfied: azure-mgmt-maps==2.0.0 in /anaconda/envs/azureml_py38/lib/python3.8/site-packages (from -r requirement.txt (line 51)) (2.0.0)\n",
      "Requirement already satisfied: azure-mgmt-marketplaceordering==1.1.0 in /anaconda/envs/azureml_py38/lib/python3.8/site-packages (from -r requirement.txt (line 52)) (1.1.0)\n",
      "Requirement already satisfied: azure-mgmt-media==9.0.0 in /anaconda/envs/azureml_py38/lib/python3.8/site-packages (from -r requirement.txt (line 53)) (9.0.0)\n",
      "Requirement already satisfied: azure-mgmt-monitor==5.0.1 in /anaconda/envs/azureml_py38/lib/python3.8/site-packages (from -r requirement.txt (line 54)) (5.0.1)\n",
      "Requirement already satisfied: azure-mgmt-msi==6.1.0 in /anaconda/envs/azureml_py38/lib/python3.8/site-packages (from -r requirement.txt (line 55)) (6.1.0)\n",
      "Requirement already satisfied: azure-mgmt-netapp==9.0.1 in /anaconda/envs/azureml_py38/lib/python3.8/site-packages (from -r requirement.txt (line 56)) (9.0.1)\n",
      "Requirement already satisfied: azure-mgmt-network==22.2.0 in /anaconda/envs/azureml_py38/lib/python3.8/site-packages (from -r requirement.txt (line 57)) (22.2.0)\n",
      "Requirement already satisfied: azure-mgmt-nspkg==3.0.2 in /anaconda/envs/azureml_py38/lib/python3.8/site-packages (from -r requirement.txt (line 58)) (3.0.2)\n",
      "Requirement already satisfied: azure-mgmt-policyinsights==1.1.0b4 in /anaconda/envs/azureml_py38/lib/python3.8/site-packages (from -r requirement.txt (line 59)) (1.1.0b4)\n",
      "Requirement already satisfied: azure-mgmt-privatedns==1.0.0 in /anaconda/envs/azureml_py38/lib/python3.8/site-packages (from -r requirement.txt (line 60)) (1.0.0)\n",
      "Requirement already satisfied: azure-mgmt-rdbms==10.2.0b6 in /anaconda/envs/azureml_py38/lib/python3.8/site-packages (from -r requirement.txt (line 61)) (10.2.0b6)\n",
      "Requirement already satisfied: azure-mgmt-recoveryservices==2.1.0 in /anaconda/envs/azureml_py38/lib/python3.8/site-packages (from -r requirement.txt (line 62)) (2.1.0)\n",
      "Requirement already satisfied: azure-mgmt-recoveryservicesbackup==5.1.0b3 in /anaconda/envs/azureml_py38/lib/python3.8/site-packages (from -r requirement.txt (line 63)) (5.1.0b3)\n",
      "Requirement already satisfied: azure-mgmt-redhatopenshift==1.1.0 in /anaconda/envs/azureml_py38/lib/python3.8/site-packages (from -r requirement.txt (line 64)) (1.1.0)\n",
      "Requirement already satisfied: azure-mgmt-redis==14.1.0 in /anaconda/envs/azureml_py38/lib/python3.8/site-packages (from -r requirement.txt (line 65)) (14.1.0)\n",
      "Requirement already satisfied: azure-mgmt-relay==0.1.0 in /anaconda/envs/azureml_py38/lib/python3.8/site-packages (from -r requirement.txt (line 66)) (0.1.0)\n",
      "Requirement already satisfied: azure-mgmt-resource==21.2.1 in /anaconda/envs/azureml_py38/lib/python3.8/site-packages (from -r requirement.txt (line 67)) (21.2.1)\n",
      "Requirement already satisfied: azure-mgmt-search==8.0.0 in /anaconda/envs/azureml_py38/lib/python3.8/site-packages (from -r requirement.txt (line 68)) (8.0.0)\n",
      "Requirement already satisfied: azure-mgmt-security==3.0.0 in /anaconda/envs/azureml_py38/lib/python3.8/site-packages (from -r requirement.txt (line 69)) (3.0.0)\n",
      "Requirement already satisfied: azure-mgmt-servicebus==8.1.0 in /anaconda/envs/azureml_py38/lib/python3.8/site-packages (from -r requirement.txt (line 70)) (8.1.0)\n",
      "Requirement already satisfied: azure-mgmt-servicefabric==1.0.0 in /anaconda/envs/azureml_py38/lib/python3.8/site-packages (from -r requirement.txt (line 71)) (1.0.0)\n",
      "Requirement already satisfied: azure-mgmt-servicefabricmanagedclusters==1.0.0 in /anaconda/envs/azureml_py38/lib/python3.8/site-packages (from -r requirement.txt (line 72)) (1.0.0)\n",
      "Requirement already satisfied: azure-mgmt-servicelinker==1.2.0b1 in /anaconda/envs/azureml_py38/lib/python3.8/site-packages (from -r requirement.txt (line 73)) (1.2.0b1)\n",
      "Requirement already satisfied: azure-mgmt-signalr==1.1.0 in /anaconda/envs/azureml_py38/lib/python3.8/site-packages (from -r requirement.txt (line 74)) (1.1.0)\n",
      "Requirement already satisfied: azure-mgmt-sql==4.0.0b6 in /anaconda/envs/azureml_py38/lib/python3.8/site-packages (from -r requirement.txt (line 75)) (4.0.0b6)\n",
      "Requirement already satisfied: azure-mgmt-sqlvirtualmachine==1.0.0b4 in /anaconda/envs/azureml_py38/lib/python3.8/site-packages (from -r requirement.txt (line 76)) (1.0.0b4)\n",
      "Requirement already satisfied: azure-mgmt-storage==20.1.0 in /anaconda/envs/azureml_py38/lib/python3.8/site-packages (from -r requirement.txt (line 77)) (20.1.0)\n",
      "Requirement already satisfied: azure-mgmt-synapse==2.1.0b5 in /anaconda/envs/azureml_py38/lib/python3.8/site-packages (from -r requirement.txt (line 78)) (2.1.0b5)\n",
      "Requirement already satisfied: azure-mgmt-trafficmanager==1.0.0 in /anaconda/envs/azureml_py38/lib/python3.8/site-packages (from -r requirement.txt (line 79)) (1.0.0)\n",
      "Requirement already satisfied: azure-mgmt-web==7.0.0 in /anaconda/envs/azureml_py38/lib/python3.8/site-packages (from -r requirement.txt (line 80)) (7.0.0)\n",
      "Requirement already satisfied: azure-multiapi-storage==1.0.0 in /anaconda/envs/azureml_py38/lib/python3.8/site-packages (from -r requirement.txt (line 81)) (1.0.0)\n",
      "Requirement already satisfied: azure-nspkg==3.0.2 in /anaconda/envs/azureml_py38/lib/python3.8/site-packages (from -r requirement.txt (line 82)) (3.0.2)\n",
      "Requirement already satisfied: azure-storage-blob==12.13.0 in /anaconda/envs/azureml_py38/lib/python3.8/site-packages (from -r requirement.txt (line 83)) (12.13.0)\n",
      "Requirement already satisfied: azure-storage-common==1.4.2 in /anaconda/envs/azureml_py38/lib/python3.8/site-packages (from -r requirement.txt (line 84)) (1.4.2)\n",
      "Requirement already satisfied: azure-storage-queue==12.5.0 in /anaconda/envs/azureml_py38/lib/python3.8/site-packages (from -r requirement.txt (line 85)) (12.5.0)\n",
      "Requirement already satisfied: azure-synapse-accesscontrol==0.5.0 in /anaconda/envs/azureml_py38/lib/python3.8/site-packages (from -r requirement.txt (line 86)) (0.5.0)\n",
      "Requirement already satisfied: azure-synapse-artifacts==0.14.0 in /anaconda/envs/azureml_py38/lib/python3.8/site-packages (from -r requirement.txt (line 87)) (0.14.0)\n",
      "Requirement already satisfied: azure-synapse-managedprivateendpoints==0.3.0 in /anaconda/envs/azureml_py38/lib/python3.8/site-packages (from -r requirement.txt (line 88)) (0.3.0)\n",
      "Requirement already satisfied: azure-synapse-spark==0.2.0 in /anaconda/envs/azureml_py38/lib/python3.8/site-packages (from -r requirement.txt (line 89)) (0.2.0)\n",
      "Requirement already satisfied: azureml-accel-models==1.48.0 in /anaconda/envs/azureml_py38/lib/python3.8/site-packages (from -r requirement.txt (line 90)) (1.48.0)\n",
      "Requirement already satisfied: azureml-automl-core==1.48.0 in /anaconda/envs/azureml_py38/lib/python3.8/site-packages (from -r requirement.txt (line 91)) (1.48.0)\n",
      "Requirement already satisfied: azureml-automl-dnn-nlp==1.48.0 in /anaconda/envs/azureml_py38/lib/python3.8/site-packages (from -r requirement.txt (line 92)) (1.48.0)\n",
      "Requirement already satisfied: mlflow-skinny==1.30.0 in /anaconda/envs/azureml_py38/lib/python3.8/site-packages (from -r requirement.txt (line 93)) (1.30.0)\n",
      "Requirement already satisfied: azureml-automl-runtime==1.48.0 in /anaconda/envs/azureml_py38/lib/python3.8/site-packages (from -r requirement.txt (line 94)) (1.48.0)\n",
      "Requirement already satisfied: azureml-cli-common==1.48.0 in /anaconda/envs/azureml_py38/lib/python3.8/site-packages (from -r requirement.txt (line 95)) (1.48.0)\n",
      "Requirement already satisfied: azureml-contrib-automl-pipeline-steps==1.48.0 in /anaconda/envs/azureml_py38/lib/python3.8/site-packages (from -r requirement.txt (line 96)) (1.48.0)\n",
      "Requirement already satisfied: azureml-contrib-dataset==1.48.0 in /anaconda/envs/azureml_py38/lib/python3.8/site-packages (from -r requirement.txt (line 97)) (1.48.0)\n",
      "Requirement already satisfied: azureml-contrib-fairness==1.48.0 in /anaconda/envs/azureml_py38/lib/python3.8/site-packages (from -r requirement.txt (line 98)) (1.48.0)\n",
      "Requirement already satisfied: azureml-contrib-notebook==1.48.0 in /anaconda/envs/azureml_py38/lib/python3.8/site-packages (from -r requirement.txt (line 99)) (1.48.0)\n",
      "Requirement already satisfied: azureml-contrib-pipeline-steps==1.48.0 in /anaconda/envs/azureml_py38/lib/python3.8/site-packages (from -r requirement.txt (line 100)) (1.48.0)\n",
      "Requirement already satisfied: azureml-contrib-reinforcementlearning==1.48.0 in /anaconda/envs/azureml_py38/lib/python3.8/site-packages (from -r requirement.txt (line 101)) (1.48.0)\n",
      "Requirement already satisfied: azureml-contrib-server==1.48.0 in /anaconda/envs/azureml_py38/lib/python3.8/site-packages (from -r requirement.txt (line 102)) (1.48.0)\n",
      "Requirement already satisfied: azureml-contrib-services==1.48.0 in /anaconda/envs/azureml_py38/lib/python3.8/site-packages (from -r requirement.txt (line 103)) (1.48.0)\n",
      "Requirement already satisfied: azureml-core==1.48.0 in /anaconda/envs/azureml_py38/lib/python3.8/site-packages (from -r requirement.txt (line 104)) (1.48.0)\n",
      "Requirement already satisfied: azureml-datadrift==1.48.0 in /anaconda/envs/azureml_py38/lib/python3.8/site-packages (from -r requirement.txt (line 105)) (1.48.0)\n",
      "Requirement already satisfied: azureml-dataprep==4.8.3 in /anaconda/envs/azureml_py38/lib/python3.8/site-packages (from -r requirement.txt (line 106)) (4.8.3)\n",
      "Requirement already satisfied: azureml-dataprep-native==38.0.0 in /anaconda/envs/azureml_py38/lib/python3.8/site-packages (from -r requirement.txt (line 107)) (38.0.0)\n",
      "Requirement already satisfied: azureml-dataprep-rslex==2.15.1 in /anaconda/envs/azureml_py38/lib/python3.8/site-packages (from -r requirement.txt (line 108)) (2.15.1)\n",
      "Requirement already satisfied: azureml-dataset-runtime==1.48.0 in /anaconda/envs/azureml_py38/lib/python3.8/site-packages (from -r requirement.txt (line 109)) (1.48.0)\n",
      "Requirement already satisfied: azureml-defaults==1.48.0 in /anaconda/envs/azureml_py38/lib/python3.8/site-packages (from -r requirement.txt (line 110)) (1.48.0)\n",
      "Requirement already satisfied: azureml-explain-model==1.48.0 in /anaconda/envs/azureml_py38/lib/python3.8/site-packages (from -r requirement.txt (line 111)) (1.48.0)\n",
      "Requirement already satisfied: azureml-inference-server-http==0.7.7 in /anaconda/envs/azureml_py38/lib/python3.8/site-packages (from -r requirement.txt (line 112)) (0.7.7)\n",
      "Requirement already satisfied: azureml-interpret==1.48.0 in /anaconda/envs/azureml_py38/lib/python3.8/site-packages (from -r requirement.txt (line 113)) (1.48.0)\n",
      "Requirement already satisfied: azureml-mlflow==1.48.0 in /anaconda/envs/azureml_py38/lib/python3.8/site-packages (from -r requirement.txt (line 114)) (1.48.0)\n",
      "Requirement already satisfied: azureml-opendatasets==1.48.0 in /anaconda/envs/azureml_py38/lib/python3.8/site-packages (from -r requirement.txt (line 115)) (1.48.0)\n",
      "Requirement already satisfied: azureml-pipeline==1.48.0 in /anaconda/envs/azureml_py38/lib/python3.8/site-packages (from -r requirement.txt (line 116)) (1.48.0)\n",
      "Requirement already satisfied: azureml-pipeline-core==1.48.0 in /anaconda/envs/azureml_py38/lib/python3.8/site-packages (from -r requirement.txt (line 117)) (1.48.0)\n",
      "Requirement already satisfied: azureml-pipeline-steps==1.48.0 in /anaconda/envs/azureml_py38/lib/python3.8/site-packages (from -r requirement.txt (line 118)) (1.48.0)\n",
      "Requirement already satisfied: azureml-responsibleai==1.48.0 in /anaconda/envs/azureml_py38/lib/python3.8/site-packages (from -r requirement.txt (line 119)) (1.48.0)\n",
      "Requirement already satisfied: azureml-sdk==1.48.0 in /anaconda/envs/azureml_py38/lib/python3.8/site-packages (from -r requirement.txt (line 120)) (1.48.0)\n",
      "Requirement already satisfied: azureml-telemetry==1.48.0 in /anaconda/envs/azureml_py38/lib/python3.8/site-packages (from -r requirement.txt (line 121)) (1.48.0)\n",
      "Requirement already satisfied: azureml-tensorboard==1.48.0 in /anaconda/envs/azureml_py38/lib/python3.8/site-packages (from -r requirement.txt (line 122)) (1.48.0)\n",
      "Requirement already satisfied: azureml-train==1.48.0 in /anaconda/envs/azureml_py38/lib/python3.8/site-packages (from -r requirement.txt (line 123)) (1.48.0)\n",
      "Requirement already satisfied: azureml-train-automl==1.48.0 in /anaconda/envs/azureml_py38/lib/python3.8/site-packages (from -r requirement.txt (line 124)) (1.48.0)\n",
      "Requirement already satisfied: azureml-train-automl-client==1.48.0 in /anaconda/envs/azureml_py38/lib/python3.8/site-packages (from -r requirement.txt (line 125)) (1.48.0)\n",
      "Requirement already satisfied: azureml-train-automl-runtime==1.48.0 in /anaconda/envs/azureml_py38/lib/python3.8/site-packages (from -r requirement.txt (line 126)) (1.48.0)\n",
      "Requirement already satisfied: azureml-train-core==1.48.0 in /anaconda/envs/azureml_py38/lib/python3.8/site-packages (from -r requirement.txt (line 127)) (1.48.0)\n",
      "Requirement already satisfied: azureml-train-restclients-hyperdrive==1.48.0 in /anaconda/envs/azureml_py38/lib/python3.8/site-packages (from -r requirement.txt (line 128)) (1.48.0)\n",
      "Requirement already satisfied: azureml-training-tabular==1.48.0 in /anaconda/envs/azureml_py38/lib/python3.8/site-packages (from -r requirement.txt (line 129)) (1.48.0)\n",
      "Requirement already satisfied: azureml-widgets==1.48.0 in /anaconda/envs/azureml_py38/lib/python3.8/site-packages (from -r requirement.txt (line 130)) (1.48.0)\n",
      "Requirement already satisfied: gensim==3.8.3 in /anaconda/envs/azureml_py38/lib/python3.8/site-packages (from -r requirement.txt (line 131)) (3.8.3)\n",
      "Requirement already satisfied: msal-extensions==0.3.1 in /anaconda/envs/azureml_py38/lib/python3.8/site-packages (from -r requirement.txt (line 132)) (0.3.1)\n",
      "Requirement already satisfied: matplotlib==3.2.1 in /anaconda/envs/azureml_py38/lib/python3.8/site-packages (from -r requirement.txt (line 133)) (3.2.1)\n",
      "Requirement already satisfied: matplotlib-inline==0.1.6 in /anaconda/envs/azureml_py38/lib/python3.8/site-packages (from -r requirement.txt (line 134)) (0.1.6)\n",
      "Requirement already satisfied: Pillow==9.2.0 in /anaconda/envs/azureml_py38/lib/python3.8/site-packages (from -r requirement.txt (line 135)) (9.2.0)\n",
      "Requirement already satisfied: pyodbc in /anaconda/envs/azureml_py38/lib/python3.8/site-packages (from -r requirement.txt (line 136)) (4.0.34)\n",
      "Requirement already satisfied: scikit-image==0.19.3 in /anaconda/envs/azureml_py38/lib/python3.8/site-packages (from -r requirement.txt (line 137)) (0.19.3)\n",
      "Requirement already satisfied: scikit-learn==0.22.1 in /anaconda/envs/azureml_py38/lib/python3.8/site-packages (from -r requirement.txt (line 138)) (0.22.1)\n",
      "Requirement already satisfied: scipy==1.5.3 in /anaconda/envs/azureml_py38/lib/python3.8/site-packages (from -r requirement.txt (line 139)) (1.5.3)\n",
      "Requirement already satisfied: sklearn-pandas==1.7.0 in /anaconda/envs/azureml_py38/lib/python3.8/site-packages (from -r requirement.txt (line 140)) (1.7.0)\n",
      "Requirement already satisfied: attrs==22.1.0 in /anaconda/envs/azureml_py38/lib/python3.8/site-packages (from -r requirement.txt (line 141)) (22.1.0)\n",
      "Requirement already satisfied: databricks-cli==0.17.3 in /anaconda/envs/azureml_py38/lib/python3.8/site-packages (from -r requirement.txt (line 142)) (0.17.3)\n",
      "Requirement already satisfied: fire==0.4.0 in /anaconda/envs/azureml_py38/lib/python3.8/site-packages (from -r requirement.txt (line 143)) (0.4.0)\n",
      "Requirement already satisfied: flatbuffers==22.11.23 in /anaconda/envs/azureml_py38/lib/python3.8/site-packages (from -r requirement.txt (line 144)) (22.11.23)\n",
      "Requirement already satisfied: fsspec==2022.11.0 in /anaconda/envs/azureml_py38/lib/python3.8/site-packages (from -r requirement.txt (line 145)) (2022.11.0)\n",
      "Requirement already satisfied: importlib-metadata==5.1.0 in /anaconda/envs/azureml_py38/lib/python3.8/site-packages (from -r requirement.txt (line 146)) (5.1.0)\n",
      "Requirement already satisfied: importlib-resources==5.10.0 in /anaconda/envs/azureml_py38/lib/python3.8/site-packages (from -r requirement.txt (line 147)) (5.10.0)\n",
      "Requirement already satisfied: pathspec==0.10.2 in /anaconda/envs/azureml_py38/lib/python3.8/site-packages (from -r requirement.txt (line 148)) (0.10.2)\n",
      "Requirement already satisfied: pkginfo==1.9.2 in /anaconda/envs/azureml_py38/lib/python3.8/site-packages (from -r requirement.txt (line 149)) (1.9.2)\n",
      "Requirement already satisfied: portalocker==2.6.0 in /anaconda/envs/azureml_py38/lib/python3.8/site-packages (from -r requirement.txt (line 150)) (2.6.0)\n",
      "Requirement already satisfied: pyrsistent==0.19.2 in /anaconda/envs/azureml_py38/lib/python3.8/site-packages (from -r requirement.txt (line 151)) (0.19.2)\n",
      "Requirement already satisfied: termcolor==2.1.1 in /anaconda/envs/azureml_py38/lib/python3.8/site-packages (from -r requirement.txt (line 152)) (2.1.1)\n",
      "Requirement already satisfied: websocket-client==1.4.2 in /anaconda/envs/azureml_py38/lib/python3.8/site-packages (from -r requirement.txt (line 153)) (1.4.2)\n",
      "Requirement already satisfied: zipp==3.11.0 in /anaconda/envs/azureml_py38/lib/python3.8/site-packages (from -r requirement.txt (line 154)) (3.11.0)\n",
      "Requirement already satisfied: six>=1.11.0 in /anaconda/envs/azureml_py38/lib/python3.8/site-packages (from azure-core==1.26.1->-r requirement.txt (line 2)) (1.16.0)\n",
      "Requirement already satisfied: typing-extensions>=4.0.1 in /anaconda/envs/azureml_py38/lib/python3.8/site-packages (from azure-core==1.26.1->-r requirement.txt (line 2)) (4.4.0)\n",
      "Requirement already satisfied: requests>=2.18.4 in /anaconda/envs/azureml_py38/lib/python3.8/site-packages (from azure-core==1.26.1->-r requirement.txt (line 2)) (2.28.2)\n",
      "Requirement already satisfied: msrest>=0.6.21 in /anaconda/envs/azureml_py38/lib/python3.8/site-packages (from azure-data-tables==12.4.0->-r requirement.txt (line 4)) (0.7.1)\n",
      "Requirement already satisfied: cffi in /anaconda/envs/azureml_py38/lib/python3.8/site-packages (from azure-datalake-store==0.0.52->-r requirement.txt (line 5)) (1.15.1)\n",
      "Requirement already satisfied: adal>=0.4.2 in /anaconda/envs/azureml_py38/lib/python3.8/site-packages (from azure-datalake-store==0.0.52->-r requirement.txt (line 5)) (1.2.7)\n",
      "Requirement already satisfied: msrestazure<2.0.0,>=0.4.32 in /anaconda/envs/azureml_py38/lib/python3.8/site-packages (from azure-graphrbac==0.61.1->-r requirement.txt (line 6)) (0.6.4)\n",
      "Requirement already satisfied: msal<2.0.0,>=1.12.0 in /anaconda/envs/azureml_py38/lib/python3.8/site-packages (from azure-identity==1.7.0->-r requirement.txt (line 7)) (1.20.0)\n",
      "Requirement already satisfied: cryptography>=2.5 in /anaconda/envs/azureml_py38/lib/python3.8/site-packages (from azure-identity==1.7.0->-r requirement.txt (line 7)) (38.0.4)\n",
      "Requirement already satisfied: isodate>=0.6.1 in /anaconda/envs/azureml_py38/lib/python3.8/site-packages (from azure-keyvault-keys==4.8.0b2->-r requirement.txt (line 10)) (0.6.1)\n",
      "Requirement already satisfied: python-dateutil in /anaconda/envs/azureml_py38/lib/python3.8/site-packages (from azure-multiapi-storage==1.0.0->-r requirement.txt (line 81)) (2.8.2)\n",
      "Requirement already satisfied: grpcio>=1.0 in /anaconda/envs/azureml_py38/lib/python3.8/site-packages (from azureml-accel-models==1.48.0->-r requirement.txt (line 90)) (1.51.1)\n",
      "Requirement already satisfied: transformers[sentencepiece]<=4.16.0 in /anaconda/envs/azureml_py38/lib/python3.8/site-packages (from azureml-automl-dnn-nlp==1.48.0->-r requirement.txt (line 92)) (4.16.0)\n",
      "Requirement already satisfied: torch<=1.12.0,>=1.5.0 in /anaconda/envs/azureml_py38/lib/python3.8/site-packages (from azureml-automl-dnn-nlp==1.48.0->-r requirement.txt (line 92)) (1.12.0)\n",
      "Requirement already satisfied: dataclasses in /anaconda/envs/azureml_py38/lib/python3.8/site-packages (from azureml-automl-dnn-nlp==1.48.0->-r requirement.txt (line 92)) (0.6)\n",
      "Requirement already satisfied: seqeval in /anaconda/envs/azureml_py38/lib/python3.8/site-packages (from azureml-automl-dnn-nlp==1.48.0->-r requirement.txt (line 92)) (1.2.2)\n",
      "Requirement already satisfied: inference-schema in /anaconda/envs/azureml_py38/lib/python3.8/site-packages (from azureml-automl-dnn-nlp==1.48.0->-r requirement.txt (line 92)) (1.5.1)\n",
      "Requirement already satisfied: datasets<=2.3.2,>=1.7.0 in /anaconda/envs/azureml_py38/lib/python3.8/site-packages (from azureml-automl-dnn-nlp==1.48.0->-r requirement.txt (line 92)) (2.3.2)\n",
      "Requirement already satisfied: pytz<2023 in /anaconda/envs/azureml_py38/lib/python3.8/site-packages (from mlflow-skinny==1.30.0->-r requirement.txt (line 93)) (2022.5)\n",
      "Requirement already satisfied: cloudpickle<3 in /anaconda/envs/azureml_py38/lib/python3.8/site-packages (from mlflow-skinny==1.30.0->-r requirement.txt (line 93)) (1.6.0)\n",
      "Requirement already satisfied: gitpython<4,>=2.1.0 in /anaconda/envs/azureml_py38/lib/python3.8/site-packages (from mlflow-skinny==1.30.0->-r requirement.txt (line 93)) (3.1.30)\n",
      "Requirement already satisfied: pyyaml<7,>=5.1 in /anaconda/envs/azureml_py38/lib/python3.8/site-packages (from mlflow-skinny==1.30.0->-r requirement.txt (line 93)) (6.0)\n",
      "Requirement already satisfied: click<9,>=7.0 in /anaconda/envs/azureml_py38/lib/python3.8/site-packages (from mlflow-skinny==1.30.0->-r requirement.txt (line 93)) (8.1.3)\n",
      "Requirement already satisfied: sqlparse<1,>=0.4.0 in /anaconda/envs/azureml_py38/lib/python3.8/site-packages (from mlflow-skinny==1.30.0->-r requirement.txt (line 93)) (0.4.3)\n",
      "Requirement already satisfied: entrypoints<1 in /anaconda/envs/azureml_py38/lib/python3.8/site-packages (from mlflow-skinny==1.30.0->-r requirement.txt (line 93)) (0.4)\n",
      "Requirement already satisfied: protobuf<5,>=3.12.0 in /anaconda/envs/azureml_py38/lib/python3.8/site-packages (from mlflow-skinny==1.30.0->-r requirement.txt (line 93)) (3.20.1)\n",
      "Requirement already satisfied: packaging<22 in /anaconda/envs/azureml_py38/lib/python3.8/site-packages (from mlflow-skinny==1.30.0->-r requirement.txt (line 93)) (21.3)\n",
      "Requirement already satisfied: lightgbm<=3.2.1,>=2.0.11 in /anaconda/envs/azureml_py38/lib/python3.8/site-packages (from azureml-automl-runtime==1.48.0->-r requirement.txt (line 94)) (3.2.1)\n",
      "Requirement already satisfied: joblib==0.14.1 in /anaconda/envs/azureml_py38/lib/python3.8/site-packages (from azureml-automl-runtime==1.48.0->-r requirement.txt (line 94)) (0.14.1)\n",
      "Requirement already satisfied: keras2onnx<=1.6.0,>=1.4.0 in /anaconda/envs/azureml_py38/lib/python3.8/site-packages (from azureml-automl-runtime==1.48.0->-r requirement.txt (line 94)) (1.6.0)\n",
      "Requirement already satisfied: skl2onnx==1.4.9 in /anaconda/envs/azureml_py38/lib/python3.8/site-packages (from azureml-automl-runtime==1.48.0->-r requirement.txt (line 94)) (1.4.9)\n",
      "Requirement already satisfied: pmdarima==1.7.1 in /anaconda/envs/azureml_py38/lib/python3.8/site-packages (from azureml-automl-runtime==1.48.0->-r requirement.txt (line 94)) (1.7.1)\n",
      "Requirement already satisfied: smart-open<=1.9.0 in /anaconda/envs/azureml_py38/lib/python3.8/site-packages (from azureml-automl-runtime==1.48.0->-r requirement.txt (line 94)) (1.9.0)\n",
      "Requirement already satisfied: dill<0.4.0,>=0.2.8 in /anaconda/envs/azureml_py38/lib/python3.8/site-packages (from azureml-automl-runtime==1.48.0->-r requirement.txt (line 94)) (0.3.6)\n",
      "Requirement already satisfied: nimbusml<=1.8.0,>=1.7.1 in /anaconda/envs/azureml_py38/lib/python3.8/site-packages (from azureml-automl-runtime==1.48.0->-r requirement.txt (line 94)) (1.8.0)\n",
      "Requirement already satisfied: onnxconverter-common<=1.6.0,>=1.4.2 in /anaconda/envs/azureml_py38/lib/python3.8/site-packages (from azureml-automl-runtime==1.48.0->-r requirement.txt (line 94)) (1.6.0)\n",
      "Requirement already satisfied: statsmodels<0.12,>=0.11.0 in /anaconda/envs/azureml_py38/lib/python3.8/site-packages (from azureml-automl-runtime==1.48.0->-r requirement.txt (line 94)) (0.11.0)\n",
      "Requirement already satisfied: dotnetcore2<4.0.0,>=3.0.0 in /anaconda/envs/azureml_py38/lib/python3.8/site-packages (from azureml-automl-runtime==1.48.0->-r requirement.txt (line 94)) (3.1.23)\n",
      "Requirement already satisfied: botocore<=1.23.19 in /anaconda/envs/azureml_py38/lib/python3.8/site-packages (from azureml-automl-runtime==1.48.0->-r requirement.txt (line 94)) (1.23.19)\n",
      "Requirement already satisfied: numpy<=1.22.3,>=1.16.0; python_version >= \"3.8\" in /anaconda/envs/azureml_py38/lib/python3.8/site-packages (from azureml-automl-runtime==1.48.0->-r requirement.txt (line 94)) (1.18.5)\n",
      "Requirement already satisfied: onnxmltools==1.4.1 in /anaconda/envs/azureml_py38/lib/python3.8/site-packages (from azureml-automl-runtime==1.48.0->-r requirement.txt (line 94)) (1.4.1)\n",
      "Requirement already satisfied: boto3<=1.20.19 in /anaconda/envs/azureml_py38/lib/python3.8/site-packages (from azureml-automl-runtime==1.48.0->-r requirement.txt (line 94)) (1.20.19)\n",
      "Requirement already satisfied: psutil<6.0.0,>=5.2.2 in /anaconda/envs/azureml_py38/lib/python3.8/site-packages (from azureml-automl-runtime==1.48.0->-r requirement.txt (line 94)) (5.9.4)\n",
      "Requirement already satisfied: onnx<=1.12.0,>=1.6.0; python_version >= \"3.7\" in /anaconda/envs/azureml_py38/lib/python3.8/site-packages (from azureml-automl-runtime==1.48.0->-r requirement.txt (line 94)) (1.12.0)\n",
      "Requirement already satisfied: onnxruntime<=1.11.1,>=1.3.0 in /anaconda/envs/azureml_py38/lib/python3.8/site-packages (from azureml-automl-runtime==1.48.0->-r requirement.txt (line 94)) (1.11.1)\n",
      "Requirement already satisfied: pandas==1.1.5 in /anaconda/envs/azureml_py38/lib/python3.8/site-packages (from azureml-automl-runtime==1.48.0->-r requirement.txt (line 94)) (1.1.5)\n",
      "Requirement already satisfied: jsonschema in /anaconda/envs/azureml_py38/lib/python3.8/site-packages (from azureml-contrib-fairness==1.48.0->-r requirement.txt (line 98)) (4.17.3)\n",
      "Requirement already satisfied: nbconvert<6 in /anaconda/envs/azureml_py38/lib/python3.8/site-packages (from azureml-contrib-notebook==1.48.0->-r requirement.txt (line 99)) (5.6.1)\n",
      "Requirement already satisfied: ipython in /anaconda/envs/azureml_py38/lib/python3.8/site-packages (from azureml-contrib-notebook==1.48.0->-r requirement.txt (line 99)) (8.10.0)\n",
      "Requirement already satisfied: jupyter-client<7 in /anaconda/envs/azureml_py38/lib/python3.8/site-packages (from azureml-contrib-notebook==1.48.0->-r requirement.txt (line 99)) (6.1.12)\n",
      "Requirement already satisfied: ipykernel in /anaconda/envs/azureml_py38/lib/python3.8/site-packages (from azureml-contrib-notebook==1.48.0->-r requirement.txt (line 99)) (6.6.0)\n",
      "Requirement already satisfied: papermill<2 in /anaconda/envs/azureml_py38/lib/python3.8/site-packages (from azureml-contrib-notebook==1.48.0->-r requirement.txt (line 99)) (1.2.1)\n",
      "Requirement already satisfied: Flask in /anaconda/envs/azureml_py38/lib/python3.8/site-packages (from azureml-contrib-services==1.48.0->-r requirement.txt (line 103)) (2.2.2)\n",
      "Requirement already satisfied: SecretStorage<4.0.0 in /anaconda/envs/azureml_py38/lib/python3.8/site-packages (from azureml-core==1.48.0->-r requirement.txt (line 104)) (3.3.3)\n",
      "Requirement already satisfied: pyopenssl<23.0.0 in /anaconda/envs/azureml_py38/lib/python3.8/site-packages (from azureml-core==1.48.0->-r requirement.txt (line 104)) (22.1.0)\n",
      "Requirement already satisfied: PyJWT<3.0.0 in /anaconda/envs/azureml_py38/lib/python3.8/site-packages (from azureml-core==1.48.0->-r requirement.txt (line 104)) (2.4.0)\n",
      "Requirement already satisfied: argcomplete<3 in /anaconda/envs/azureml_py38/lib/python3.8/site-packages (from azureml-core==1.48.0->-r requirement.txt (line 104)) (2.0.0)\n",
      "Requirement already satisfied: urllib3<2.0.0,>=1.23 in /anaconda/envs/azureml_py38/lib/python3.8/site-packages (from azureml-core==1.48.0->-r requirement.txt (line 104)) (1.26.14)\n",
      "Requirement already satisfied: contextlib2<22.0.0 in /anaconda/envs/azureml_py38/lib/python3.8/site-packages (from azureml-core==1.48.0->-r requirement.txt (line 104)) (21.6.0)\n",
      "Requirement already satisfied: jsonpickle<3.0.0 in /anaconda/envs/azureml_py38/lib/python3.8/site-packages (from azureml-core==1.48.0->-r requirement.txt (line 104)) (2.2.0)\n",
      "Requirement already satisfied: ndg-httpsclient<=0.5.1 in /anaconda/envs/azureml_py38/lib/python3.8/site-packages (from azureml-core==1.48.0->-r requirement.txt (line 104)) (0.5.1)\n",
      "Requirement already satisfied: jmespath<2.0.0 in /anaconda/envs/azureml_py38/lib/python3.8/site-packages (from azureml-core==1.48.0->-r requirement.txt (line 104)) (0.10.0)\n",
      "Requirement already satisfied: docker<7.0.0 in /anaconda/envs/azureml_py38/lib/python3.8/site-packages (from azureml-core==1.48.0->-r requirement.txt (line 104)) (6.0.1)\n",
      "Requirement already satisfied: knack~=0.10.0 in /anaconda/envs/azureml_py38/lib/python3.8/site-packages (from azureml-core==1.48.0->-r requirement.txt (line 104)) (0.10.1)\n",
      "Requirement already satisfied: humanfriendly<11.0,>=4.7 in /anaconda/envs/azureml_py38/lib/python3.8/site-packages (from azureml-core==1.48.0->-r requirement.txt (line 104)) (10.0)\n",
      "Requirement already satisfied: paramiko<3.0.0,>=2.0.8 in /anaconda/envs/azureml_py38/lib/python3.8/site-packages (from azureml-core==1.48.0->-r requirement.txt (line 104)) (2.12.0)\n",
      "Requirement already satisfied: backports.tempfile in /anaconda/envs/azureml_py38/lib/python3.8/site-packages (from azureml-core==1.48.0->-r requirement.txt (line 104)) (1.0)\n",
      "Requirement already satisfied: pyspark in /anaconda/envs/azureml_py38/lib/python3.8/site-packages (from azureml-datadrift==1.48.0->-r requirement.txt (line 105)) (3.3.1)\n",
      "Requirement already satisfied: pyarrow<=9.0.0,>=0.17.0 in /anaconda/envs/azureml_py38/lib/python3.8/site-packages (from azureml-dataset-runtime==1.48.0->-r requirement.txt (line 109)) (9.0.0)\n",
      "Requirement already satisfied: gunicorn==20.1.0; platform_system != \"Windows\" in /anaconda/envs/azureml_py38/lib/python3.8/site-packages (from azureml-inference-server-http==0.7.7->-r requirement.txt (line 112)) (20.1.0)\n",
      "Requirement already satisfied: opencensus-ext-azure~=1.1.0 in /anaconda/envs/azureml_py38/lib/python3.8/site-packages (from azureml-inference-server-http==0.7.7->-r requirement.txt (line 112)) (1.1.8)\n",
      "Requirement already satisfied: flask-cors~=3.0.1 in /anaconda/envs/azureml_py38/lib/python3.8/site-packages (from azureml-inference-server-http==0.7.7->-r requirement.txt (line 112)) (3.0.10)\n",
      "Requirement already satisfied: shap<0.40.0 in /anaconda/envs/azureml_py38/lib/python3.8/site-packages (from azureml-interpret==1.48.0->-r requirement.txt (line 113)) (0.39.0)\n",
      "Requirement already satisfied: interpret-community==0.27.* in /anaconda/envs/azureml_py38/lib/python3.8/site-packages (from azureml-interpret==1.48.0->-r requirement.txt (line 113)) (0.27.0)\n",
      "Requirement already satisfied: numba<=0.55.2 in /anaconda/envs/azureml_py38/lib/python3.8/site-packages (from azureml-interpret==1.48.0->-r requirement.txt (line 113)) (0.53.1)\n",
      "Requirement already satisfied: fairlearn>=0.6.2 in /anaconda/envs/azureml_py38/lib/python3.8/site-packages (from azureml-responsibleai==1.48.0->-r requirement.txt (line 119)) (0.8.0)\n",
      "Requirement already satisfied: responsibleai==0.23.0 in /anaconda/envs/azureml_py38/lib/python3.8/site-packages (from azureml-responsibleai==1.48.0->-r requirement.txt (line 119)) (0.23.0)\n",
      "Requirement already satisfied: applicationinsights in /anaconda/envs/azureml_py38/lib/python3.8/site-packages (from azureml-telemetry==1.48.0->-r requirement.txt (line 121)) (0.11.10)\n",
      "Requirement already satisfied: jinja2<4 in /anaconda/envs/azureml_py38/lib/python3.8/site-packages (from azureml-train-automl-runtime==1.48.0->-r requirement.txt (line 126)) (2.11.2)\n",
      "Requirement already satisfied: dask[complete]<=2021.6.0 in /anaconda/envs/azureml_py38/lib/python3.8/site-packages (from azureml-train-automl-runtime==1.48.0->-r requirement.txt (line 126)) (2021.6.0)\n",
      "Requirement already satisfied: bokeh<3.0.0 in /anaconda/envs/azureml_py38/lib/python3.8/site-packages (from azureml-train-automl-runtime==1.48.0->-r requirement.txt (line 126)) (2.4.3)\n",
      "Requirement already satisfied: markupsafe<2.1.0 in /anaconda/envs/azureml_py38/lib/python3.8/site-packages (from azureml-widgets==1.48.0->-r requirement.txt (line 130)) (2.0.1)\n",
      "Requirement already satisfied: ipywidgets<8.0.0,>=7.0.0 in /anaconda/envs/azureml_py38/lib/python3.8/site-packages (from azureml-widgets==1.48.0->-r requirement.txt (line 130)) (7.7.1)\n",
      "Requirement already satisfied: cycler>=0.10 in /anaconda/envs/azureml_py38/lib/python3.8/site-packages (from matplotlib==3.2.1->-r requirement.txt (line 133)) (0.11.0)\n",
      "Requirement already satisfied: kiwisolver>=1.0.1 in /anaconda/envs/azureml_py38/lib/python3.8/site-packages (from matplotlib==3.2.1->-r requirement.txt (line 133)) (1.4.4)\n",
      "Requirement already satisfied: pyparsing!=2.0.4,!=2.1.2,!=2.1.6,>=2.0.1 in /anaconda/envs/azureml_py38/lib/python3.8/site-packages (from matplotlib==3.2.1->-r requirement.txt (line 133)) (3.0.9)\n",
      "Requirement already satisfied: traitlets in /anaconda/envs/azureml_py38/lib/python3.8/site-packages (from matplotlib-inline==0.1.6->-r requirement.txt (line 134)) (5.9.0)\n",
      "Requirement already satisfied: tifffile>=2019.7.26 in /anaconda/envs/azureml_py38/lib/python3.8/site-packages (from scikit-image==0.19.3->-r requirement.txt (line 137)) (2023.3.21)\n",
      "Requirement already satisfied: imageio>=2.4.1 in /anaconda/envs/azureml_py38/lib/python3.8/site-packages (from scikit-image==0.19.3->-r requirement.txt (line 137)) (2.27.0)\n",
      "Requirement already satisfied: networkx>=2.2 in /anaconda/envs/azureml_py38/lib/python3.8/site-packages (from scikit-image==0.19.3->-r requirement.txt (line 137)) (2.5)\n",
      "Requirement already satisfied: PyWavelets>=1.1.1 in /anaconda/envs/azureml_py38/lib/python3.8/site-packages (from scikit-image==0.19.3->-r requirement.txt (line 137)) (1.4.1)\n",
      "Requirement already satisfied: oauthlib>=3.1.0 in /anaconda/envs/azureml_py38/lib/python3.8/site-packages (from databricks-cli==0.17.3->-r requirement.txt (line 142)) (3.2.2)\n",
      "Requirement already satisfied: tabulate>=0.7.7 in /anaconda/envs/azureml_py38/lib/python3.8/site-packages (from databricks-cli==0.17.3->-r requirement.txt (line 142)) (0.9.0)\n",
      "Requirement already satisfied: charset-normalizer<4,>=2 in /anaconda/envs/azureml_py38/lib/python3.8/site-packages (from requests>=2.18.4->azure-core==1.26.1->-r requirement.txt (line 2)) (3.0.1)\n",
      "Requirement already satisfied: certifi>=2017.4.17 in /anaconda/envs/azureml_py38/lib/python3.8/site-packages (from requests>=2.18.4->azure-core==1.26.1->-r requirement.txt (line 2)) (2022.9.24)\n",
      "Requirement already satisfied: idna<4,>=2.5 in /anaconda/envs/azureml_py38/lib/python3.8/site-packages (from requests>=2.18.4->azure-core==1.26.1->-r requirement.txt (line 2)) (3.4)\n",
      "Requirement already satisfied: requests-oauthlib>=0.5.0 in /anaconda/envs/azureml_py38/lib/python3.8/site-packages (from msrest>=0.6.21->azure-data-tables==12.4.0->-r requirement.txt (line 4)) (1.3.1)\n",
      "Requirement already satisfied: pycparser in /anaconda/envs/azureml_py38/lib/python3.8/site-packages (from cffi->azure-datalake-store==0.0.52->-r requirement.txt (line 5)) (2.21)\n",
      "Requirement already satisfied: filelock in /anaconda/envs/azureml_py38/lib/python3.8/site-packages (from transformers[sentencepiece]<=4.16.0->azureml-automl-dnn-nlp==1.48.0->-r requirement.txt (line 92)) (3.9.0)\n",
      "Requirement already satisfied: tqdm>=4.27 in /anaconda/envs/azureml_py38/lib/python3.8/site-packages (from transformers[sentencepiece]<=4.16.0->azureml-automl-dnn-nlp==1.48.0->-r requirement.txt (line 92)) (4.64.1)\n",
      "Requirement already satisfied: sacremoses in /anaconda/envs/azureml_py38/lib/python3.8/site-packages (from transformers[sentencepiece]<=4.16.0->azureml-automl-dnn-nlp==1.48.0->-r requirement.txt (line 92)) (0.0.53)\n",
      "Requirement already satisfied: tokenizers!=0.11.3,>=0.10.1 in /anaconda/envs/azureml_py38/lib/python3.8/site-packages (from transformers[sentencepiece]<=4.16.0->azureml-automl-dnn-nlp==1.48.0->-r requirement.txt (line 92)) (0.13.2)\n",
      "Requirement already satisfied: huggingface-hub<1.0,>=0.1.0 in /anaconda/envs/azureml_py38/lib/python3.8/site-packages (from transformers[sentencepiece]<=4.16.0->azureml-automl-dnn-nlp==1.48.0->-r requirement.txt (line 92)) (0.12.0)\n",
      "Requirement already satisfied: regex!=2019.12.17 in /anaconda/envs/azureml_py38/lib/python3.8/site-packages (from transformers[sentencepiece]<=4.16.0->azureml-automl-dnn-nlp==1.48.0->-r requirement.txt (line 92)) (2022.10.31)\n",
      "Requirement already satisfied: sentencepiece!=0.1.92,>=0.1.91; extra == \"sentencepiece\" in /anaconda/envs/azureml_py38/lib/python3.8/site-packages (from transformers[sentencepiece]<=4.16.0->azureml-automl-dnn-nlp==1.48.0->-r requirement.txt (line 92)) (0.1.97)\n",
      "Requirement already satisfied: wrapt<=1.12.1,>=1.11.1 in /anaconda/envs/azureml_py38/lib/python3.8/site-packages (from inference-schema->azureml-automl-dnn-nlp==1.48.0->-r requirement.txt (line 92)) (1.12.1)\n",
      "Requirement already satisfied: multiprocess in /anaconda/envs/azureml_py38/lib/python3.8/site-packages (from datasets<=2.3.2,>=1.7.0->azureml-automl-dnn-nlp==1.48.0->-r requirement.txt (line 92)) (0.70.14)\n",
      "Requirement already satisfied: responses<0.19 in /anaconda/envs/azureml_py38/lib/python3.8/site-packages (from datasets<=2.3.2,>=1.7.0->azureml-automl-dnn-nlp==1.48.0->-r requirement.txt (line 92)) (0.18.0)\n",
      "Requirement already satisfied: aiohttp in /anaconda/envs/azureml_py38/lib/python3.8/site-packages (from datasets<=2.3.2,>=1.7.0->azureml-automl-dnn-nlp==1.48.0->-r requirement.txt (line 92)) (3.8.4)\n",
      "Requirement already satisfied: xxhash in /anaconda/envs/azureml_py38/lib/python3.8/site-packages (from datasets<=2.3.2,>=1.7.0->azureml-automl-dnn-nlp==1.48.0->-r requirement.txt (line 92)) (3.2.0)\n",
      "Requirement already satisfied: gitdb<5,>=4.0.1 in /anaconda/envs/azureml_py38/lib/python3.8/site-packages (from gitpython<4,>=2.1.0->mlflow-skinny==1.30.0->-r requirement.txt (line 93)) (4.0.10)\n",
      "Requirement already satisfied: wheel in /anaconda/envs/azureml_py38/lib/python3.8/site-packages (from lightgbm<=3.2.1,>=2.0.11->azureml-automl-runtime==1.48.0->-r requirement.txt (line 94)) (0.37.1)\n",
      "Requirement already satisfied: Cython<0.29.18,>=0.29 in /anaconda/envs/azureml_py38/lib/python3.8/site-packages (from pmdarima==1.7.1->azureml-automl-runtime==1.48.0->-r requirement.txt (line 94)) (0.29.17)\n",
      "Requirement already satisfied: setuptools<50.0.0 in /anaconda/envs/azureml_py38/lib/python3.8/site-packages (from pmdarima==1.7.1->azureml-automl-runtime==1.48.0->-r requirement.txt (line 94)) (49.6.0)\n",
      "Requirement already satisfied: boto>=2.32 in /anaconda/envs/azureml_py38/lib/python3.8/site-packages (from smart-open<=1.9.0->azureml-automl-runtime==1.48.0->-r requirement.txt (line 94)) (2.49.0)\n",
      "Requirement already satisfied: patsy>=0.5 in /anaconda/envs/azureml_py38/lib/python3.8/site-packages (from statsmodels<0.12,>=0.11.0->azureml-automl-runtime==1.48.0->-r requirement.txt (line 94)) (0.5.3)\n",
      "Requirement already satisfied: distro>=1.2.0 in /anaconda/envs/azureml_py38/lib/python3.8/site-packages (from dotnetcore2<4.0.0,>=3.0.0->azureml-automl-runtime==1.48.0->-r requirement.txt (line 94)) (1.8.0)\n",
      "Requirement already satisfied: s3transfer<0.6.0,>=0.5.0 in /anaconda/envs/azureml_py38/lib/python3.8/site-packages (from boto3<=1.20.19->azureml-automl-runtime==1.48.0->-r requirement.txt (line 94)) (0.5.2)\n",
      "Requirement already satisfied: pkgutil-resolve-name>=1.3.10; python_version < \"3.9\" in /anaconda/envs/azureml_py38/lib/python3.8/site-packages (from jsonschema->azureml-contrib-fairness==1.48.0->-r requirement.txt (line 98)) (1.3.10)\n",
      "Requirement already satisfied: jupyter-core in /anaconda/envs/azureml_py38/lib/python3.8/site-packages (from nbconvert<6->azureml-contrib-notebook==1.48.0->-r requirement.txt (line 99)) (5.2.0)\n",
      "Requirement already satisfied: pandocfilters>=1.4.1 in /anaconda/envs/azureml_py38/lib/python3.8/site-packages (from nbconvert<6->azureml-contrib-notebook==1.48.0->-r requirement.txt (line 99)) (1.5.0)\n",
      "Requirement already satisfied: nbformat>=4.4 in /anaconda/envs/azureml_py38/lib/python3.8/site-packages (from nbconvert<6->azureml-contrib-notebook==1.48.0->-r requirement.txt (line 99)) (5.2.0)\n",
      "Requirement already satisfied: bleach in /anaconda/envs/azureml_py38/lib/python3.8/site-packages (from nbconvert<6->azureml-contrib-notebook==1.48.0->-r requirement.txt (line 99)) (6.0.0)\n",
      "Requirement already satisfied: mistune<2,>=0.8.1 in /anaconda/envs/azureml_py38/lib/python3.8/site-packages (from nbconvert<6->azureml-contrib-notebook==1.48.0->-r requirement.txt (line 99)) (0.8.4)\n",
      "Requirement already satisfied: pygments in /anaconda/envs/azureml_py38/lib/python3.8/site-packages (from nbconvert<6->azureml-contrib-notebook==1.48.0->-r requirement.txt (line 99)) (2.14.0)\n",
      "Requirement already satisfied: defusedxml in /anaconda/envs/azureml_py38/lib/python3.8/site-packages (from nbconvert<6->azureml-contrib-notebook==1.48.0->-r requirement.txt (line 99)) (0.7.1)\n",
      "Requirement already satisfied: testpath in /anaconda/envs/azureml_py38/lib/python3.8/site-packages (from nbconvert<6->azureml-contrib-notebook==1.48.0->-r requirement.txt (line 99)) (0.6.0)\n",
      "Requirement already satisfied: decorator in /anaconda/envs/azureml_py38/lib/python3.8/site-packages (from ipython->azureml-contrib-notebook==1.48.0->-r requirement.txt (line 99)) (5.1.1)\n",
      "Requirement already satisfied: pexpect>4.3; sys_platform != \"win32\" in /anaconda/envs/azureml_py38/lib/python3.8/site-packages (from ipython->azureml-contrib-notebook==1.48.0->-r requirement.txt (line 99)) (4.8.0)\n",
      "Requirement already satisfied: pickleshare in /anaconda/envs/azureml_py38/lib/python3.8/site-packages (from ipython->azureml-contrib-notebook==1.48.0->-r requirement.txt (line 99)) (0.7.5)\n",
      "Requirement already satisfied: prompt-toolkit<3.1.0,>=3.0.30 in /anaconda/envs/azureml_py38/lib/python3.8/site-packages (from ipython->azureml-contrib-notebook==1.48.0->-r requirement.txt (line 99)) (3.0.30)\n",
      "Requirement already satisfied: jedi>=0.16 in /anaconda/envs/azureml_py38/lib/python3.8/site-packages (from ipython->azureml-contrib-notebook==1.48.0->-r requirement.txt (line 99)) (0.18.0)\n",
      "Requirement already satisfied: stack-data in /anaconda/envs/azureml_py38/lib/python3.8/site-packages (from ipython->azureml-contrib-notebook==1.48.0->-r requirement.txt (line 99)) (0.6.2)\n",
      "Requirement already satisfied: backcall in /anaconda/envs/azureml_py38/lib/python3.8/site-packages (from ipython->azureml-contrib-notebook==1.48.0->-r requirement.txt (line 99)) (0.2.0)\n",
      "Requirement already satisfied: pyzmq>=13 in /anaconda/envs/azureml_py38/lib/python3.8/site-packages (from jupyter-client<7->azureml-contrib-notebook==1.48.0->-r requirement.txt (line 99)) (25.0.0)\n",
      "Requirement already satisfied: tornado>=4.1 in /anaconda/envs/azureml_py38/lib/python3.8/site-packages (from jupyter-client<7->azureml-contrib-notebook==1.48.0->-r requirement.txt (line 99)) (6.2)\n",
      "Requirement already satisfied: debugpy<2.0,>=1.0.0 in /anaconda/envs/azureml_py38/lib/python3.8/site-packages (from ipykernel->azureml-contrib-notebook==1.48.0->-r requirement.txt (line 99)) (1.6.6)\n",
      "Requirement already satisfied: future in /anaconda/envs/azureml_py38/lib/python3.8/site-packages (from papermill<2->azureml-contrib-notebook==1.48.0->-r requirement.txt (line 99)) (0.18.3)\n",
      "Requirement already satisfied: tenacity in /anaconda/envs/azureml_py38/lib/python3.8/site-packages (from papermill<2->azureml-contrib-notebook==1.48.0->-r requirement.txt (line 99)) (8.2.1)\n",
      "Requirement already satisfied: ansiwrap in /anaconda/envs/azureml_py38/lib/python3.8/site-packages (from papermill<2->azureml-contrib-notebook==1.48.0->-r requirement.txt (line 99)) (0.8.4)\n",
      "Requirement already satisfied: Werkzeug>=2.2.2 in /anaconda/envs/azureml_py38/lib/python3.8/site-packages (from Flask->azureml-contrib-services==1.48.0->-r requirement.txt (line 103)) (2.2.2)\n",
      "Requirement already satisfied: itsdangerous>=2.0 in /anaconda/envs/azureml_py38/lib/python3.8/site-packages (from Flask->azureml-contrib-services==1.48.0->-r requirement.txt (line 103)) (2.0.1)\n",
      "Requirement already satisfied: jeepney>=0.6 in /anaconda/envs/azureml_py38/lib/python3.8/site-packages (from SecretStorage<4.0.0->azureml-core==1.48.0->-r requirement.txt (line 104)) (0.8.0)\n",
      "Requirement already satisfied: pyasn1>=0.1.1 in /anaconda/envs/azureml_py38/lib/python3.8/site-packages (from ndg-httpsclient<=0.5.1->azureml-core==1.48.0->-r requirement.txt (line 104)) (0.4.8)\n",
      "Requirement already satisfied: pynacl>=1.0.1 in /anaconda/envs/azureml_py38/lib/python3.8/site-packages (from paramiko<3.0.0,>=2.0.8->azureml-core==1.48.0->-r requirement.txt (line 104)) (1.5.0)\n",
      "Requirement already satisfied: bcrypt>=3.1.3 in /anaconda/envs/azureml_py38/lib/python3.8/site-packages (from paramiko<3.0.0,>=2.0.8->azureml-core==1.48.0->-r requirement.txt (line 104)) (4.0.1)\n",
      "Requirement already satisfied: backports.weakref in /anaconda/envs/azureml_py38/lib/python3.8/site-packages (from backports.tempfile->azureml-core==1.48.0->-r requirement.txt (line 104)) (1.0.post1)\n",
      "Requirement already satisfied: py4j==0.10.9.5 in /anaconda/envs/azureml_py38/lib/python3.8/site-packages (from pyspark->azureml-datadrift==1.48.0->-r requirement.txt (line 105)) (0.10.9.5)\n",
      "Requirement already satisfied: opencensus<1.0.0,>=0.11.1 in /anaconda/envs/azureml_py38/lib/python3.8/site-packages (from opencensus-ext-azure~=1.1.0->azureml-inference-server-http==0.7.7->-r requirement.txt (line 112)) (0.11.1)\n",
      "Requirement already satisfied: slicer==0.0.7 in /anaconda/envs/azureml_py38/lib/python3.8/site-packages (from shap<0.40.0->azureml-interpret==1.48.0->-r requirement.txt (line 113)) (0.0.7)\n",
      "Requirement already satisfied: ml-wrappers==0.2.2 in /anaconda/envs/azureml_py38/lib/python3.8/site-packages (from interpret-community==0.27.*->azureml-interpret==1.48.0->-r requirement.txt (line 113)) (0.2.2)\n",
      "Requirement already satisfied: interpret-core[required]<=0.2.7,>=0.1.20 in /anaconda/envs/azureml_py38/lib/python3.8/site-packages (from interpret-community==0.27.*->azureml-interpret==1.48.0->-r requirement.txt (line 113)) (0.2.7)\n",
      "Requirement already satisfied: llvmlite<0.37,>=0.36.0rc1 in /anaconda/envs/azureml_py38/lib/python3.8/site-packages (from numba<=0.55.2->azureml-interpret==1.48.0->-r requirement.txt (line 113)) (0.36.0)\n",
      "Requirement already satisfied: erroranalysis>=0.3.12 in /anaconda/envs/azureml_py38/lib/python3.8/site-packages (from responsibleai==0.23.0->azureml-responsibleai==1.48.0->-r requirement.txt (line 119)) (0.4.1)\n",
      "Requirement already satisfied: dice-ml<0.10,>=0.9 in /anaconda/envs/azureml_py38/lib/python3.8/site-packages (from responsibleai==0.23.0->azureml-responsibleai==1.48.0->-r requirement.txt (line 119)) (0.9)\n",
      "Requirement already satisfied: semver~=2.13.0 in /anaconda/envs/azureml_py38/lib/python3.8/site-packages (from responsibleai==0.23.0->azureml-responsibleai==1.48.0->-r requirement.txt (line 119)) (2.13.0)\n",
      "Requirement already satisfied: raiutils>=0.2.0 in /anaconda/envs/azureml_py38/lib/python3.8/site-packages (from responsibleai==0.23.0->azureml-responsibleai==1.48.0->-r requirement.txt (line 119)) (0.3.0)\n",
      "Requirement already satisfied: econml>=0.13.1 in /anaconda/envs/azureml_py38/lib/python3.8/site-packages (from responsibleai==0.23.0->azureml-responsibleai==1.48.0->-r requirement.txt (line 119)) (0.14.0)\n",
      "Requirement already satisfied: partd>=0.3.10 in /anaconda/envs/azureml_py38/lib/python3.8/site-packages (from dask[complete]<=2021.6.0->azureml-train-automl-runtime==1.48.0->-r requirement.txt (line 126)) (1.3.0)\n",
      "Requirement already satisfied: toolz>=0.8.2 in /anaconda/envs/azureml_py38/lib/python3.8/site-packages (from dask[complete]<=2021.6.0->azureml-train-automl-runtime==1.48.0->-r requirement.txt (line 126)) (0.12.0)\n",
      "Requirement already satisfied: distributed==2021.06.0; extra == \"complete\" in /anaconda/envs/azureml_py38/lib/python3.8/site-packages (from dask[complete]<=2021.6.0->azureml-train-automl-runtime==1.48.0->-r requirement.txt (line 126)) (2021.6.0)\n",
      "Requirement already satisfied: widgetsnbextension~=3.6.0 in /anaconda/envs/azureml_py38/lib/python3.8/site-packages (from ipywidgets<8.0.0,>=7.0.0->azureml-widgets==1.48.0->-r requirement.txt (line 130)) (3.6.2)\n",
      "Requirement already satisfied: jupyterlab-widgets>=1.0.0; python_version >= \"3.6\" in /anaconda/envs/azureml_py38/lib/python3.8/site-packages (from ipywidgets<8.0.0,>=7.0.0->azureml-widgets==1.48.0->-r requirement.txt (line 130)) (1.1.2)\n",
      "Requirement already satisfied: ipython-genutils~=0.2.0 in /anaconda/envs/azureml_py38/lib/python3.8/site-packages (from ipywidgets<8.0.0,>=7.0.0->azureml-widgets==1.48.0->-r requirement.txt (line 130)) (0.2.0)\n",
      "Requirement already satisfied: frozenlist>=1.1.1 in /anaconda/envs/azureml_py38/lib/python3.8/site-packages (from aiohttp->datasets<=2.3.2,>=1.7.0->azureml-automl-dnn-nlp==1.48.0->-r requirement.txt (line 92)) (1.3.3)\n",
      "Requirement already satisfied: yarl<2.0,>=1.0 in /anaconda/envs/azureml_py38/lib/python3.8/site-packages (from aiohttp->datasets<=2.3.2,>=1.7.0->azureml-automl-dnn-nlp==1.48.0->-r requirement.txt (line 92)) (1.8.2)\n",
      "Requirement already satisfied: async-timeout<5.0,>=4.0.0a3 in /anaconda/envs/azureml_py38/lib/python3.8/site-packages (from aiohttp->datasets<=2.3.2,>=1.7.0->azureml-automl-dnn-nlp==1.48.0->-r requirement.txt (line 92)) (4.0.2)\n",
      "Requirement already satisfied: aiosignal>=1.1.2 in /anaconda/envs/azureml_py38/lib/python3.8/site-packages (from aiohttp->datasets<=2.3.2,>=1.7.0->azureml-automl-dnn-nlp==1.48.0->-r requirement.txt (line 92)) (1.3.1)\n",
      "Requirement already satisfied: multidict<7.0,>=4.5 in /anaconda/envs/azureml_py38/lib/python3.8/site-packages (from aiohttp->datasets<=2.3.2,>=1.7.0->azureml-automl-dnn-nlp==1.48.0->-r requirement.txt (line 92)) (6.0.4)\n",
      "Requirement already satisfied: smmap<6,>=3.0.1 in /anaconda/envs/azureml_py38/lib/python3.8/site-packages (from gitdb<5,>=4.0.1->gitpython<4,>=2.1.0->mlflow-skinny==1.30.0->-r requirement.txt (line 93)) (5.0.0)\n",
      "Requirement already satisfied: platformdirs>=2.5 in /anaconda/envs/azureml_py38/lib/python3.8/site-packages (from jupyter-core->nbconvert<6->azureml-contrib-notebook==1.48.0->-r requirement.txt (line 99)) (3.0.0)\n",
      "Requirement already satisfied: webencodings in /anaconda/envs/azureml_py38/lib/python3.8/site-packages (from bleach->nbconvert<6->azureml-contrib-notebook==1.48.0->-r requirement.txt (line 99)) (0.5.1)\n",
      "Requirement already satisfied: ptyprocess>=0.5 in /anaconda/envs/azureml_py38/lib/python3.8/site-packages (from pexpect>4.3; sys_platform != \"win32\"->ipython->azureml-contrib-notebook==1.48.0->-r requirement.txt (line 99)) (0.7.0)\n",
      "Requirement already satisfied: wcwidth in /anaconda/envs/azureml_py38/lib/python3.8/site-packages (from prompt-toolkit<3.1.0,>=3.0.30->ipython->azureml-contrib-notebook==1.48.0->-r requirement.txt (line 99)) (0.2.6)\n",
      "Requirement already satisfied: parso<0.9.0,>=0.8.0 in /anaconda/envs/azureml_py38/lib/python3.8/site-packages (from jedi>=0.16->ipython->azureml-contrib-notebook==1.48.0->-r requirement.txt (line 99)) (0.8.3)\n",
      "Requirement already satisfied: executing>=1.2.0 in /anaconda/envs/azureml_py38/lib/python3.8/site-packages (from stack-data->ipython->azureml-contrib-notebook==1.48.0->-r requirement.txt (line 99)) (1.2.0)\n",
      "Requirement already satisfied: asttokens>=2.1.0 in /anaconda/envs/azureml_py38/lib/python3.8/site-packages (from stack-data->ipython->azureml-contrib-notebook==1.48.0->-r requirement.txt (line 99)) (2.2.1)\n",
      "Requirement already satisfied: pure-eval in /anaconda/envs/azureml_py38/lib/python3.8/site-packages (from stack-data->ipython->azureml-contrib-notebook==1.48.0->-r requirement.txt (line 99)) (0.2.2)\n",
      "Requirement already satisfied: textwrap3>=0.9.2 in /anaconda/envs/azureml_py38/lib/python3.8/site-packages (from ansiwrap->papermill<2->azureml-contrib-notebook==1.48.0->-r requirement.txt (line 99)) (0.9.2)\n",
      "Requirement already satisfied: google-api-core<3.0.0,>=1.0.0; python_version >= \"3.6\" in /anaconda/envs/azureml_py38/lib/python3.8/site-packages (from opencensus<1.0.0,>=0.11.1->opencensus-ext-azure~=1.1.0->azureml-inference-server-http==0.7.7->-r requirement.txt (line 112)) (2.11.0)\n",
      "Requirement already satisfied: opencensus-context>=0.1.3 in /anaconda/envs/azureml_py38/lib/python3.8/site-packages (from opencensus<1.0.0,>=0.11.1->opencensus-ext-azure~=1.1.0->azureml-inference-server-http==0.7.7->-r requirement.txt (line 112)) (0.1.3)\n",
      "Requirement already satisfied: h5py in /anaconda/envs/azureml_py38/lib/python3.8/site-packages (from dice-ml<0.10,>=0.9->responsibleai==0.23.0->azureml-responsibleai==1.48.0->-r requirement.txt (line 119)) (2.10.0)\n",
      "Requirement already satisfied: sparse in /anaconda/envs/azureml_py38/lib/python3.8/site-packages (from econml>=0.13.1->responsibleai==0.23.0->azureml-responsibleai==1.48.0->-r requirement.txt (line 119)) (0.13.0)\n",
      "Requirement already satisfied: locket in /anaconda/envs/azureml_py38/lib/python3.8/site-packages (from partd>=0.3.10->dask[complete]<=2021.6.0->azureml-train-automl-runtime==1.48.0->-r requirement.txt (line 126)) (1.0.0)\n",
      "Requirement already satisfied: tblib>=1.6.0 in /anaconda/envs/azureml_py38/lib/python3.8/site-packages (from distributed==2021.06.0; extra == \"complete\"->dask[complete]<=2021.6.0->azureml-train-automl-runtime==1.48.0->-r requirement.txt (line 126)) (1.7.0)\n",
      "Requirement already satisfied: msgpack>=0.6.0 in /anaconda/envs/azureml_py38/lib/python3.8/site-packages (from distributed==2021.06.0; extra == \"complete\"->dask[complete]<=2021.6.0->azureml-train-automl-runtime==1.48.0->-r requirement.txt (line 126)) (1.0.4)\n",
      "Requirement already satisfied: sortedcontainers!=2.0.0,!=2.0.1 in /anaconda/envs/azureml_py38/lib/python3.8/site-packages (from distributed==2021.06.0; extra == \"complete\"->dask[complete]<=2021.6.0->azureml-train-automl-runtime==1.48.0->-r requirement.txt (line 126)) (2.4.0)\n",
      "Requirement already satisfied: zict>=0.1.3 in /anaconda/envs/azureml_py38/lib/python3.8/site-packages (from distributed==2021.06.0; extra == \"complete\"->dask[complete]<=2021.6.0->azureml-train-automl-runtime==1.48.0->-r requirement.txt (line 126)) (2.2.0)\n",
      "Requirement already satisfied: notebook>=4.4.1 in /anaconda/envs/azureml_py38/lib/python3.8/site-packages (from widgetsnbextension~=3.6.0->ipywidgets<8.0.0,>=7.0.0->azureml-widgets==1.48.0->-r requirement.txt (line 130)) (6.5.2)\n",
      "Requirement already satisfied: google-auth<3.0dev,>=2.14.1 in /anaconda/envs/azureml_py38/lib/python3.8/site-packages (from google-api-core<3.0.0,>=1.0.0; python_version >= \"3.6\"->opencensus<1.0.0,>=0.11.1->opencensus-ext-azure~=1.1.0->azureml-inference-server-http==0.7.7->-r requirement.txt (line 112)) (2.17.3)\n",
      "Requirement already satisfied: googleapis-common-protos<2.0dev,>=1.56.2 in /anaconda/envs/azureml_py38/lib/python3.8/site-packages (from google-api-core<3.0.0,>=1.0.0; python_version >= \"3.6\"->opencensus<1.0.0,>=0.11.1->opencensus-ext-azure~=1.1.0->azureml-inference-server-http==0.7.7->-r requirement.txt (line 112)) (1.58.0)\n",
      "Requirement already satisfied: heapdict in /anaconda/envs/azureml_py38/lib/python3.8/site-packages (from zict>=0.1.3->distributed==2021.06.0; extra == \"complete\"->dask[complete]<=2021.6.0->azureml-train-automl-runtime==1.48.0->-r requirement.txt (line 126)) (1.0.1)\n",
      "Requirement already satisfied: prometheus-client in /anaconda/envs/azureml_py38/lib/python3.8/site-packages (from notebook>=4.4.1->widgetsnbextension~=3.6.0->ipywidgets<8.0.0,>=7.0.0->azureml-widgets==1.48.0->-r requirement.txt (line 130)) (0.16.0)\n",
      "Requirement already satisfied: terminado>=0.8.3 in /anaconda/envs/azureml_py38/lib/python3.8/site-packages (from notebook>=4.4.1->widgetsnbextension~=3.6.0->ipywidgets<8.0.0,>=7.0.0->azureml-widgets==1.48.0->-r requirement.txt (line 130)) (0.17.1)\n",
      "Requirement already satisfied: argon2-cffi in /anaconda/envs/azureml_py38/lib/python3.8/site-packages (from notebook>=4.4.1->widgetsnbextension~=3.6.0->ipywidgets<8.0.0,>=7.0.0->azureml-widgets==1.48.0->-r requirement.txt (line 130)) (21.3.0)\n",
      "Requirement already satisfied: nbclassic>=0.4.7 in /anaconda/envs/azureml_py38/lib/python3.8/site-packages (from notebook>=4.4.1->widgetsnbextension~=3.6.0->ipywidgets<8.0.0,>=7.0.0->azureml-widgets==1.48.0->-r requirement.txt (line 130)) (0.5.1)\n",
      "Requirement already satisfied: nest-asyncio>=1.5 in /anaconda/envs/azureml_py38/lib/python3.8/site-packages (from notebook>=4.4.1->widgetsnbextension~=3.6.0->ipywidgets<8.0.0,>=7.0.0->azureml-widgets==1.48.0->-r requirement.txt (line 130)) (1.5.6)\n",
      "Requirement already satisfied: Send2Trash>=1.8.0 in /anaconda/envs/azureml_py38/lib/python3.8/site-packages (from notebook>=4.4.1->widgetsnbextension~=3.6.0->ipywidgets<8.0.0,>=7.0.0->azureml-widgets==1.48.0->-r requirement.txt (line 130)) (1.8.0)\n",
      "Requirement already satisfied: pyasn1-modules>=0.2.1 in /anaconda/envs/azureml_py38/lib/python3.8/site-packages (from google-auth<3.0dev,>=2.14.1->google-api-core<3.0.0,>=1.0.0; python_version >= \"3.6\"->opencensus<1.0.0,>=0.11.1->opencensus-ext-azure~=1.1.0->azureml-inference-server-http==0.7.7->-r requirement.txt (line 112)) (0.2.8)\n",
      "Requirement already satisfied: rsa<5,>=3.1.4; python_version >= \"3.6\" in /anaconda/envs/azureml_py38/lib/python3.8/site-packages (from google-auth<3.0dev,>=2.14.1->google-api-core<3.0.0,>=1.0.0; python_version >= \"3.6\"->opencensus<1.0.0,>=0.11.1->opencensus-ext-azure~=1.1.0->azureml-inference-server-http==0.7.7->-r requirement.txt (line 112)) (4.9)\n",
      "Requirement already satisfied: cachetools<6.0,>=2.0.0 in /anaconda/envs/azureml_py38/lib/python3.8/site-packages (from google-auth<3.0dev,>=2.14.1->google-api-core<3.0.0,>=1.0.0; python_version >= \"3.6\"->opencensus<1.0.0,>=0.11.1->opencensus-ext-azure~=1.1.0->azureml-inference-server-http==0.7.7->-r requirement.txt (line 112)) (4.2.4)\n",
      "Requirement already satisfied: argon2-cffi-bindings in /anaconda/envs/azureml_py38/lib/python3.8/site-packages (from argon2-cffi->notebook>=4.4.1->widgetsnbextension~=3.6.0->ipywidgets<8.0.0,>=7.0.0->azureml-widgets==1.48.0->-r requirement.txt (line 130)) (21.2.0)\n",
      "Requirement already satisfied: jupyter-server>=1.17.0 in /anaconda/envs/azureml_py38/lib/python3.8/site-packages (from nbclassic>=0.4.7->notebook>=4.4.1->widgetsnbextension~=3.6.0->ipywidgets<8.0.0,>=7.0.0->azureml-widgets==1.48.0->-r requirement.txt (line 130)) (2.2.1)\n",
      "Requirement already satisfied: notebook-shim>=0.1.0 in /anaconda/envs/azureml_py38/lib/python3.8/site-packages (from nbclassic>=0.4.7->notebook>=4.4.1->widgetsnbextension~=3.6.0->ipywidgets<8.0.0,>=7.0.0->azureml-widgets==1.48.0->-r requirement.txt (line 130)) (0.2.2)\n",
      "Requirement already satisfied: jupyter-server-terminals in /anaconda/envs/azureml_py38/lib/python3.8/site-packages (from jupyter-server>=1.17.0->nbclassic>=0.4.7->notebook>=4.4.1->widgetsnbextension~=3.6.0->ipywidgets<8.0.0,>=7.0.0->azureml-widgets==1.48.0->-r requirement.txt (line 130)) (0.4.4)\n",
      "Requirement already satisfied: anyio>=3.1.0 in /anaconda/envs/azureml_py38/lib/python3.8/site-packages (from jupyter-server>=1.17.0->nbclassic>=0.4.7->notebook>=4.4.1->widgetsnbextension~=3.6.0->ipywidgets<8.0.0,>=7.0.0->azureml-widgets==1.48.0->-r requirement.txt (line 130)) (3.6.2)\n",
      "Requirement already satisfied: jupyter-events>=0.4.0 in /anaconda/envs/azureml_py38/lib/python3.8/site-packages (from jupyter-server>=1.17.0->nbclassic>=0.4.7->notebook>=4.4.1->widgetsnbextension~=3.6.0->ipywidgets<8.0.0,>=7.0.0->azureml-widgets==1.48.0->-r requirement.txt (line 130)) (0.6.3)\n",
      "Requirement already satisfied: sniffio>=1.1 in /anaconda/envs/azureml_py38/lib/python3.8/site-packages (from anyio>=3.1.0->jupyter-server>=1.17.0->nbclassic>=0.4.7->notebook>=4.4.1->widgetsnbextension~=3.6.0->ipywidgets<8.0.0,>=7.0.0->azureml-widgets==1.48.0->-r requirement.txt (line 130)) (1.3.0)\n",
      "Requirement already satisfied: rfc3986-validator>=0.1.1 in /anaconda/envs/azureml_py38/lib/python3.8/site-packages (from jupyter-events>=0.4.0->jupyter-server>=1.17.0->nbclassic>=0.4.7->notebook>=4.4.1->widgetsnbextension~=3.6.0->ipywidgets<8.0.0,>=7.0.0->azureml-widgets==1.48.0->-r requirement.txt (line 130)) (0.1.1)\n",
      "Requirement already satisfied: rfc3339-validator in /anaconda/envs/azureml_py38/lib/python3.8/site-packages (from jupyter-events>=0.4.0->jupyter-server>=1.17.0->nbclassic>=0.4.7->notebook>=4.4.1->widgetsnbextension~=3.6.0->ipywidgets<8.0.0,>=7.0.0->azureml-widgets==1.48.0->-r requirement.txt (line 130)) (0.1.4)\n",
      "Requirement already satisfied: python-json-logger>=2.0.4 in /anaconda/envs/azureml_py38/lib/python3.8/site-packages (from jupyter-events>=0.4.0->jupyter-server>=1.17.0->nbclassic>=0.4.7->notebook>=4.4.1->widgetsnbextension~=3.6.0->ipywidgets<8.0.0,>=7.0.0->azureml-widgets==1.48.0->-r requirement.txt (line 130)) (2.0.5)\n",
      "Note: you may need to restart the kernel to use updated packages.\n"
     ]
    }
   ],
   "source": [
    "pip install -r requirement.txt"
   ]
  },
  {
   "cell_type": "markdown",
   "metadata": {
    "nteract": {
     "transient": {
      "deleting": false
     }
    }
   },
   "source": [
    "## **2.Establish the Database connection to import data from Azure SQL server**"
   ]
  },
  {
   "cell_type": "markdown",
   "metadata": {
    "nteract": {
     "transient": {
      "deleting": false
     }
    }
   },
   "source": [
    "Here we are fetching the data from azure sql server,\n",
    "and storing that data in the varialble name df"
   ]
  },
  {
   "cell_type": "code",
   "execution_count": 6,
   "metadata": {
    "gather": {
     "logged": 1683094445798
    }
   },
   "outputs": [],
   "source": [
    "import pandas as pd\n",
    "import pyodbc\n",
    "\n",
    "# set up database connection\n",
    "server = 'saferalab1.database.windows.net'\n",
    "database = 'SaferaDB'\n",
    "username = 'SaferaUser'\n",
    "password = 'Safera@#$1'\n",
    "driver = '{ODBC Driver 17 for SQL Server}'\n",
    "conn = pyodbc.connect('DRIVER=' + driver + ';SERVER=' + server + ';DATABASE=' + database + ';UID=' + username + ';PWD=' + password)"
   ]
  },
  {
   "cell_type": "code",
   "execution_count": 7,
   "metadata": {
    "gather": {
     "logged": 1683094446003
    },
    "jupyter": {
     "outputs_hidden": false,
     "source_hidden": false
    },
    "nteract": {
     "transient": {
      "deleting": false
     }
    }
   },
   "outputs": [],
   "source": [
    "# execute SQL query\n",
    "cursor = conn.cursor()\n",
    "cursor.execute(\"SELECT TOP 5000 REPORT_DATE, OCC_DATE, REPORT_YEAR, REPORT_MONTH, REPORT_DAY, REPORT_DOY, REPORT_DOW, REPORT_HOUR, DIVISION, LOCATION_TYPE, PREMISES_TYPE, UCR_CODE, HOOD_158, NEIGHBOURHOOD_158, HOOD_140, NEIGHBOURHOOD_140, LONG_WGS84,LAT_WGS84, TimeofCrime, temp, conditions, MCI_CATEGORY FROM CrimeWeatherMerged;\")\n",
    "rows = cursor.fetchall()"
   ]
  },
  {
   "cell_type": "code",
   "execution_count": 8,
   "metadata": {
    "gather": {
     "logged": 1683094446203
    },
    "jupyter": {
     "outputs_hidden": false,
     "source_hidden": false
    },
    "nteract": {
     "transient": {
      "deleting": false
     }
    }
   },
   "outputs": [],
   "source": [
    "# create pandas DataFrame from results\n",
    "df = pd.DataFrame([tuple(row) for row in rows], columns=['REPORT_DATE', 'OCC_DATE', 'REPORT_YEAR', 'REPORT_MONTH', 'REPORT_DAY', 'REPORT_DOY', 'REPORT_DOW', 'REPORT_HOUR', 'DIVISION','LOCATION_TYPE','PREMISES_TYPE', 'UCR_CODE', 'HOOD_158','NEIGHBOURHOOD_158', 'HOOD_140','NEIGHBOURHOOD_140', 'LONG_WGS84','LAT_WGS84', 'TimeofCrime', 'temp', 'conditions', 'MCI_CATEGORY'])"
   ]
  },
  {
   "cell_type": "code",
   "execution_count": 9,
   "metadata": {
    "gather": {
     "logged": 1683094446416
    },
    "jupyter": {
     "outputs_hidden": false,
     "source_hidden": false
    },
    "nteract": {
     "transient": {
      "deleting": false
     }
    }
   },
   "outputs": [
    {
     "name": "stdout",
     "output_type": "stream",
     "text": [
      "  REPORT_DATE    OCC_DATE  REPORT_YEAR REPORT_MONTH  REPORT_DAY  REPORT_DOY  \\\n",
      "0  2019-05-17  2019-05-17         2019          May          17         137   \n",
      "1  2019-05-17  2018-05-18         2019          May          17         137   \n",
      "2  2019-05-17  2019-05-06         2019          May          17         137   \n",
      "3  2019-05-17  2019-05-17         2019          May          17         137   \n",
      "4  2019-05-17  2018-10-03         2019          May          17         137   \n",
      "\n",
      "   REPORT_DOW  REPORT_HOUR DIVISION  \\\n",
      "0  Friday               20      D13   \n",
      "1  Friday               17      D53   \n",
      "2  Friday               13      D14   \n",
      "3  Friday               20      D11   \n",
      "4  Friday               11      D41   \n",
      "\n",
      "                                       LOCATION_TYPE  ... HOOD_158  \\\n",
      "0  Streets, Roads, Highways (Bicycle Path, Privat...  ...    171.0   \n",
      "1                 Schools During Supervised Activity  ...     98.0   \n",
      "2                   Apartment (Rooming House, Condo)  ...    163.0   \n",
      "3  Single Home, House (Attach Garage, Cottage, Mo...  ...    114.0   \n",
      "4  Single Home, House (Attach Garage, Cottage, Mo...  ...    120.0   \n",
      "\n",
      "           NEIGHBOURHOOD_158  HOOD_140  \\\n",
      "0   Junction-Wallace Emerson      93.0   \n",
      "1        Rosedale-Moore Park      98.0   \n",
      "2  Fort York-Liberty Village      82.0   \n",
      "3         Lambton Baby Point     114.0   \n",
      "4        Clairlea-Birchmount     120.0   \n",
      "\n",
      "                          NEIGHBOURHOOD_140    LONG_WGS84    LAT_WGS84  \\\n",
      "0  Dovercourt-Wallace Emerson-Junction (93)   -79.4398858  43.67043851   \n",
      "1                  Rosedale-Moore Park (98)  -79.37866239    43.686909   \n",
      "2                              Niagara (82)   -79.4159317    43.639061   \n",
      "3                  Lambton Baby Point (114)  -79.49975931  43.65519602   \n",
      "4                 Clairlea-Birchmount (120)  -79.26396928  43.71398985   \n",
      "\n",
      "  TimeofCrime   temp              conditions     MCI_CATEGORY  \n",
      "0    04:00:00  13.60  Rain, Partially cloudy          Robbery  \n",
      "1    04:00:00  13.60  Rain, Partially cloudy          Assault  \n",
      "2    04:00:00  13.60  Rain, Partially cloudy  Break and Enter  \n",
      "3    04:00:00  13.60  Rain, Partially cloudy          Assault  \n",
      "4    04:00:00  13.60  Rain, Partially cloudy          Assault  \n",
      "\n",
      "[5 rows x 22 columns]\n"
     ]
    }
   ],
   "source": [
    "# print DataFrame\n",
    "print(df.head())"
   ]
  },
  {
   "cell_type": "code",
   "execution_count": 10,
   "metadata": {
    "gather": {
     "logged": 1683094446616
    },
    "jupyter": {
     "outputs_hidden": false,
     "source_hidden": false
    },
    "nteract": {
     "transient": {
      "deleting": false
     }
    }
   },
   "outputs": [],
   "source": [
    "# close database connection\n",
    "conn.close()"
   ]
  },
  {
   "cell_type": "markdown",
   "metadata": {
    "nteract": {
     "transient": {
      "deleting": false
     }
    }
   },
   "source": [
    "Now we will print our dataframe df to see the columns and its example values"
   ]
  },
  {
   "cell_type": "code",
   "execution_count": 11,
   "metadata": {
    "gather": {
     "logged": 1683094446862
    },
    "jupyter": {
     "outputs_hidden": false,
     "source_hidden": false
    },
    "nteract": {
     "transient": {
      "deleting": false
     }
    }
   },
   "outputs": [
    {
     "data": {
      "text/html": [
       "<div>\n",
       "<style scoped>\n",
       "    .dataframe tbody tr th:only-of-type {\n",
       "        vertical-align: middle;\n",
       "    }\n",
       "\n",
       "    .dataframe tbody tr th {\n",
       "        vertical-align: top;\n",
       "    }\n",
       "\n",
       "    .dataframe thead th {\n",
       "        text-align: right;\n",
       "    }\n",
       "</style>\n",
       "<table border=\"1\" class=\"dataframe\">\n",
       "  <thead>\n",
       "    <tr style=\"text-align: right;\">\n",
       "      <th></th>\n",
       "      <th>REPORT_DATE</th>\n",
       "      <th>OCC_DATE</th>\n",
       "      <th>REPORT_YEAR</th>\n",
       "      <th>REPORT_MONTH</th>\n",
       "      <th>REPORT_DAY</th>\n",
       "      <th>REPORT_DOY</th>\n",
       "      <th>REPORT_DOW</th>\n",
       "      <th>REPORT_HOUR</th>\n",
       "      <th>DIVISION</th>\n",
       "      <th>LOCATION_TYPE</th>\n",
       "      <th>...</th>\n",
       "      <th>HOOD_158</th>\n",
       "      <th>NEIGHBOURHOOD_158</th>\n",
       "      <th>HOOD_140</th>\n",
       "      <th>NEIGHBOURHOOD_140</th>\n",
       "      <th>LONG_WGS84</th>\n",
       "      <th>LAT_WGS84</th>\n",
       "      <th>TimeofCrime</th>\n",
       "      <th>temp</th>\n",
       "      <th>conditions</th>\n",
       "      <th>MCI_CATEGORY</th>\n",
       "    </tr>\n",
       "  </thead>\n",
       "  <tbody>\n",
       "    <tr>\n",
       "      <th>0</th>\n",
       "      <td>2019-05-17</td>\n",
       "      <td>2019-05-17</td>\n",
       "      <td>2019</td>\n",
       "      <td>May</td>\n",
       "      <td>17</td>\n",
       "      <td>137</td>\n",
       "      <td>Friday</td>\n",
       "      <td>20</td>\n",
       "      <td>D13</td>\n",
       "      <td>Streets, Roads, Highways (Bicycle Path, Privat...</td>\n",
       "      <td>...</td>\n",
       "      <td>171.0</td>\n",
       "      <td>Junction-Wallace Emerson</td>\n",
       "      <td>93.0</td>\n",
       "      <td>Dovercourt-Wallace Emerson-Junction (93)</td>\n",
       "      <td>-79.4398858</td>\n",
       "      <td>43.67043851</td>\n",
       "      <td>04:00:00</td>\n",
       "      <td>13.60</td>\n",
       "      <td>Rain, Partially cloudy</td>\n",
       "      <td>Robbery</td>\n",
       "    </tr>\n",
       "    <tr>\n",
       "      <th>1</th>\n",
       "      <td>2019-05-17</td>\n",
       "      <td>2018-05-18</td>\n",
       "      <td>2019</td>\n",
       "      <td>May</td>\n",
       "      <td>17</td>\n",
       "      <td>137</td>\n",
       "      <td>Friday</td>\n",
       "      <td>17</td>\n",
       "      <td>D53</td>\n",
       "      <td>Schools During Supervised Activity</td>\n",
       "      <td>...</td>\n",
       "      <td>98.0</td>\n",
       "      <td>Rosedale-Moore Park</td>\n",
       "      <td>98.0</td>\n",
       "      <td>Rosedale-Moore Park (98)</td>\n",
       "      <td>-79.37866239</td>\n",
       "      <td>43.686909</td>\n",
       "      <td>04:00:00</td>\n",
       "      <td>13.60</td>\n",
       "      <td>Rain, Partially cloudy</td>\n",
       "      <td>Assault</td>\n",
       "    </tr>\n",
       "    <tr>\n",
       "      <th>2</th>\n",
       "      <td>2019-05-17</td>\n",
       "      <td>2019-05-06</td>\n",
       "      <td>2019</td>\n",
       "      <td>May</td>\n",
       "      <td>17</td>\n",
       "      <td>137</td>\n",
       "      <td>Friday</td>\n",
       "      <td>13</td>\n",
       "      <td>D14</td>\n",
       "      <td>Apartment (Rooming House, Condo)</td>\n",
       "      <td>...</td>\n",
       "      <td>163.0</td>\n",
       "      <td>Fort York-Liberty Village</td>\n",
       "      <td>82.0</td>\n",
       "      <td>Niagara (82)</td>\n",
       "      <td>-79.4159317</td>\n",
       "      <td>43.639061</td>\n",
       "      <td>04:00:00</td>\n",
       "      <td>13.60</td>\n",
       "      <td>Rain, Partially cloudy</td>\n",
       "      <td>Break and Enter</td>\n",
       "    </tr>\n",
       "    <tr>\n",
       "      <th>3</th>\n",
       "      <td>2019-05-17</td>\n",
       "      <td>2019-05-17</td>\n",
       "      <td>2019</td>\n",
       "      <td>May</td>\n",
       "      <td>17</td>\n",
       "      <td>137</td>\n",
       "      <td>Friday</td>\n",
       "      <td>20</td>\n",
       "      <td>D11</td>\n",
       "      <td>Single Home, House (Attach Garage, Cottage, Mo...</td>\n",
       "      <td>...</td>\n",
       "      <td>114.0</td>\n",
       "      <td>Lambton Baby Point</td>\n",
       "      <td>114.0</td>\n",
       "      <td>Lambton Baby Point (114)</td>\n",
       "      <td>-79.49975931</td>\n",
       "      <td>43.65519602</td>\n",
       "      <td>04:00:00</td>\n",
       "      <td>13.60</td>\n",
       "      <td>Rain, Partially cloudy</td>\n",
       "      <td>Assault</td>\n",
       "    </tr>\n",
       "    <tr>\n",
       "      <th>4</th>\n",
       "      <td>2019-05-17</td>\n",
       "      <td>2018-10-03</td>\n",
       "      <td>2019</td>\n",
       "      <td>May</td>\n",
       "      <td>17</td>\n",
       "      <td>137</td>\n",
       "      <td>Friday</td>\n",
       "      <td>11</td>\n",
       "      <td>D41</td>\n",
       "      <td>Single Home, House (Attach Garage, Cottage, Mo...</td>\n",
       "      <td>...</td>\n",
       "      <td>120.0</td>\n",
       "      <td>Clairlea-Birchmount</td>\n",
       "      <td>120.0</td>\n",
       "      <td>Clairlea-Birchmount (120)</td>\n",
       "      <td>-79.26396928</td>\n",
       "      <td>43.71398985</td>\n",
       "      <td>04:00:00</td>\n",
       "      <td>13.60</td>\n",
       "      <td>Rain, Partially cloudy</td>\n",
       "      <td>Assault</td>\n",
       "    </tr>\n",
       "    <tr>\n",
       "      <th>...</th>\n",
       "      <td>...</td>\n",
       "      <td>...</td>\n",
       "      <td>...</td>\n",
       "      <td>...</td>\n",
       "      <td>...</td>\n",
       "      <td>...</td>\n",
       "      <td>...</td>\n",
       "      <td>...</td>\n",
       "      <td>...</td>\n",
       "      <td>...</td>\n",
       "      <td>...</td>\n",
       "      <td>...</td>\n",
       "      <td>...</td>\n",
       "      <td>...</td>\n",
       "      <td>...</td>\n",
       "      <td>...</td>\n",
       "      <td>...</td>\n",
       "      <td>...</td>\n",
       "      <td>...</td>\n",
       "      <td>...</td>\n",
       "      <td>...</td>\n",
       "    </tr>\n",
       "    <tr>\n",
       "      <th>4995</th>\n",
       "      <td>2022-10-08</td>\n",
       "      <td>2022-10-08</td>\n",
       "      <td>2022</td>\n",
       "      <td>October</td>\n",
       "      <td>8</td>\n",
       "      <td>281</td>\n",
       "      <td>Saturday</td>\n",
       "      <td>4</td>\n",
       "      <td>D53</td>\n",
       "      <td>Apartment (Rooming House, Condo)</td>\n",
       "      <td>...</td>\n",
       "      <td>98.0</td>\n",
       "      <td>Rosedale-Moore Park</td>\n",
       "      <td>98.0</td>\n",
       "      <td>Rosedale-Moore Park (98)</td>\n",
       "      <td>-79.39038878</td>\n",
       "      <td>43.68556192</td>\n",
       "      <td>04:00:00</td>\n",
       "      <td>8.00</td>\n",
       "      <td>Partially cloudy</td>\n",
       "      <td>Assault</td>\n",
       "    </tr>\n",
       "    <tr>\n",
       "      <th>4996</th>\n",
       "      <td>2022-10-08</td>\n",
       "      <td>2022-10-08</td>\n",
       "      <td>2022</td>\n",
       "      <td>October</td>\n",
       "      <td>8</td>\n",
       "      <td>281</td>\n",
       "      <td>Saturday</td>\n",
       "      <td>6</td>\n",
       "      <td>D51</td>\n",
       "      <td>Apartment (Rooming House, Condo)</td>\n",
       "      <td>...</td>\n",
       "      <td>74.0</td>\n",
       "      <td>North St.James Town</td>\n",
       "      <td>74.0</td>\n",
       "      <td>North St.James Town (74)</td>\n",
       "      <td>-79.37444449</td>\n",
       "      <td>43.66886302</td>\n",
       "      <td>04:00:00</td>\n",
       "      <td>8.00</td>\n",
       "      <td>Partially cloudy</td>\n",
       "      <td>Assault</td>\n",
       "    </tr>\n",
       "    <tr>\n",
       "      <th>4997</th>\n",
       "      <td>2022-10-08</td>\n",
       "      <td>2022-10-08</td>\n",
       "      <td>2022</td>\n",
       "      <td>October</td>\n",
       "      <td>8</td>\n",
       "      <td>281</td>\n",
       "      <td>Saturday</td>\n",
       "      <td>8</td>\n",
       "      <td>D12</td>\n",
       "      <td>Apartment (Rooming House, Condo)</td>\n",
       "      <td>...</td>\n",
       "      <td>30.0</td>\n",
       "      <td>Brookhaven-Amesbury</td>\n",
       "      <td>30.0</td>\n",
       "      <td>Brookhaven-Amesbury (30)</td>\n",
       "      <td>-79.49994322</td>\n",
       "      <td>43.69830643</td>\n",
       "      <td>04:00:00</td>\n",
       "      <td>8.00</td>\n",
       "      <td>Partially cloudy</td>\n",
       "      <td>Assault</td>\n",
       "    </tr>\n",
       "    <tr>\n",
       "      <th>4998</th>\n",
       "      <td>2022-10-08</td>\n",
       "      <td>2022-10-08</td>\n",
       "      <td>2022</td>\n",
       "      <td>October</td>\n",
       "      <td>8</td>\n",
       "      <td>281</td>\n",
       "      <td>Saturday</td>\n",
       "      <td>6</td>\n",
       "      <td>D42</td>\n",
       "      <td>Other Commercial / Corporate Places (For Profi...</td>\n",
       "      <td>...</td>\n",
       "      <td>144.0</td>\n",
       "      <td>Morningside Heights</td>\n",
       "      <td>131.0</td>\n",
       "      <td>Rouge (131)</td>\n",
       "      <td>-79.23154584</td>\n",
       "      <td>43.82005862</td>\n",
       "      <td>04:00:00</td>\n",
       "      <td>8.00</td>\n",
       "      <td>Partially cloudy</td>\n",
       "      <td>Assault</td>\n",
       "    </tr>\n",
       "    <tr>\n",
       "      <th>4999</th>\n",
       "      <td>2022-10-08</td>\n",
       "      <td>2022-10-08</td>\n",
       "      <td>2022</td>\n",
       "      <td>October</td>\n",
       "      <td>8</td>\n",
       "      <td>281</td>\n",
       "      <td>Saturday</td>\n",
       "      <td>9</td>\n",
       "      <td>D22</td>\n",
       "      <td>Jails / Detention Centres</td>\n",
       "      <td>...</td>\n",
       "      <td>160.0</td>\n",
       "      <td>Mimico-Queensway</td>\n",
       "      <td>17.0</td>\n",
       "      <td>Mimico (includes Humber Bay Shores) (17)</td>\n",
       "      <td>-79.51475467</td>\n",
       "      <td>43.60920598</td>\n",
       "      <td>04:00:00</td>\n",
       "      <td>8.00</td>\n",
       "      <td>Partially cloudy</td>\n",
       "      <td>Assault</td>\n",
       "    </tr>\n",
       "  </tbody>\n",
       "</table>\n",
       "<p>5000 rows × 22 columns</p>\n",
       "</div>"
      ],
      "text/plain": [
       "     REPORT_DATE    OCC_DATE  REPORT_YEAR REPORT_MONTH  REPORT_DAY  \\\n",
       "0     2019-05-17  2019-05-17         2019          May          17   \n",
       "1     2019-05-17  2018-05-18         2019          May          17   \n",
       "2     2019-05-17  2019-05-06         2019          May          17   \n",
       "3     2019-05-17  2019-05-17         2019          May          17   \n",
       "4     2019-05-17  2018-10-03         2019          May          17   \n",
       "...          ...         ...          ...          ...         ...   \n",
       "4995  2022-10-08  2022-10-08         2022      October           8   \n",
       "4996  2022-10-08  2022-10-08         2022      October           8   \n",
       "4997  2022-10-08  2022-10-08         2022      October           8   \n",
       "4998  2022-10-08  2022-10-08         2022      October           8   \n",
       "4999  2022-10-08  2022-10-08         2022      October           8   \n",
       "\n",
       "      REPORT_DOY  REPORT_DOW  REPORT_HOUR DIVISION  \\\n",
       "0            137  Friday               20      D13   \n",
       "1            137  Friday               17      D53   \n",
       "2            137  Friday               13      D14   \n",
       "3            137  Friday               20      D11   \n",
       "4            137  Friday               11      D41   \n",
       "...          ...         ...          ...      ...   \n",
       "4995         281  Saturday              4      D53   \n",
       "4996         281  Saturday              6      D51   \n",
       "4997         281  Saturday              8      D12   \n",
       "4998         281  Saturday              6      D42   \n",
       "4999         281  Saturday              9      D22   \n",
       "\n",
       "                                          LOCATION_TYPE  ... HOOD_158  \\\n",
       "0     Streets, Roads, Highways (Bicycle Path, Privat...  ...    171.0   \n",
       "1                    Schools During Supervised Activity  ...     98.0   \n",
       "2                      Apartment (Rooming House, Condo)  ...    163.0   \n",
       "3     Single Home, House (Attach Garage, Cottage, Mo...  ...    114.0   \n",
       "4     Single Home, House (Attach Garage, Cottage, Mo...  ...    120.0   \n",
       "...                                                 ...  ...      ...   \n",
       "4995                   Apartment (Rooming House, Condo)  ...     98.0   \n",
       "4996                   Apartment (Rooming House, Condo)  ...     74.0   \n",
       "4997                   Apartment (Rooming House, Condo)  ...     30.0   \n",
       "4998  Other Commercial / Corporate Places (For Profi...  ...    144.0   \n",
       "4999                          Jails / Detention Centres  ...    160.0   \n",
       "\n",
       "              NEIGHBOURHOOD_158  HOOD_140  \\\n",
       "0      Junction-Wallace Emerson      93.0   \n",
       "1           Rosedale-Moore Park      98.0   \n",
       "2     Fort York-Liberty Village      82.0   \n",
       "3            Lambton Baby Point     114.0   \n",
       "4           Clairlea-Birchmount     120.0   \n",
       "...                         ...       ...   \n",
       "4995        Rosedale-Moore Park      98.0   \n",
       "4996        North St.James Town      74.0   \n",
       "4997        Brookhaven-Amesbury      30.0   \n",
       "4998        Morningside Heights     131.0   \n",
       "4999           Mimico-Queensway      17.0   \n",
       "\n",
       "                             NEIGHBOURHOOD_140    LONG_WGS84    LAT_WGS84  \\\n",
       "0     Dovercourt-Wallace Emerson-Junction (93)   -79.4398858  43.67043851   \n",
       "1                     Rosedale-Moore Park (98)  -79.37866239    43.686909   \n",
       "2                                 Niagara (82)   -79.4159317    43.639061   \n",
       "3                     Lambton Baby Point (114)  -79.49975931  43.65519602   \n",
       "4                    Clairlea-Birchmount (120)  -79.26396928  43.71398985   \n",
       "...                                        ...           ...          ...   \n",
       "4995                  Rosedale-Moore Park (98)  -79.39038878  43.68556192   \n",
       "4996                  North St.James Town (74)  -79.37444449  43.66886302   \n",
       "4997                  Brookhaven-Amesbury (30)  -79.49994322  43.69830643   \n",
       "4998                               Rouge (131)  -79.23154584  43.82005862   \n",
       "4999  Mimico (includes Humber Bay Shores) (17)  -79.51475467  43.60920598   \n",
       "\n",
       "     TimeofCrime   temp              conditions     MCI_CATEGORY  \n",
       "0       04:00:00  13.60  Rain, Partially cloudy          Robbery  \n",
       "1       04:00:00  13.60  Rain, Partially cloudy          Assault  \n",
       "2       04:00:00  13.60  Rain, Partially cloudy  Break and Enter  \n",
       "3       04:00:00  13.60  Rain, Partially cloudy          Assault  \n",
       "4       04:00:00  13.60  Rain, Partially cloudy          Assault  \n",
       "...          ...    ...                     ...              ...  \n",
       "4995    04:00:00   8.00        Partially cloudy          Assault  \n",
       "4996    04:00:00   8.00        Partially cloudy          Assault  \n",
       "4997    04:00:00   8.00        Partially cloudy          Assault  \n",
       "4998    04:00:00   8.00        Partially cloudy          Assault  \n",
       "4999    04:00:00   8.00        Partially cloudy          Assault  \n",
       "\n",
       "[5000 rows x 22 columns]"
      ]
     },
     "execution_count": 11,
     "metadata": {},
     "output_type": "execute_result"
    }
   ],
   "source": [
    "df"
   ]
  },
  {
   "cell_type": "code",
   "execution_count": 12,
   "metadata": {
    "gather": {
     "logged": 1683094447064
    },
    "jupyter": {
     "outputs_hidden": false,
     "source_hidden": false
    },
    "nteract": {
     "transient": {
      "deleting": false
     }
    }
   },
   "outputs": [],
   "source": [
    "# # Saving the df into a csv file\n",
    "# df.to_csv('5000_CrimeWeatherMerged.csv')"
   ]
  },
  {
   "cell_type": "markdown",
   "metadata": {
    "nteract": {
     "transient": {
      "deleting": false
     }
    }
   },
   "source": [
    "# **Dataset Details:**"
   ]
  },
  {
   "cell_type": "markdown",
   "metadata": {
    "nteract": {
     "transient": {
      "deleting": false
     }
    }
   },
   "source": [
    "**Below is the dataset information:**\n",
    "\n",
    "**1: REPORT_DATE :** Date on which the Offence/crime was reported\n",
    "\n",
    "**2: OCC_DATE :** Date on which the Offence/crime was occurred\n",
    "\n",
    "**3: REPORT_YEAR :** Year Offence was Reported\n",
    "\n",
    "**4: REPORT_MONTH :** Month Offence was Reported\n",
    "\n",
    "**5: REPORT_DAY :** Day of the Month Offence was Reported\n",
    "\n",
    "**6: REPORT_DOY :** Day of the Year Offence was Reported\n",
    "\n",
    "**7: REPORT_DOW :** Day of the Week Offence was Reported\n",
    "\n",
    "**8: REPORT_HOUR :** Hour Offence was Reported\n",
    "\n",
    "**9: DIVISION :** Police Division where Offence Occurred\n",
    "\n",
    "**10: LOCATION_TYPE :** Location Type of Offence\n",
    "\n",
    "**11: PREMISES_TYPE :** Premises Type of Offence\n",
    "\n",
    "**12: UCR_CODE :** Uniform Crime Reporting (UCR) Code for Offence\n",
    "\n",
    "**13: HOOD_158 :** Identifier of Neighbourhood using City of Toronto's\n",
    "                   new 158 neighbourhood structure\n",
    "\n",
    "**14: NEIGHBOURHOOD_158 :** Name of Neighbourhood using City of    Toronto's new 158 neighbourhood structure\n",
    "\n",
    "**15: HOOD_140 :** Identifier of Neighbourhood using City of Toronto's old\n",
    "140 neighbourhood structure\n",
    "\n",
    "**16: NEIGHBOURHOOD_140 :** Name of Neighbourhood using City of Toronto's old 140 neighbourhood structure\n",
    "\n",
    "**17: LONG_WGS84 :** Longitude Coordinates (Offset to nearest intersection)\n",
    "\n",
    "**18: LAT_WGS84 :** Latitude Coordinates (Offset to nearest intersection)\n",
    "\n",
    "**19: TimeofCrime :** Time of the Offence/crime\n",
    "\n",
    "**20: temp :** Temperature of the location\n",
    "\n",
    "**21: conditions :** Weather condition of the location\n",
    "\n",
    "**22: MCI_CATEGORY (Target Column):** Type of crime. In the dataset, we have 5 categories categorised by MCI (Model Crime Investigators)\n",
    "\n",
    "* a: Assault\n",
    "* b: Break and Enter\n",
    "* c: Auto Theft\n",
    "* d: Robbery\n",
    "* e: Theft Over\n",
    "         "
   ]
  },
  {
   "cell_type": "markdown",
   "metadata": {
    "nteract": {
     "transient": {
      "deleting": false
     }
    }
   },
   "source": [
    "# **3. Import the Required Libraries**"
   ]
  },
  {
   "cell_type": "code",
   "execution_count": 13,
   "metadata": {
    "gather": {
     "logged": 1683094447275
    },
    "jupyter": {
     "outputs_hidden": false,
     "source_hidden": false
    },
    "nteract": {
     "transient": {
      "deleting": false
     }
    }
   },
   "outputs": [],
   "source": [
    "import pandas as pd\n",
    "from azureml.core import Dataset\n",
    "from datetime import datetime\n",
    "from dateutil.relativedelta import relativedelta"
   ]
  },
  {
   "cell_type": "markdown",
   "metadata": {
    "nteract": {
     "transient": {
      "deleting": false
     }
    }
   },
   "source": [
    "# **4. Configure workspace**"
   ]
  },
  {
   "cell_type": "code",
   "execution_count": 14,
   "metadata": {
    "gather": {
     "logged": 1683094447478
    },
    "jupyter": {
     "outputs_hidden": false,
     "source_hidden": false
    },
    "nteract": {
     "transient": {
      "deleting": false
     }
    }
   },
   "outputs": [],
   "source": [
    "from azureml.core.workspace import Workspace\n",
    "ws = Workspace.from_config()"
   ]
  },
  {
   "cell_type": "markdown",
   "metadata": {
    "nteract": {
     "transient": {
      "deleting": false
     }
    }
   },
   "source": [
    "# **5. Split the data into train and test sets**"
   ]
  },
  {
   "cell_type": "code",
   "execution_count": 15,
   "metadata": {
    "gather": {
     "logged": 1683094447712
    },
    "jupyter": {
     "outputs_hidden": false,
     "source_hidden": false
    },
    "nteract": {
     "transient": {
      "deleting": false
     }
    }
   },
   "outputs": [],
   "source": [
    "from sklearn.model_selection import train_test_split\n",
    "x_train, x_test = train_test_split(df, test_size=0.2, random_state=223)"
   ]
  },
  {
   "cell_type": "markdown",
   "metadata": {
    "nteract": {
     "transient": {
      "deleting": false
     }
    }
   },
   "source": [
    "here, we Split the data into training and test sets by using the train_test_split function.\n",
    "\n",
    "x_train = the data on which we are going to train our Machine Learning Model\n",
    "\n",
    "x_test = the data on which we weill test our trained model\n",
    "\n",
    "In other words, a well-trained model should be able to accurately make predictions from data it hasn't already seen. You now have data prepared for auto-training a machine learning model.\n"
   ]
  },
  {
   "cell_type": "markdown",
   "metadata": {
    "nteract": {
     "transient": {
      "deleting": false
     }
    }
   },
   "source": [
    "# **6. Automatically train a model**"
   ]
  },
  {
   "cell_type": "markdown",
   "metadata": {
    "nteract": {
     "transient": {
      "deleting": false
     }
    }
   },
   "source": [
    "## **i) Define training settings**\n",
    "Below are the training settings we have to pass, before the training of Automatic Machine Learning"
   ]
  },
  {
   "cell_type": "code",
   "execution_count": 16,
   "metadata": {
    "gather": {
     "logged": 1683094447911
    },
    "jupyter": {
     "outputs_hidden": false,
     "source_hidden": false
    },
    "nteract": {
     "transient": {
      "deleting": false
     }
    }
   },
   "outputs": [],
   "source": [
    "import logging\n",
    "\n",
    "automl_settings = {\n",
    "    \"iteration_timeout_minutes\": 5,\n",
    "    \"experiment_timeout_hours\": 0.25,\n",
    "    \"enable_early_stopping\": True,\n",
    "    \"primary_metric\": 'AUC_weighted',\n",
    "    \"featurization\": 'auto',\n",
    "    \"verbosity\": logging.INFO,\n",
    "    \"n_cross_validations\": 2\n",
    "    }"
   ]
  },
  {
   "cell_type": "code",
   "execution_count": 17,
   "metadata": {
    "gather": {
     "logged": 1683094448142
    },
    "jupyter": {
     "outputs_hidden": false,
     "source_hidden": false
    },
    "nteract": {
     "transient": {
      "deleting": false
     }
    }
   },
   "outputs": [],
   "source": [
    "from azureml.train.automl import AutoMLConfig\n",
    "\n",
    "automl_config = AutoMLConfig(task='classification',\n",
    "                             debug_log='automated_ml_errors.log',\n",
    "                             training_data=x_train,\n",
    "                             label_column_name=\"MCI_CATEGORY\",\n",
    "                             **automl_settings)"
   ]
  },
  {
   "cell_type": "markdown",
   "metadata": {
    "nteract": {
     "transient": {
      "deleting": false
     }
    }
   },
   "source": [
    "It is the classifiction model.\n",
    "Clasiification - predicting for Target column which have categorical values\n",
    "\n",
    "For Example:\n",
    "\n",
    "1. YES/NO, 0/1 - it is a Binary class classification\n",
    "2. High/Medium/Low/very Low - it is a Multiclass classification\n",
    "\n",
    "In our model, we have multiple crime categories that we want to predict. Therefore, our model is multiclass classification model.\n"
   ]
  },
  {
   "cell_type": "markdown",
   "metadata": {
    "nteract": {
     "transient": {
      "deleting": false
     }
    }
   },
   "source": [
    "## **ii) Train the automatic Classification model**\n",
    "(Automatic Machine Learning will take 18-22 minutes for its completion)"
   ]
  },
  {
   "cell_type": "code",
   "execution_count": 19,
   "metadata": {
    "gather": {
     "logged": 1683094315166
    },
    "jupyter": {
     "outputs_hidden": false,
     "source_hidden": false
    },
    "nteract": {
     "transient": {
      "deleting": false
     }
    }
   },
   "outputs": [
    {
     "name": "stdout",
     "output_type": "stream",
     "text": [
      "No run_configuration provided, running on local with default configuration\n"
     ]
    }
   ],
   "source": [
    "from azureml.core.experiment import Experiment\n",
    "experiment = Experiment(ws, \"Crime-type-classification\")\n",
    "local_run = experiment.submit(automl_config, show_output=True)"
   ]
  },
  {
   "cell_type": "code",
   "execution_count": 20,
   "metadata": {
    "gather": {
     "logged": 1683095949094
    },
    "jupyter": {
     "outputs_hidden": false,
     "source_hidden": false
    },
    "nteract": {
     "transient": {
      "deleting": false
     }
    }
   },
   "outputs": [],
   "source": [
    "best_run, fitted_model = local_run.get_output()"
   ]
  },
  {
   "cell_type": "code",
   "execution_count": 21,
   "metadata": {
    "gather": {
     "logged": 1683095962486
    },
    "jupyter": {
     "outputs_hidden": false,
     "source_hidden": false
    },
    "nteract": {
     "transient": {
      "deleting": false
     }
    }
   },
   "outputs": [
    {
     "name": "stdout",
     "output_type": "stream",
     "text": [
      "Run(Experiment: Crime-type-classification,\n",
      "Id: AutoML_253f0aa9-e93d-4b30-938a-d817e2862d44_16,\n",
      "Type: None,\n",
      "Status: Completed)\n"
     ]
    }
   ],
   "source": [
    "print(best_run)"
   ]
  },
  {
   "cell_type": "code",
   "execution_count": 22,
   "metadata": {
    "gather": {
     "logged": 1683095989202
    },
    "jupyter": {
     "outputs_hidden": false,
     "source_hidden": false
    },
    "nteract": {
     "transient": {
      "deleting": false
     }
    }
   },
   "outputs": [
    {
     "name": "stdout",
     "output_type": "stream",
     "text": [
      "Pipeline(memory=None,\n",
      "         steps=[('datatransformer',\n",
      "                 DataTransformer(enable_dnn=False, enable_feature_sweeping=True, feature_sweeping_config={}, feature_sweeping_timeout=86400, featurization_config=None, force_text_dnn=False, is_cross_validation=True, is_onnx_compatible=False, observer=None, task='classification', working_dir='/mnt/batch/tasks/shared/LS_root/mount..._Model')),\n",
      "                ('MaxAbsScaler', MaxAbsScaler(copy=True)),\n",
      "                ('LogisticRegression',\n",
      "                 LogisticRegression(C=4714.8663634573895,\n",
      "                                    class_weight='balanced', dual=False,\n",
      "                                    fit_intercept=True, intercept_scaling=1,\n",
      "                                    l1_ratio=None, max_iter=100,\n",
      "                                    multi_class='multinomial', n_jobs=1,\n",
      "                                    penalty='l2', random_state=None,\n",
      "                                    solver='lbfgs', tol=0.0001, verbose=0,\n",
      "                                    warm_start=False))],\n",
      "         verbose=False)\n",
      "Y_transformer(['LabelEncoder', LabelEncoder()])\n"
     ]
    }
   ],
   "source": [
    "print(fitted_model)"
   ]
  },
  {
   "cell_type": "code",
   "execution_count": 23,
   "metadata": {
    "gather": {
     "logged": 1683096011039
    },
    "jupyter": {
     "outputs_hidden": false,
     "source_hidden": false
    },
    "nteract": {
     "transient": {
      "deleting": false
     }
    }
   },
   "outputs": [
    {
     "name": "stdout",
     "output_type": "stream",
     "text": [
      "LogisticRegression\n"
     ]
    }
   ],
   "source": [
    "print(fitted_model.steps[-1][1].__class__.__name__)"
   ]
  },
  {
   "cell_type": "markdown",
   "metadata": {
    "nteract": {
     "transient": {
      "deleting": false
     }
    }
   },
   "source": [
    "MaxAbsScaler is selected by AutoML and is used for scaling the data and LogisticRegression is the best model selected by AutoML. It is a type statistical model (also known as logit model) is often used for classification and predictive analytics.\n",
    "\n",
    "LogisticRegression can be used for both binary as well as multiclass classification type of problems. For Multiclass type of classification it uses techniques in the background like \n",
    "\n",
    "1: One-vs-Rest (OvR)\n",
    "\n",
    "2: Softmax Regression (Multinomial Logistic Regression)\n",
    "\n",
    "3: One vs One(OvO)\n",
    "\n",
    "And these we can give as a parameter while creating a object of the LogisticRegression. But, over here AutoML is automatically doing this job for us.\n",
    "\n"
   ]
  },
  {
   "cell_type": "markdown",
   "metadata": {
    "nteract": {
     "transient": {
      "deleting": false
     }
    }
   },
   "source": [
    "# **7. Test the model accuracy**"
   ]
  },
  {
   "cell_type": "markdown",
   "metadata": {
    "nteract": {
     "transient": {
      "deleting": false
     }
    }
   },
   "source": [
    "y_predict is a variable which gives predictions on our X_test data"
   ]
  },
  {
   "cell_type": "code",
   "execution_count": 24,
   "metadata": {
    "gather": {
     "logged": 1683096199602
    },
    "jupyter": {
     "outputs_hidden": false,
     "source_hidden": false
    },
    "nteract": {
     "transient": {
      "deleting": false
     }
    }
   },
   "outputs": [],
   "source": [
    "y_test = x_test.pop(\"MCI_CATEGORY\")\n",
    "y_predict = fitted_model.predict(x_test)"
   ]
  },
  {
   "cell_type": "code",
   "execution_count": 25,
   "metadata": {
    "gather": {
     "logged": 1683096217274
    },
    "jupyter": {
     "outputs_hidden": false,
     "source_hidden": false
    },
    "nteract": {
     "transient": {
      "deleting": false
     }
    }
   },
   "outputs": [
    {
     "name": "stdout",
     "output_type": "stream",
     "text": [
      "['Break and Enter' 'Assault' 'Assault' 'Break and Enter' 'Assault'\n",
      " 'Assault' 'Break and Enter' 'Auto Theft' 'Theft Over' 'Break and Enter'\n",
      " 'Assault' 'Assault' 'Break and Enter' 'Assault' 'Assault'\n",
      " 'Break and Enter' 'Assault' 'Auto Theft' 'Assault' 'Robbery']\n"
     ]
    }
   ],
   "source": [
    "print(y_predict[:20])"
   ]
  },
  {
   "cell_type": "code",
   "execution_count": 68,
   "metadata": {
    "gather": {
     "logged": 1683107351250
    },
    "jupyter": {
     "outputs_hidden": false,
     "source_hidden": false
    },
    "nteract": {
     "transient": {
      "deleting": false
     }
    }
   },
   "outputs": [],
   "source": [
    "# # Saving the predictions in csv file\n",
    "# y_predict_Series = pd.Series(y_predict)\n",
    "# y_predict_Series.to_csv(\"Predictions_Crime_Type.csv\")"
   ]
  },
  {
   "cell_type": "code",
   "execution_count": 28,
   "metadata": {
    "gather": {
     "logged": 1683096289640
    },
    "jupyter": {
     "outputs_hidden": false,
     "source_hidden": false
    },
    "nteract": {
     "transient": {
      "deleting": false
     }
    }
   },
   "outputs": [
    {
     "name": "stdout",
     "output_type": "stream",
     "text": [
      "['Break and Enter', 'Assault', 'Assault', 'Break and Enter', 'Assault', 'Assault', 'Break and Enter', 'Auto Theft', 'Theft Over', 'Break and Enter', 'Assault', 'Assault', 'Break and Enter', 'Assault', 'Assault', 'Break and Enter', 'Assault', 'Auto Theft', 'Assault', 'Robbery']\n"
     ]
    }
   ],
   "source": [
    "y_actual = y_test.values.flatten().tolist()\n",
    "print(y_actual[:20])"
   ]
  },
  {
   "cell_type": "code",
   "execution_count": 32,
   "metadata": {
    "gather": {
     "logged": 1683096462339
    },
    "jupyter": {
     "outputs_hidden": false,
     "source_hidden": false
    },
    "nteract": {
     "transient": {
      "deleting": false
     }
    }
   },
   "outputs": [
    {
     "name": "stdout",
     "output_type": "stream",
     "text": [
      "Weighted AUC-ROC: 100.0\n"
     ]
    }
   ],
   "source": [
    "from sklearn.metrics import accuracy_score, precision_score, recall_score, f1_score, roc_auc_score, confusion_matrix, cohen_kappa_score\n",
    "from math import sqrt\n",
    "from sklearn.preprocessing import LabelEncoder\n",
    "from tensorflow.keras.utils import to_categorical\n",
    "\n",
    "# encode categorical labels as numerical values\n",
    "label_encoder = LabelEncoder()\n",
    "y_actual_encoded = label_encoder.fit_transform(y_actual)\n",
    "y_predict_encoded = label_encoder.transform(y_predict)\n",
    "\n",
    "# convert y_predict_encoded to one-hot encoded format\n",
    "n_classes = len(label_encoder.classes_)\n",
    "y_predict_encoded = to_categorical(y_predict_encoded, num_classes=n_classes)\n",
    "\n",
    "# calculate weighted AUC-ROC score\n",
    "weighted_auc = roc_auc_score(y_actual_encoded, y_predict_encoded, average=\"weighted\", multi_class=\"ovr\")\n",
    "print(\"Weighted AUC-ROC:\", weighted_auc*100)"
   ]
  },
  {
   "cell_type": "code",
   "execution_count": 31,
   "metadata": {
    "gather": {
     "logged": 1683096401233
    },
    "jupyter": {
     "outputs_hidden": false,
     "source_hidden": false
    },
    "nteract": {
     "transient": {
      "deleting": false
     }
    }
   },
   "outputs": [
    {
     "name": "stdout",
     "output_type": "stream",
     "text": [
      "Accuracy: 100.0\n"
     ]
    }
   ],
   "source": [
    "accuracy = accuracy_score(y_actual, y_predict)\n",
    "print(\"Accuracy:\", accuracy*100)"
   ]
  },
  {
   "cell_type": "markdown",
   "metadata": {
    "nteract": {
     "transient": {
      "deleting": false
     }
    }
   },
   "source": [
    "Weighted AUC-ROC & Accuracy are the accuracy metrics used for testing the model here. And both are giving good results.\n"
   ]
  },
  {
   "cell_type": "code",
   "execution_count": 69,
   "metadata": {
    "gather": {
     "logged": 1683119533932
    },
    "jupyter": {
     "outputs_hidden": false,
     "source_hidden": false
    },
    "nteract": {
     "transient": {
      "deleting": false
     }
    }
   },
   "outputs": [],
   "source": [
    "# # Saving the model\n",
    "# import pickle\n",
    "# with open('classification_model.pkl','wb') as file:\n",
    "#     pickle.dump(fitted_model,file)"
   ]
  },
  {
   "cell_type": "markdown",
   "metadata": {
    "nteract": {
     "transient": {
      "deleting": false
     }
    }
   },
   "source": [
    "# **8. Predictions**"
   ]
  },
  {
   "cell_type": "markdown",
   "metadata": {
    "nteract": {
     "transient": {
      "deleting": false
     }
    }
   },
   "source": [
    "### **Case : 1**"
   ]
  },
  {
   "cell_type": "markdown",
   "metadata": {
    "nteract": {
     "transient": {
      "deleting": false
     }
    }
   },
   "source": [
    "### **i) Pass the input value**"
   ]
  },
  {
   "cell_type": "markdown",
   "metadata": {
    "nteract": {
     "transient": {
      "deleting": false
     }
    }
   },
   "source": [
    "Now we will do the predictions using the fitted model, for the input value given by you."
   ]
  },
  {
   "cell_type": "code",
   "execution_count": 45,
   "metadata": {
    "gather": {
     "logged": 1683100784023
    },
    "jupyter": {
     "outputs_hidden": false,
     "source_hidden": false
    },
    "nteract": {
     "transient": {
      "deleting": false
     }
    }
   },
   "outputs": [],
   "source": [
    "# input values are as follows\n",
    "REPORT_DATE_val = '2022-10-02'\n",
    "OCC_DATE_val = '2022-09-29'\n",
    "REPORT_YEAR_val = 2022\n",
    "REPORT_MONTH_val = 'October'\n",
    "REPORT_DAY_val = 2\n",
    "REPORT_DOY_val = 275\n",
    "REPORT_DOW_val = 'Sunday'\n",
    "REPORT_HOUR_val = 7\n",
    "DIVISION_val = 'D23'\n",
    "LOCATION_TYPE_val = 'Apartment (Rooming House, Condo)'\n",
    "PREMISES_TYPE_val = 'Apartment'\n",
    "UCR_CODE_val = 2120\n",
    "HOOD_158_val = 1.00\n",
    "NEIGHBOURHOOD_158_val = 'West Humber-Clairville'\n",
    "HOOD_140_val = 1.00\n",
    "NEIGHBOURHOOD_140_val = 'West Humber-Clairville (1)'\n",
    "LONG_WGS84_val = '-79.57607714'\n",
    "LAT_WGS84_val = '43.72864324'\n",
    "TimeofCrime_val = '04:00:00'\n",
    "temp_val = 11.80\n",
    "conditions_val = 'Clear'"
   ]
  },
  {
   "cell_type": "code",
   "execution_count": 46,
   "metadata": {
    "gather": {
     "logged": 1683101327239
    },
    "jupyter": {
     "outputs_hidden": false,
     "source_hidden": false
    },
    "nteract": {
     "transient": {
      "deleting": false
     }
    }
   },
   "outputs": [],
   "source": [
    "input_data = pd.DataFrame({'REPORT_DATE':[REPORT_DATE_val],\n",
    "                            'OCC_DATE': [OCC_DATE_val],\n",
    "                            'REPORT_YEAR':[REPORT_YEAR_val],\n",
    "                            'REPORT_MONTH':[REPORT_MONTH_val],\n",
    "                            'REPORT_DAY':[REPORT_DAY_val],\n",
    "                            'REPORT_DOY':[REPORT_DOY_val],\n",
    "                            'REPORT_DOW':[REPORT_DOW_val],\n",
    "                            'REPORT_HOUR':[REPORT_HOUR_val],\n",
    "                            'DIVISION':[DIVISION_val],\n",
    "                            'LOCATION_TYPE':[LOCATION_TYPE_val],\n",
    "                            'PREMISES_TYPE':[PREMISES_TYPE_val],\n",
    "                            'UCR_CODE':[UCR_CODE_val],\n",
    "                            'HOOD_158':[HOOD_158_val],\n",
    "                            'NEIGHBOURHOOD_158':[NEIGHBOURHOOD_158_val],\n",
    "                            'HOOD_140':[HOOD_140_val],\n",
    "                            'NEIGHBOURHOOD_140':[NEIGHBOURHOOD_140_val],\n",
    "                            'LONG_WGS84':[LONG_WGS84_val],\n",
    "                            'LAT_WGS84':[LAT_WGS84_val],\n",
    "                            'TimeofCrime':[TimeofCrime_val],\n",
    "                            'temp':[temp_val],\n",
    "                            'conditions':[conditions_val]\n",
    "                           })"
   ]
  },
  {
   "cell_type": "markdown",
   "metadata": {
    "nteract": {
     "transient": {
      "deleting": false
     }
    }
   },
   "source": [
    "## **ii) Get the Results**"
   ]
  },
  {
   "cell_type": "code",
   "execution_count": 51,
   "metadata": {
    "gather": {
     "logged": 1683101772168
    },
    "jupyter": {
     "outputs_hidden": false,
     "source_hidden": false
    },
    "nteract": {
     "transient": {
      "deleting": false
     }
    }
   },
   "outputs": [
    {
     "name": "stdout",
     "output_type": "stream",
     "text": [
      "The expected crime that can happen at Apartment (Rooming House, Condo) on 2022-10-02 time as 04:00:00 given the following conditions:\n",
      "Weather Conditions: Clear\n",
      "Premises Type: Apartment\n",
      "Division:  D23\n",
      "Near by Area:  West Humber-Clairville (1)\n",
      "Predictions: Crime Likely to happen: Break and Enter\n"
     ]
    }
   ],
   "source": [
    "result = fitted_model.predict(input_data)\n",
    "print(\"The expected crime that can happen at\", LOCATION_TYPE_val, \"on\", REPORT_DATE_val,\"time as\", TimeofCrime_val,\"given the following conditions:\")\n",
    "print(\"Weather Conditions:\", conditions_val)\n",
    "print(\"Premises Type:\", PREMISES_TYPE_val)\n",
    "print(\"Division: \",DIVISION_val)\n",
    "print(\"Near by Area: \",NEIGHBOURHOOD_140_val)\n",
    "print(\"Predictions: Crime Likely to happen:\",result[0])\n"
   ]
  },
  {
   "cell_type": "markdown",
   "metadata": {
    "nteract": {
     "transient": {
      "deleting": false
     }
    }
   },
   "source": [
    "You can change the input to get the another predictions, lets do the predictions for case 2, with changed inputs"
   ]
  },
  {
   "cell_type": "markdown",
   "metadata": {
    "nteract": {
     "transient": {
      "deleting": false
     }
    }
   },
   "source": [
    "### **Case : 2**"
   ]
  },
  {
   "cell_type": "markdown",
   "metadata": {
    "nteract": {
     "transient": {
      "deleting": false
     }
    }
   },
   "source": [
    "Now we will do the predictions using the fitted model, for the input value given by you."
   ]
  },
  {
   "cell_type": "markdown",
   "metadata": {
    "nteract": {
     "transient": {
      "deleting": false
     }
    }
   },
   "source": [
    "### **i) Pass the input value**"
   ]
  },
  {
   "cell_type": "code",
   "execution_count": 63,
   "metadata": {
    "gather": {
     "logged": 1683103285718
    },
    "jupyter": {
     "outputs_hidden": false,
     "source_hidden": false
    },
    "nteract": {
     "transient": {
      "deleting": false
     }
    }
   },
   "outputs": [],
   "source": [
    "# input values are as follows\n",
    "REPORT_DATE_val = '2022-09-29'\n",
    "OCC_DATE_val = '2022-02-19'\n",
    "REPORT_YEAR_val = 2022\n",
    "REPORT_MONTH_val = 'September'\n",
    "REPORT_DAY_val = 29\n",
    "REPORT_DOY_val = 272\n",
    "REPORT_DOW_val = 'Thursday'\n",
    "REPORT_HOUR_val = 23\n",
    "DIVISION_val = 'D32'\n",
    "LOCATION_TYPE_val = 'Streets, Roads, Highways (Bicycle Path, Privat...'\n",
    "PREMISES_TYPE_val = 'Outside'\n",
    "UCR_CODE_val = 1450\n",
    "HOOD_158_val = 155.00\n",
    "NEIGHBOURHOOD_158_val = 'Downsview'\n",
    "HOOD_140_val = 27.00\n",
    "NEIGHBOURHOOD_140_val = 'York University Heights (27)'\n",
    "LONG_WGS84_val = '-79.46338664'\n",
    "LAT_WGS84_val = '43.75024493'\n",
    "TimeofCrime_val = '04:00:00'\n",
    "temp_val = 11.60\n",
    "conditions_val = 'Partially cloudy'"
   ]
  },
  {
   "cell_type": "code",
   "execution_count": 64,
   "metadata": {
    "gather": {
     "logged": 1683103288998
    },
    "jupyter": {
     "outputs_hidden": false,
     "source_hidden": false
    },
    "nteract": {
     "transient": {
      "deleting": false
     }
    }
   },
   "outputs": [],
   "source": [
    "input_data = pd.DataFrame({'REPORT_DATE':[REPORT_DATE_val],\n",
    "                            'OCC_DATE': [OCC_DATE_val],\n",
    "                            'REPORT_YEAR':[REPORT_YEAR_val],\n",
    "                            'REPORT_MONTH':[REPORT_MONTH_val],\n",
    "                            'REPORT_DAY':[REPORT_DAY_val],\n",
    "                            'REPORT_DOY':[REPORT_DOY_val],\n",
    "                            'REPORT_DOW':[REPORT_DOW_val],\n",
    "                            'REPORT_HOUR':[REPORT_HOUR_val],\n",
    "                            'DIVISION':[DIVISION_val],\n",
    "                            'LOCATION_TYPE':[LOCATION_TYPE_val],\n",
    "                            'PREMISES_TYPE':[PREMISES_TYPE_val],\n",
    "                            'UCR_CODE':[UCR_CODE_val],\n",
    "                            'HOOD_158':[HOOD_158_val],\n",
    "                            'NEIGHBOURHOOD_158':[NEIGHBOURHOOD_158_val],\n",
    "                            'HOOD_140':[HOOD_140_val],\n",
    "                            'NEIGHBOURHOOD_140':[NEIGHBOURHOOD_140_val],\n",
    "                            'LONG_WGS84':[LONG_WGS84_val],\n",
    "                            'LAT_WGS84':[LAT_WGS84_val],\n",
    "                            'TimeofCrime':[TimeofCrime_val],\n",
    "                            'temp':[temp_val],\n",
    "                            'conditions':[conditions_val]\n",
    "                           })"
   ]
  },
  {
   "cell_type": "markdown",
   "metadata": {
    "nteract": {
     "transient": {
      "deleting": false
     }
    }
   },
   "source": [
    "## **ii) Get the Results**"
   ]
  },
  {
   "cell_type": "code",
   "execution_count": 65,
   "metadata": {
    "gather": {
     "logged": 1683103292556
    },
    "jupyter": {
     "outputs_hidden": false,
     "source_hidden": false
    },
    "nteract": {
     "transient": {
      "deleting": false
     }
    }
   },
   "outputs": [
    {
     "name": "stdout",
     "output_type": "stream",
     "text": [
      "The expected crime that can happen at Streets, Roads, Highways (Bicycle Path, Privat... on 2022-09-29 time as 04:00:00 given the following conditions:\n",
      "Weather Conditions: Partially cloudy\n",
      "Premises Type: Outside\n",
      "Division:  D32\n",
      "Near by Area:  York University Heights (27)\n",
      "Predictions: Crime Likely to happen: Assault\n"
     ]
    }
   ],
   "source": [
    "result = fitted_model.predict(input_data)\n",
    "print(\"The expected crime that can happen at\", LOCATION_TYPE_val, \"on\", REPORT_DATE_val,\"time as\", TimeofCrime_val,\"given the following conditions:\")\n",
    "print(\"Weather Conditions:\", conditions_val)\n",
    "print(\"Premises Type:\", PREMISES_TYPE_val)\n",
    "print(\"Division: \",DIVISION_val)\n",
    "print(\"Near by Area: \",NEIGHBOURHOOD_140_val)\n",
    "print(\"Predictions: Crime Likely to happen:\",result[0])\n"
   ]
  },
  {
   "cell_type": "markdown",
   "metadata": {
    "nteract": {
     "transient": {
      "deleting": false
     }
    }
   },
   "source": [
    "# **Thank You!**"
   ]
  }
 ],
 "metadata": {
  "kernel_info": {
   "name": "python38-azureml"
  },
  "kernelspec": {
   "display_name": "Python 3 (ipykernel)",
   "language": "python",
   "name": "python3"
  },
  "language_info": {
   "codemirror_mode": {
    "name": "ipython",
    "version": 3
   },
   "file_extension": ".py",
   "mimetype": "text/x-python",
   "name": "python",
   "nbconvert_exporter": "python",
   "pygments_lexer": "ipython3",
   "version": "3.10.9"
  },
  "microsoft": {
   "host": {
    "AzureML": {
     "notebookHasBeenCompleted": true
    }
   },
   "ms_spell_check": {
    "ms_spell_check_language": "en"
   }
  },
  "nteract": {
   "version": "nteract-front-end@1.0.0"
  }
 },
 "nbformat": 4,
 "nbformat_minor": 2
}
