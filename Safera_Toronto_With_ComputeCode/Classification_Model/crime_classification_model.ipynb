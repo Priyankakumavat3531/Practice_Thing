{
 "cells": [
  {
   "cell_type": "markdown",
   "metadata": {
    "nteract": {
     "transient": {
      "deleting": false
     }
    }
   },
   "source": [
    "# **Usecase : Crime Type Classification Model**"
   ]
  },
  {
   "cell_type": "markdown",
   "metadata": {
    "nteract": {
     "transient": {
      "deleting": false
     }
    }
   },
   "source": [
    "We are going to Predict the type of crime using Toronto Dataset of Crimes and Weather, for this usecase these two datasets merged together to  form a single dataset named as CrimeWeatherMerged.\n",
    "MCI_CATEGORY is the column in our dataset which has various categories of crimes, so it's the target column for our Auto ML model Prediction. i.e. we want to do predictions of the types of crime with respect to other features (columns) in our dataset.\n",
    "\n",
    "(data : we will see the detailed data information below)"
   ]
  },
  {
   "cell_type": "markdown",
   "metadata": {
    "nteract": {
     "transient": {
      "deleting": false
     }
    }
   },
   "source": [
    "<!-- # **Check if Compute Machine is running or not** -->"
   ]
  },
  {
   "cell_type": "markdown",
   "metadata": {
    "nteract": {
     "transient": {
      "deleting": false
     }
    }
   },
   "source": [
    "## **1. Installing the required Libraries**"
   ]
  },
  {
   "cell_type": "markdown",
   "metadata": {},
   "source": [
    "Here, we have to install the requirded libraries"
   ]
  },
  {
   "cell_type": "code",
   "execution_count": 2,
   "metadata": {
    "gather": {
     "logged": 1683782552976
    },
    "jupyter": {
     "outputs_hidden": false,
     "source_hidden": false
    },
    "nteract": {
     "transient": {
      "deleting": false
     }
    }
   },
   "outputs": [],
   "source": [
    "pip install pyodbc"
   ]
  },
  {
   "cell_type": "code",
   "execution_count": 3,
   "metadata": {
    "gather": {
     "logged": 1683782553338
    },
    "jupyter": {
     "outputs_hidden": false,
     "source_hidden": false
    },
    "nteract": {
     "transient": {
      "deleting": false
     }
    }
   },
   "outputs": [],
   "source": [
    "pip install -r requirement.txt"
   ]
  },
  {
   "cell_type": "code",
   "execution_count": 2,
   "metadata": {
    "gather": {
     "logged": 1683782569804
    },
    "jupyter": {
     "outputs_hidden": true,
     "source_hidden": false
    },
    "nteract": {
     "transient": {
      "deleting": false
     }
    }
   },
   "outputs": [],
   "source": [
    "import IPython\n",
    "\n",
    "# IPython.Application.instance().kernel.do_shutdown(restart=True)\n",
    "IPython.get_ipython().run_line_magic('run', '-i runRequirements.ipynb')"
   ]
  },
  {
   "cell_type": "markdown",
   "metadata": {
    "nteract": {
     "transient": {
      "deleting": false
     }
    }
   },
   "source": [
    "## **2.Establish the Database connection to import data from Azure SQL server**"
   ]
  },
  {
   "cell_type": "markdown",
   "metadata": {
    "nteract": {
     "transient": {
      "deleting": false
     }
    }
   },
   "source": [
    "Here we are fetching the data from azure sql server,\n",
    "and storing that data in the varialble name df"
   ]
  },
  {
   "cell_type": "code",
   "execution_count": 5,
   "metadata": {
    "gather": {
     "logged": 1683782572308
    }
   },
   "outputs": [],
   "source": [
    "import pandas as pd\n",
    "import pyodbc\n",
    "import pandas as pd\n",
    "from azureml.core import Dataset\n",
    "from datetime import datetime\n",
    "from dateutil.relativedelta import relativedelta\n",
    "\n",
    "# set up database connection\n",
    "server = 'saferalab1.database.windows.net'\n",
    "database = 'SaferaDB'\n",
    "username = 'SaferaUser'\n",
    "password = 'Safera@#$1'\n",
    "driver = '{ODBC Driver 17 for SQL Server}'\n",
    "conn = pyodbc.connect('DRIVER=' + driver + ';SERVER=' + server + ';DATABASE=' + database + ';UID=' + username + ';PWD=' + password)"
   ]
  },
  {
   "cell_type": "code",
   "execution_count": 6,
   "metadata": {
    "gather": {
     "logged": 1683782572710
    },
    "jupyter": {
     "outputs_hidden": false,
     "source_hidden": false
    },
    "nteract": {
     "transient": {
      "deleting": false
     }
    }
   },
   "outputs": [],
   "source": [
    "# execute SQL query\n",
    "cursor = conn.cursor()\n",
    "cursor.execute(\"SELECT TOP 5000 REPORT_DATE, OCC_DATE, REPORT_YEAR, REPORT_MONTH, REPORT_DAY, REPORT_DOY, REPORT_DOW, REPORT_HOUR, DIVISION, LOCATION_TYPE, PREMISES_TYPE, UCR_CODE, HOOD_158, NEIGHBOURHOOD_158, HOOD_140, NEIGHBOURHOOD_140, LONG_WGS84,LAT_WGS84, TimeofCrime, temp, conditions, MCI_CATEGORY FROM CrimeWeatherMerged;\")\n",
    "rows = cursor.fetchall()"
   ]
  },
  {
   "cell_type": "code",
   "execution_count": 7,
   "metadata": {
    "gather": {
     "logged": 1683782573323
    },
    "jupyter": {
     "outputs_hidden": false,
     "source_hidden": false
    },
    "nteract": {
     "transient": {
      "deleting": false
     }
    }
   },
   "outputs": [],
   "source": [
    "# create pandas DataFrame from results\n",
    "df = pd.DataFrame([tuple(row) for row in rows], columns=['REPORT_DATE', 'OCC_DATE', 'REPORT_YEAR', 'REPORT_MONTH', 'REPORT_DAY', 'REPORT_DOY', 'REPORT_DOW', 'REPORT_HOUR', 'DIVISION','LOCATION_TYPE','PREMISES_TYPE', 'UCR_CODE', 'HOOD_158','NEIGHBOURHOOD_158', 'HOOD_140','NEIGHBOURHOOD_140', 'LONG_WGS84','LAT_WGS84', 'TimeofCrime', 'temp', 'conditions', 'MCI_CATEGORY'])"
   ]
  },
  {
   "cell_type": "code",
   "execution_count": 8,
   "metadata": {
    "gather": {
     "logged": 1683782573815
    },
    "jupyter": {
     "outputs_hidden": false,
     "source_hidden": false
    },
    "nteract": {
     "transient": {
      "deleting": false
     }
    }
   },
   "outputs": [
    {
     "name": "stdout",
     "output_type": "stream",
     "text": [
      "  REPORT_DATE    OCC_DATE  REPORT_YEAR REPORT_MONTH  REPORT_DAY  REPORT_DOY  \\\n",
      "0  2018-09-07  2018-09-07         2018    September           7         250   \n",
      "1  2018-09-07  2018-09-07         2018    September           7         250   \n",
      "2  2018-09-07  2018-09-06         2018    September           7         250   \n",
      "3  2018-09-07  2018-09-07         2018    September           7         250   \n",
      "4  2018-09-07  2018-09-04         2018    September           7         250   \n",
      "\n",
      "   REPORT_DOW  REPORT_HOUR DIVISION  \\\n",
      "0  Friday               22      D43   \n",
      "1  Friday               19      D33   \n",
      "2  Friday                7      D53   \n",
      "3  Friday               20      D55   \n",
      "4  Friday               14      D53   \n",
      "\n",
      "                                       LOCATION_TYPE  ... HOOD_158  \\\n",
      "0                                 Ttc Subway Station  ...    156.0   \n",
      "1  Single Home, House (Attach Garage, Cottage, Mo...  ...     42.0   \n",
      "2  Single Home, House (Attach Garage, Cottage, Mo...  ...     98.0   \n",
      "3                  Open Areas (Lakes, Parks, Rivers)  ...     61.0   \n",
      "4  Single Home, House (Attach Garage, Cottage, Mo...  ...    103.0   \n",
      "\n",
      "     NEIGHBOURHOOD_158  HOOD_140          NEIGHBOURHOOD_140    LONG_WGS84  \\\n",
      "0  Bendale-Glen Andrew     127.0              Bendale (127)  -79.25876612   \n",
      "1    Banbury-Don Mills      42.0     Banbury-Don Mills (42)  -79.35849292   \n",
      "2  Rosedale-Moore Park      98.0   Rosedale-Moore Park (98)  -79.38129577   \n",
      "3        Taylor-Massey      61.0         Taylor-Massey (61)  -79.29310245   \n",
      "4  Lawrence Park South     103.0  Lawrence Park South (103)  -79.39529509   \n",
      "\n",
      "     LAT_WGS84 TimeofCrime   temp        conditions     MCI_CATEGORY  \n",
      "0  43.77323286    04:00:00  20.30  Partially cloudy          Robbery  \n",
      "1  43.73743436    04:00:00  20.30  Partially cloudy  Break and Enter  \n",
      "2  43.69431525    04:00:00  20.30  Partially cloudy          Assault  \n",
      "3  43.69272339    04:00:00  20.30  Partially cloudy          Assault  \n",
      "4  43.72483933    04:00:00  20.30  Partially cloudy       Auto Theft  \n",
      "\n",
      "[5 rows x 22 columns]\n"
     ]
    }
   ],
   "source": [
    "# print DataFrame\n",
    "print(df.head())"
   ]
  },
  {
   "cell_type": "code",
   "execution_count": 9,
   "metadata": {
    "gather": {
     "logged": 1683782574204
    },
    "jupyter": {
     "outputs_hidden": false,
     "source_hidden": false
    },
    "nteract": {
     "transient": {
      "deleting": false
     }
    }
   },
   "outputs": [],
   "source": [
    "# close database connection\n",
    "conn.close()"
   ]
  },
  {
   "cell_type": "markdown",
   "metadata": {
    "nteract": {
     "transient": {
      "deleting": false
     }
    }
   },
   "source": [
    "Now we will print our dataframe df to see the columns and its example values"
   ]
  },
  {
   "cell_type": "code",
   "execution_count": 10,
   "metadata": {
    "gather": {
     "logged": 1683782574624
    },
    "jupyter": {
     "outputs_hidden": false,
     "source_hidden": false
    },
    "nteract": {
     "transient": {
      "deleting": false
     }
    }
   },
   "outputs": [
    {
     "data": {
      "text/html": [
       "<div>\n",
       "<style scoped>\n",
       "    .dataframe tbody tr th:only-of-type {\n",
       "        vertical-align: middle;\n",
       "    }\n",
       "\n",
       "    .dataframe tbody tr th {\n",
       "        vertical-align: top;\n",
       "    }\n",
       "\n",
       "    .dataframe thead th {\n",
       "        text-align: right;\n",
       "    }\n",
       "</style>\n",
       "<table border=\"1\" class=\"dataframe\">\n",
       "  <thead>\n",
       "    <tr style=\"text-align: right;\">\n",
       "      <th></th>\n",
       "      <th>REPORT_DATE</th>\n",
       "      <th>OCC_DATE</th>\n",
       "      <th>REPORT_YEAR</th>\n",
       "      <th>REPORT_MONTH</th>\n",
       "      <th>REPORT_DAY</th>\n",
       "      <th>REPORT_DOY</th>\n",
       "      <th>REPORT_DOW</th>\n",
       "      <th>REPORT_HOUR</th>\n",
       "      <th>DIVISION</th>\n",
       "      <th>LOCATION_TYPE</th>\n",
       "      <th>...</th>\n",
       "      <th>HOOD_158</th>\n",
       "      <th>NEIGHBOURHOOD_158</th>\n",
       "      <th>HOOD_140</th>\n",
       "      <th>NEIGHBOURHOOD_140</th>\n",
       "      <th>LONG_WGS84</th>\n",
       "      <th>LAT_WGS84</th>\n",
       "      <th>TimeofCrime</th>\n",
       "      <th>temp</th>\n",
       "      <th>conditions</th>\n",
       "      <th>MCI_CATEGORY</th>\n",
       "    </tr>\n",
       "  </thead>\n",
       "  <tbody>\n",
       "    <tr>\n",
       "      <th>0</th>\n",
       "      <td>2018-09-07</td>\n",
       "      <td>2018-09-07</td>\n",
       "      <td>2018</td>\n",
       "      <td>September</td>\n",
       "      <td>7</td>\n",
       "      <td>250</td>\n",
       "      <td>Friday</td>\n",
       "      <td>22</td>\n",
       "      <td>D43</td>\n",
       "      <td>Ttc Subway Station</td>\n",
       "      <td>...</td>\n",
       "      <td>156.0</td>\n",
       "      <td>Bendale-Glen Andrew</td>\n",
       "      <td>127.0</td>\n",
       "      <td>Bendale (127)</td>\n",
       "      <td>-79.25876612</td>\n",
       "      <td>43.77323286</td>\n",
       "      <td>04:00:00</td>\n",
       "      <td>20.30</td>\n",
       "      <td>Partially cloudy</td>\n",
       "      <td>Robbery</td>\n",
       "    </tr>\n",
       "    <tr>\n",
       "      <th>1</th>\n",
       "      <td>2018-09-07</td>\n",
       "      <td>2018-09-07</td>\n",
       "      <td>2018</td>\n",
       "      <td>September</td>\n",
       "      <td>7</td>\n",
       "      <td>250</td>\n",
       "      <td>Friday</td>\n",
       "      <td>19</td>\n",
       "      <td>D33</td>\n",
       "      <td>Single Home, House (Attach Garage, Cottage, Mo...</td>\n",
       "      <td>...</td>\n",
       "      <td>42.0</td>\n",
       "      <td>Banbury-Don Mills</td>\n",
       "      <td>42.0</td>\n",
       "      <td>Banbury-Don Mills (42)</td>\n",
       "      <td>-79.35849292</td>\n",
       "      <td>43.73743436</td>\n",
       "      <td>04:00:00</td>\n",
       "      <td>20.30</td>\n",
       "      <td>Partially cloudy</td>\n",
       "      <td>Break and Enter</td>\n",
       "    </tr>\n",
       "    <tr>\n",
       "      <th>2</th>\n",
       "      <td>2018-09-07</td>\n",
       "      <td>2018-09-06</td>\n",
       "      <td>2018</td>\n",
       "      <td>September</td>\n",
       "      <td>7</td>\n",
       "      <td>250</td>\n",
       "      <td>Friday</td>\n",
       "      <td>7</td>\n",
       "      <td>D53</td>\n",
       "      <td>Single Home, House (Attach Garage, Cottage, Mo...</td>\n",
       "      <td>...</td>\n",
       "      <td>98.0</td>\n",
       "      <td>Rosedale-Moore Park</td>\n",
       "      <td>98.0</td>\n",
       "      <td>Rosedale-Moore Park (98)</td>\n",
       "      <td>-79.38129577</td>\n",
       "      <td>43.69431525</td>\n",
       "      <td>04:00:00</td>\n",
       "      <td>20.30</td>\n",
       "      <td>Partially cloudy</td>\n",
       "      <td>Assault</td>\n",
       "    </tr>\n",
       "    <tr>\n",
       "      <th>3</th>\n",
       "      <td>2018-09-07</td>\n",
       "      <td>2018-09-07</td>\n",
       "      <td>2018</td>\n",
       "      <td>September</td>\n",
       "      <td>7</td>\n",
       "      <td>250</td>\n",
       "      <td>Friday</td>\n",
       "      <td>20</td>\n",
       "      <td>D55</td>\n",
       "      <td>Open Areas (Lakes, Parks, Rivers)</td>\n",
       "      <td>...</td>\n",
       "      <td>61.0</td>\n",
       "      <td>Taylor-Massey</td>\n",
       "      <td>61.0</td>\n",
       "      <td>Taylor-Massey (61)</td>\n",
       "      <td>-79.29310245</td>\n",
       "      <td>43.69272339</td>\n",
       "      <td>04:00:00</td>\n",
       "      <td>20.30</td>\n",
       "      <td>Partially cloudy</td>\n",
       "      <td>Assault</td>\n",
       "    </tr>\n",
       "    <tr>\n",
       "      <th>4</th>\n",
       "      <td>2018-09-07</td>\n",
       "      <td>2018-09-04</td>\n",
       "      <td>2018</td>\n",
       "      <td>September</td>\n",
       "      <td>7</td>\n",
       "      <td>250</td>\n",
       "      <td>Friday</td>\n",
       "      <td>14</td>\n",
       "      <td>D53</td>\n",
       "      <td>Single Home, House (Attach Garage, Cottage, Mo...</td>\n",
       "      <td>...</td>\n",
       "      <td>103.0</td>\n",
       "      <td>Lawrence Park South</td>\n",
       "      <td>103.0</td>\n",
       "      <td>Lawrence Park South (103)</td>\n",
       "      <td>-79.39529509</td>\n",
       "      <td>43.72483933</td>\n",
       "      <td>04:00:00</td>\n",
       "      <td>20.30</td>\n",
       "      <td>Partially cloudy</td>\n",
       "      <td>Auto Theft</td>\n",
       "    </tr>\n",
       "    <tr>\n",
       "      <th>...</th>\n",
       "      <td>...</td>\n",
       "      <td>...</td>\n",
       "      <td>...</td>\n",
       "      <td>...</td>\n",
       "      <td>...</td>\n",
       "      <td>...</td>\n",
       "      <td>...</td>\n",
       "      <td>...</td>\n",
       "      <td>...</td>\n",
       "      <td>...</td>\n",
       "      <td>...</td>\n",
       "      <td>...</td>\n",
       "      <td>...</td>\n",
       "      <td>...</td>\n",
       "      <td>...</td>\n",
       "      <td>...</td>\n",
       "      <td>...</td>\n",
       "      <td>...</td>\n",
       "      <td>...</td>\n",
       "      <td>...</td>\n",
       "      <td>...</td>\n",
       "    </tr>\n",
       "    <tr>\n",
       "      <th>4995</th>\n",
       "      <td>2020-09-22</td>\n",
       "      <td>2020-09-22</td>\n",
       "      <td>2020</td>\n",
       "      <td>September</td>\n",
       "      <td>22</td>\n",
       "      <td>266</td>\n",
       "      <td>Tuesday</td>\n",
       "      <td>1</td>\n",
       "      <td>D43</td>\n",
       "      <td>Apartment (Rooming House, Condo)</td>\n",
       "      <td>...</td>\n",
       "      <td>138.0</td>\n",
       "      <td>Eglinton East</td>\n",
       "      <td>138.0</td>\n",
       "      <td>Eglinton East (138)</td>\n",
       "      <td>-79.24467607</td>\n",
       "      <td>43.74500868</td>\n",
       "      <td>04:00:00</td>\n",
       "      <td>14.90</td>\n",
       "      <td>Clear</td>\n",
       "      <td>Assault</td>\n",
       "    </tr>\n",
       "    <tr>\n",
       "      <th>4996</th>\n",
       "      <td>2020-09-22</td>\n",
       "      <td>2020-09-22</td>\n",
       "      <td>2020</td>\n",
       "      <td>September</td>\n",
       "      <td>22</td>\n",
       "      <td>266</td>\n",
       "      <td>Tuesday</td>\n",
       "      <td>1</td>\n",
       "      <td>D42</td>\n",
       "      <td>Streets, Roads, Highways (Bicycle Path, Privat...</td>\n",
       "      <td>...</td>\n",
       "      <td>146.0</td>\n",
       "      <td>Malvern East</td>\n",
       "      <td>132.0</td>\n",
       "      <td>Malvern (132)</td>\n",
       "      <td>-79.20652835</td>\n",
       "      <td>43.80834818</td>\n",
       "      <td>04:00:00</td>\n",
       "      <td>14.90</td>\n",
       "      <td>Clear</td>\n",
       "      <td>Assault</td>\n",
       "    </tr>\n",
       "    <tr>\n",
       "      <th>4997</th>\n",
       "      <td>2020-09-22</td>\n",
       "      <td>2020-09-22</td>\n",
       "      <td>2020</td>\n",
       "      <td>September</td>\n",
       "      <td>22</td>\n",
       "      <td>266</td>\n",
       "      <td>Tuesday</td>\n",
       "      <td>0</td>\n",
       "      <td>D32</td>\n",
       "      <td>Other Commercial / Corporate Places (For Profi...</td>\n",
       "      <td>...</td>\n",
       "      <td>39.0</td>\n",
       "      <td>Bedford Park-Nortown</td>\n",
       "      <td>39.0</td>\n",
       "      <td>Bedford Park-Nortown (39)</td>\n",
       "      <td>-79.41705801</td>\n",
       "      <td>43.72583142</td>\n",
       "      <td>04:00:00</td>\n",
       "      <td>14.90</td>\n",
       "      <td>Clear</td>\n",
       "      <td>Robbery</td>\n",
       "    </tr>\n",
       "    <tr>\n",
       "      <th>4998</th>\n",
       "      <td>2020-09-22</td>\n",
       "      <td>2020-09-22</td>\n",
       "      <td>2020</td>\n",
       "      <td>September</td>\n",
       "      <td>22</td>\n",
       "      <td>266</td>\n",
       "      <td>Tuesday</td>\n",
       "      <td>12</td>\n",
       "      <td>D52</td>\n",
       "      <td>Streets, Roads, Highways (Bicycle Path, Privat...</td>\n",
       "      <td>...</td>\n",
       "      <td>165.0</td>\n",
       "      <td>Harbourfront-CityPlace</td>\n",
       "      <td>77.0</td>\n",
       "      <td>Waterfront Communities-The Island (77)</td>\n",
       "      <td>-79.38110895</td>\n",
       "      <td>43.64205347</td>\n",
       "      <td>04:00:00</td>\n",
       "      <td>14.90</td>\n",
       "      <td>Clear</td>\n",
       "      <td>Auto Theft</td>\n",
       "    </tr>\n",
       "    <tr>\n",
       "      <th>4999</th>\n",
       "      <td>2020-09-22</td>\n",
       "      <td>2020-09-19</td>\n",
       "      <td>2020</td>\n",
       "      <td>September</td>\n",
       "      <td>22</td>\n",
       "      <td>266</td>\n",
       "      <td>Tuesday</td>\n",
       "      <td>11</td>\n",
       "      <td>D41</td>\n",
       "      <td>Ttc Subway Station</td>\n",
       "      <td>...</td>\n",
       "      <td>124.0</td>\n",
       "      <td>Kennedy Park</td>\n",
       "      <td>124.0</td>\n",
       "      <td>Kennedy Park (124)</td>\n",
       "      <td>-79.2645509</td>\n",
       "      <td>43.73276465</td>\n",
       "      <td>04:00:00</td>\n",
       "      <td>14.90</td>\n",
       "      <td>Clear</td>\n",
       "      <td>Assault</td>\n",
       "    </tr>\n",
       "  </tbody>\n",
       "</table>\n",
       "<p>5000 rows × 22 columns</p>\n",
       "</div>"
      ],
      "text/plain": [
       "     REPORT_DATE    OCC_DATE  REPORT_YEAR REPORT_MONTH  REPORT_DAY  \\\n",
       "0     2018-09-07  2018-09-07         2018    September           7   \n",
       "1     2018-09-07  2018-09-07         2018    September           7   \n",
       "2     2018-09-07  2018-09-06         2018    September           7   \n",
       "3     2018-09-07  2018-09-07         2018    September           7   \n",
       "4     2018-09-07  2018-09-04         2018    September           7   \n",
       "...          ...         ...          ...          ...         ...   \n",
       "4995  2020-09-22  2020-09-22         2020    September          22   \n",
       "4996  2020-09-22  2020-09-22         2020    September          22   \n",
       "4997  2020-09-22  2020-09-22         2020    September          22   \n",
       "4998  2020-09-22  2020-09-22         2020    September          22   \n",
       "4999  2020-09-22  2020-09-19         2020    September          22   \n",
       "\n",
       "      REPORT_DOY  REPORT_DOW  REPORT_HOUR DIVISION  \\\n",
       "0            250  Friday               22      D43   \n",
       "1            250  Friday               19      D33   \n",
       "2            250  Friday                7      D53   \n",
       "3            250  Friday               20      D55   \n",
       "4            250  Friday               14      D53   \n",
       "...          ...         ...          ...      ...   \n",
       "4995         266  Tuesday               1      D43   \n",
       "4996         266  Tuesday               1      D42   \n",
       "4997         266  Tuesday               0      D32   \n",
       "4998         266  Tuesday              12      D52   \n",
       "4999         266  Tuesday              11      D41   \n",
       "\n",
       "                                          LOCATION_TYPE  ... HOOD_158  \\\n",
       "0                                    Ttc Subway Station  ...    156.0   \n",
       "1     Single Home, House (Attach Garage, Cottage, Mo...  ...     42.0   \n",
       "2     Single Home, House (Attach Garage, Cottage, Mo...  ...     98.0   \n",
       "3                     Open Areas (Lakes, Parks, Rivers)  ...     61.0   \n",
       "4     Single Home, House (Attach Garage, Cottage, Mo...  ...    103.0   \n",
       "...                                                 ...  ...      ...   \n",
       "4995                   Apartment (Rooming House, Condo)  ...    138.0   \n",
       "4996  Streets, Roads, Highways (Bicycle Path, Privat...  ...    146.0   \n",
       "4997  Other Commercial / Corporate Places (For Profi...  ...     39.0   \n",
       "4998  Streets, Roads, Highways (Bicycle Path, Privat...  ...    165.0   \n",
       "4999                                 Ttc Subway Station  ...    124.0   \n",
       "\n",
       "           NEIGHBOURHOOD_158  HOOD_140  \\\n",
       "0        Bendale-Glen Andrew     127.0   \n",
       "1          Banbury-Don Mills      42.0   \n",
       "2        Rosedale-Moore Park      98.0   \n",
       "3              Taylor-Massey      61.0   \n",
       "4        Lawrence Park South     103.0   \n",
       "...                      ...       ...   \n",
       "4995           Eglinton East     138.0   \n",
       "4996            Malvern East     132.0   \n",
       "4997    Bedford Park-Nortown      39.0   \n",
       "4998  Harbourfront-CityPlace      77.0   \n",
       "4999            Kennedy Park     124.0   \n",
       "\n",
       "                           NEIGHBOURHOOD_140    LONG_WGS84    LAT_WGS84  \\\n",
       "0                              Bendale (127)  -79.25876612  43.77323286   \n",
       "1                     Banbury-Don Mills (42)  -79.35849292  43.73743436   \n",
       "2                   Rosedale-Moore Park (98)  -79.38129577  43.69431525   \n",
       "3                         Taylor-Massey (61)  -79.29310245  43.69272339   \n",
       "4                  Lawrence Park South (103)  -79.39529509  43.72483933   \n",
       "...                                      ...           ...          ...   \n",
       "4995                     Eglinton East (138)  -79.24467607  43.74500868   \n",
       "4996                           Malvern (132)  -79.20652835  43.80834818   \n",
       "4997               Bedford Park-Nortown (39)  -79.41705801  43.72583142   \n",
       "4998  Waterfront Communities-The Island (77)  -79.38110895  43.64205347   \n",
       "4999                      Kennedy Park (124)   -79.2645509  43.73276465   \n",
       "\n",
       "     TimeofCrime   temp        conditions     MCI_CATEGORY  \n",
       "0       04:00:00  20.30  Partially cloudy          Robbery  \n",
       "1       04:00:00  20.30  Partially cloudy  Break and Enter  \n",
       "2       04:00:00  20.30  Partially cloudy          Assault  \n",
       "3       04:00:00  20.30  Partially cloudy          Assault  \n",
       "4       04:00:00  20.30  Partially cloudy       Auto Theft  \n",
       "...          ...    ...               ...              ...  \n",
       "4995    04:00:00  14.90             Clear          Assault  \n",
       "4996    04:00:00  14.90             Clear          Assault  \n",
       "4997    04:00:00  14.90             Clear          Robbery  \n",
       "4998    04:00:00  14.90             Clear       Auto Theft  \n",
       "4999    04:00:00  14.90             Clear          Assault  \n",
       "\n",
       "[5000 rows x 22 columns]"
      ]
     },
     "execution_count": 10,
     "metadata": {},
     "output_type": "execute_result"
    }
   ],
   "source": [
    "df"
   ]
  },
  {
   "cell_type": "code",
   "execution_count": 11,
   "metadata": {
    "gather": {
     "logged": 1683782575096
    },
    "jupyter": {
     "outputs_hidden": false,
     "source_hidden": false
    },
    "nteract": {
     "transient": {
      "deleting": false
     }
    }
   },
   "outputs": [],
   "source": [
    "# # Saving the df into a csv file\n",
    "# df.to_csv('5000_CrimeWeatherMerged.csv')"
   ]
  },
  {
   "cell_type": "markdown",
   "metadata": {
    "nteract": {
     "transient": {
      "deleting": false
     }
    }
   },
   "source": [
    "# **Dataset Details:**"
   ]
  },
  {
   "cell_type": "markdown",
   "metadata": {
    "nteract": {
     "transient": {
      "deleting": false
     }
    }
   },
   "source": [
    "**Below is the dataset information:**\n",
    "\n",
    "**1: REPORT_DATE :** Date on which the Offence/crime was reported\n",
    "\n",
    "**2: OCC_DATE :** Date on which the Offence/crime was occurred\n",
    "\n",
    "**3: REPORT_YEAR :** Year Offence was Reported\n",
    "\n",
    "**4: REPORT_MONTH :** Month Offence was Reported\n",
    "\n",
    "**5: REPORT_DAY :** Day of the Month Offence was Reported\n",
    "\n",
    "**6: REPORT_DOY :** Day of the Year Offence was Reported\n",
    "\n",
    "**7: REPORT_DOW :** Day of the Week Offence was Reported\n",
    "\n",
    "**8: REPORT_HOUR :** Hour Offence was Reported\n",
    "\n",
    "**9: DIVISION :** Police Division where Offence Occurred\n",
    "\n",
    "**10: LOCATION_TYPE :** Location Type of Offence\n",
    "\n",
    "**11: PREMISES_TYPE :** Premises Type of Offence\n",
    "\n",
    "**12: UCR_CODE :** Uniform Crime Reporting (UCR) Code for Offence\n",
    "\n",
    "**13: HOOD_158 :** Identifier of Neighbourhood using City of Toronto's\n",
    "                   new 158 neighbourhood structure\n",
    "\n",
    "**14: NEIGHBOURHOOD_158 :** Name of Neighbourhood using City of    Toronto's new 158 neighbourhood structure\n",
    "\n",
    "**15: HOOD_140 :** Identifier of Neighbourhood using City of Toronto's old\n",
    "140 neighbourhood structure\n",
    "\n",
    "**16: NEIGHBOURHOOD_140 :** Name of Neighbourhood using City of Toronto's old 140 neighbourhood structure\n",
    "\n",
    "**17: LONG_WGS84 :** Longitude Coordinates (Offset to nearest intersection)\n",
    "\n",
    "**18: LAT_WGS84 :** Latitude Coordinates (Offset to nearest intersection)\n",
    "\n",
    "**19: TimeofCrime :** Time of the Offence/crime\n",
    "\n",
    "**20: temp :** Temperature of the location\n",
    "\n",
    "**21: conditions :** Weather condition of the location\n",
    "\n",
    "**22: MCI_CATEGORY (Target Column):** Type of crime. In the dataset, we have 5 categories categorised by MCI (Model Crime Investigators)\n",
    "\n",
    "* a: Assault\n",
    "* b: Break and Enter\n",
    "* c: Auto Theft\n",
    "* d: Robbery\n",
    "* e: Theft Over\n",
    "         "
   ]
  },
  {
   "cell_type": "markdown",
   "metadata": {},
   "source": [
    "# **3. Import the Required Libraries**"
   ]
  },
  {
   "cell_type": "code",
   "execution_count": null,
   "metadata": {},
   "outputs": [],
   "source": [
    "import pandas as pd\n",
    "from azureml.core import Dataset\n",
    "from datetime import datetime\n",
    "from dateutil.relativedelta import relativedelta"
   ]
  },
  {
   "cell_type": "markdown",
   "metadata": {
    "nteract": {
     "transient": {
      "deleting": false
     }
    }
   },
   "source": [
    "# **4. Configure workspace**"
   ]
  },
  {
   "cell_type": "code",
   "execution_count": 12,
   "metadata": {
    "gather": {
     "logged": 1683782575461
    },
    "jupyter": {
     "outputs_hidden": false,
     "source_hidden": false
    },
    "nteract": {
     "transient": {
      "deleting": false
     }
    }
   },
   "outputs": [],
   "source": [
    "from azureml.core.workspace import Workspace\n",
    "ws = Workspace.from_config()"
   ]
  },
  {
   "cell_type": "markdown",
   "metadata": {
    "nteract": {
     "transient": {
      "deleting": false
     }
    }
   },
   "source": [
    "# **5. Split the data into train and test sets**"
   ]
  },
  {
   "cell_type": "code",
   "execution_count": 13,
   "metadata": {
    "gather": {
     "logged": 1683782575900
    },
    "jupyter": {
     "outputs_hidden": false,
     "source_hidden": false
    },
    "nteract": {
     "transient": {
      "deleting": false
     }
    }
   },
   "outputs": [],
   "source": [
    "from sklearn.model_selection import train_test_split\n",
    "x_train, x_test = train_test_split(df, test_size=0.2, random_state=223)"
   ]
  },
  {
   "cell_type": "markdown",
   "metadata": {
    "nteract": {
     "transient": {
      "deleting": false
     }
    }
   },
   "source": [
    "here, we Split the data into training and test sets by using the train_test_split function.\n",
    "\n",
    "x_train = the data on which we are going to train our Machine Learning Model\n",
    "\n",
    "x_test = the data on which we weill test our trained model\n",
    "\n",
    "In other words, a well-trained model should be able to accurately make predictions from data it hasn't already seen. You now have data prepared for auto-training a machine learning model.\n"
   ]
  },
  {
   "cell_type": "markdown",
   "metadata": {
    "nteract": {
     "transient": {
      "deleting": false
     }
    }
   },
   "source": [
    "# **6. Automatically train a model**"
   ]
  },
  {
   "cell_type": "markdown",
   "metadata": {
    "nteract": {
     "transient": {
      "deleting": false
     }
    }
   },
   "source": [
    "## **i) Define training settings**\n",
    "Below are the training settings we have to pass, before the training of Automatic Machine Learning"
   ]
  },
  {
   "cell_type": "code",
   "execution_count": 14,
   "metadata": {
    "gather": {
     "logged": 1683782576347
    },
    "jupyter": {
     "outputs_hidden": false,
     "source_hidden": false
    },
    "nteract": {
     "transient": {
      "deleting": false
     }
    }
   },
   "outputs": [],
   "source": [
    "import logging\n",
    "\n",
    "automl_settings = {\n",
    "    \"iteration_timeout_minutes\": 5,\n",
    "    \"experiment_timeout_hours\": 0.25,\n",
    "    \"enable_early_stopping\": True,\n",
    "    \"primary_metric\": 'AUC_weighted',\n",
    "    \"featurization\": 'auto',\n",
    "    \"verbosity\": logging.INFO,\n",
    "    \"n_cross_validations\": 2\n",
    "    }"
   ]
  },
  {
   "cell_type": "code",
   "execution_count": 15,
   "metadata": {
    "gather": {
     "logged": 1683782576815
    },
    "jupyter": {
     "outputs_hidden": false,
     "source_hidden": false
    },
    "nteract": {
     "transient": {
      "deleting": false
     }
    }
   },
   "outputs": [],
   "source": [
    "from azureml.train.automl import AutoMLConfig\n",
    "\n",
    "automl_config = AutoMLConfig(task='classification',\n",
    "                             debug_log='automated_ml_errors.log',\n",
    "                             training_data=x_train,\n",
    "                             label_column_name=\"MCI_CATEGORY\",\n",
    "                             **automl_settings)"
   ]
  },
  {
   "cell_type": "markdown",
   "metadata": {
    "nteract": {
     "transient": {
      "deleting": false
     }
    }
   },
   "source": [
    "It is the classifiction model.\n",
    "Clasiification - predicting for Target column which have categorical values\n",
    "\n",
    "For Example:\n",
    "\n",
    "1. YES/NO, 0/1 - it is a Binary class classification\n",
    "2. High/Medium/Low/very Low - it is a Multiclass classification\n",
    "\n",
    "In our model, we have multiple crime categories that we want to predict. Therefore, our model is multiclass classification model.\n"
   ]
  },
  {
   "cell_type": "markdown",
   "metadata": {
    "nteract": {
     "transient": {
      "deleting": false
     }
    }
   },
   "source": [
    "## **ii) Train the automatic Classification model**\n",
    "(Automatic Machine Learning will take 18-22 minutes for its completion)"
   ]
  },
  {
   "cell_type": "code",
   "execution_count": 16,
   "metadata": {
    "gather": {
     "logged": 1683782278985
    },
    "jupyter": {
     "outputs_hidden": false,
     "source_hidden": false
    },
    "nteract": {
     "transient": {
      "deleting": false
     }
    }
   },
   "outputs": [
    {
     "name": "stdout",
     "output_type": "stream",
     "text": [
      "No run_configuration provided, running on local with default configuration\n"
     ]
    }
   ],
   "source": [
    "from azureml.core.experiment import Experiment\n",
    "experiment = Experiment(ws, \"Crime-type-classification\")\n",
    "local_run = experiment.submit(automl_config, show_output=True)"
   ]
  },
  {
   "cell_type": "code",
   "execution_count": null,
   "metadata": {
    "gather": {
     "logged": 1683782279016
    },
    "jupyter": {
     "outputs_hidden": false,
     "source_hidden": false
    },
    "nteract": {
     "transient": {
      "deleting": false
     }
    }
   },
   "outputs": [],
   "source": [
    "best_run, fitted_model = local_run.get_output()"
   ]
  },
  {
   "cell_type": "code",
   "execution_count": null,
   "metadata": {
    "gather": {
     "logged": 1683782279049
    },
    "jupyter": {
     "outputs_hidden": false,
     "source_hidden": false
    },
    "nteract": {
     "transient": {
      "deleting": false
     }
    }
   },
   "outputs": [],
   "source": [
    "print(best_run)"
   ]
  },
  {
   "cell_type": "code",
   "execution_count": null,
   "metadata": {
    "gather": {
     "logged": 1683782279089
    },
    "jupyter": {
     "outputs_hidden": false,
     "source_hidden": false
    },
    "nteract": {
     "transient": {
      "deleting": false
     }
    }
   },
   "outputs": [],
   "source": [
    "print(fitted_model)"
   ]
  },
  {
   "cell_type": "code",
   "execution_count": null,
   "metadata": {
    "gather": {
     "logged": 1683782279128
    },
    "jupyter": {
     "outputs_hidden": false,
     "source_hidden": false
    },
    "nteract": {
     "transient": {
      "deleting": false
     }
    }
   },
   "outputs": [],
   "source": [
    "print(fitted_model.steps[-1][1].__class__.__name__)"
   ]
  },
  {
   "cell_type": "markdown",
   "metadata": {
    "nteract": {
     "transient": {
      "deleting": false
     }
    }
   },
   "source": [
    "PreFittedSoftVotingClassifier is the best model select by AutoML\n",
    "it is a type of ensemble model in Azure AutoML that combines several models to make predictions."
   ]
  },
  {
   "cell_type": "markdown",
   "metadata": {
    "nteract": {
     "transient": {
      "deleting": false
     }
    }
   },
   "source": [
    "# **7. Test the model accuracy**"
   ]
  },
  {
   "cell_type": "markdown",
   "metadata": {
    "nteract": {
     "transient": {
      "deleting": false
     }
    }
   },
   "source": [
    "y_predict is a variable which gives predictions on our X_test data"
   ]
  },
  {
   "cell_type": "code",
   "execution_count": null,
   "metadata": {
    "gather": {
     "logged": 1683782279164
    },
    "jupyter": {
     "outputs_hidden": false,
     "source_hidden": false
    },
    "nteract": {
     "transient": {
      "deleting": false
     }
    }
   },
   "outputs": [],
   "source": [
    "y_test = x_test.pop(\"MCI_CATEGORY\")\n",
    "y_predict = fitted_model.predict(x_test)"
   ]
  },
  {
   "cell_type": "code",
   "execution_count": null,
   "metadata": {
    "gather": {
     "logged": 1683782279211
    },
    "jupyter": {
     "outputs_hidden": false,
     "source_hidden": false
    },
    "nteract": {
     "transient": {
      "deleting": false
     }
    }
   },
   "outputs": [],
   "source": [
    "print(y_predict[:20])"
   ]
  },
  {
   "cell_type": "code",
   "execution_count": null,
   "metadata": {
    "gather": {
     "logged": 1683782279255
    },
    "jupyter": {
     "outputs_hidden": false,
     "source_hidden": false
    },
    "nteract": {
     "transient": {
      "deleting": false
     }
    }
   },
   "outputs": [],
   "source": [
    "# # Saving the predictions in csv file\n",
    "# y_predict_Series = pd.Series(y_predict)\n",
    "# y_predict_Series.to_csv(\"Predictions_Crime_Type.csv\")"
   ]
  },
  {
   "cell_type": "code",
   "execution_count": null,
   "metadata": {
    "gather": {
     "logged": 1683782279295
    },
    "jupyter": {
     "outputs_hidden": false,
     "source_hidden": false
    },
    "nteract": {
     "transient": {
      "deleting": false
     }
    }
   },
   "outputs": [],
   "source": [
    "y_actual = y_test.values.flatten().tolist()\n",
    "print(y_actual[:20])"
   ]
  },
  {
   "cell_type": "code",
   "execution_count": null,
   "metadata": {
    "gather": {
     "logged": 1683782279340
    },
    "jupyter": {
     "outputs_hidden": false,
     "source_hidden": false
    },
    "nteract": {
     "transient": {
      "deleting": false
     }
    }
   },
   "outputs": [],
   "source": [
    "from sklearn.metrics import accuracy_score, precision_score, recall_score, f1_score, roc_auc_score, confusion_matrix, cohen_kappa_score\n",
    "from math import sqrt\n",
    "from sklearn.preprocessing import LabelEncoder\n",
    "from tensorflow.keras.utils import to_categorical\n",
    "\n",
    "# encode categorical labels as numerical values\n",
    "label_encoder = LabelEncoder()\n",
    "y_actual_encoded = label_encoder.fit_transform(y_actual)\n",
    "y_predict_encoded = label_encoder.transform(y_predict)\n",
    "\n",
    "# convert y_predict_encoded to one-hot encoded format\n",
    "n_classes = len(label_encoder.classes_)\n",
    "y_predict_encoded = to_categorical(y_predict_encoded, num_classes=n_classes)\n",
    "\n",
    "# calculate weighted AUC-ROC score\n",
    "weighted_auc = roc_auc_score(y_actual_encoded, y_predict_encoded, average=\"weighted\", multi_class=\"ovr\")\n",
    "print(\"Weighted AUC-ROC:\", weighted_auc*100)"
   ]
  },
  {
   "cell_type": "code",
   "execution_count": null,
   "metadata": {
    "gather": {
     "logged": 1683782279379
    },
    "jupyter": {
     "outputs_hidden": false,
     "source_hidden": false
    },
    "nteract": {
     "transient": {
      "deleting": false
     }
    }
   },
   "outputs": [],
   "source": [
    "accuracy = accuracy_score(y_actual, y_predict)\n",
    "print(\"Accuracy:\", accuracy*100)"
   ]
  },
  {
   "cell_type": "markdown",
   "metadata": {
    "nteract": {
     "transient": {
      "deleting": false
     }
    }
   },
   "source": [
    "Weighted AUC-ROC & Accuracy are the accuracy metrics used for testing the model here. And both are giving good results.\n"
   ]
  },
  {
   "cell_type": "code",
   "execution_count": null,
   "metadata": {
    "gather": {
     "logged": 1683782279412
    },
    "jupyter": {
     "outputs_hidden": false,
     "source_hidden": false
    },
    "nteract": {
     "transient": {
      "deleting": false
     }
    }
   },
   "outputs": [],
   "source": [
    "# # Saving the model\n",
    "# import pickle\n",
    "# with open('classification_model.pkl','wb') as file:\n",
    "#     pickle.dump(fitted_model,file)"
   ]
  },
  {
   "cell_type": "markdown",
   "metadata": {
    "nteract": {
     "transient": {
      "deleting": false
     }
    }
   },
   "source": [
    "# **8. Predictions**"
   ]
  },
  {
   "cell_type": "markdown",
   "metadata": {
    "nteract": {
     "transient": {
      "deleting": false
     }
    }
   },
   "source": [
    "### **Case : 1**"
   ]
  },
  {
   "cell_type": "markdown",
   "metadata": {
    "nteract": {
     "transient": {
      "deleting": false
     }
    }
   },
   "source": [
    "### **i) Pass the input value**"
   ]
  },
  {
   "cell_type": "markdown",
   "metadata": {
    "nteract": {
     "transient": {
      "deleting": false
     }
    }
   },
   "source": [
    "Now we will do the predictions using the fitted model, for the input value given by you."
   ]
  },
  {
   "cell_type": "code",
   "execution_count": null,
   "metadata": {
    "gather": {
     "logged": 1683782279444
    },
    "jupyter": {
     "outputs_hidden": false,
     "source_hidden": false
    },
    "nteract": {
     "transient": {
      "deleting": false
     }
    }
   },
   "outputs": [],
   "source": [
    "# input values are as follows\n",
    "REPORT_DATE_val = '2022-10-02'\n",
    "OCC_DATE_val = '2022-09-29'\n",
    "REPORT_YEAR_val = 2022\n",
    "REPORT_MONTH_val = 'October'\n",
    "REPORT_DAY_val = 2\n",
    "REPORT_DOY_val = 275\n",
    "REPORT_DOW_val = 'Sunday'\n",
    "REPORT_HOUR_val = 7\n",
    "DIVISION_val = 'D23'\n",
    "LOCATION_TYPE_val = 'Apartment (Rooming House, Condo)'\n",
    "PREMISES_TYPE_val = 'Apartment'\n",
    "UCR_CODE_val = 2120\n",
    "HOOD_158_val = 1.00\n",
    "NEIGHBOURHOOD_158_val = 'West Humber-Clairville'\n",
    "HOOD_140_val = 1.00\n",
    "NEIGHBOURHOOD_140_val = 'West Humber-Clairville (1)'\n",
    "LONG_WGS84_val = '-79.57607714'\n",
    "LAT_WGS84_val = '43.72864324'\n",
    "TimeofCrime_val = '04:00:00'\n",
    "temp_val = 11.80\n",
    "conditions_val = 'Clear'"
   ]
  },
  {
   "cell_type": "code",
   "execution_count": null,
   "metadata": {
    "gather": {
     "logged": 1683782279480
    },
    "jupyter": {
     "outputs_hidden": false,
     "source_hidden": false
    },
    "nteract": {
     "transient": {
      "deleting": false
     }
    }
   },
   "outputs": [],
   "source": [
    "input_data = pd.DataFrame({'REPORT_DATE':[REPORT_DATE_val],\n",
    "                            'OCC_DATE': [OCC_DATE_val],\n",
    "                            'REPORT_YEAR':[REPORT_YEAR_val],\n",
    "                            'REPORT_MONTH':[REPORT_MONTH_val],\n",
    "                            'REPORT_DAY':[REPORT_DAY_val],\n",
    "                            'REPORT_DOY':[REPORT_DOY_val],\n",
    "                            'REPORT_DOW':[REPORT_DOW_val],\n",
    "                            'REPORT_HOUR':[REPORT_HOUR_val],\n",
    "                            'DIVISION':[DIVISION_val],\n",
    "                            'LOCATION_TYPE':[LOCATION_TYPE_val],\n",
    "                            'PREMISES_TYPE':[PREMISES_TYPE_val],\n",
    "                            'UCR_CODE':[UCR_CODE_val],\n",
    "                            'HOOD_158':[HOOD_158_val],\n",
    "                            'NEIGHBOURHOOD_158':[NEIGHBOURHOOD_158_val],\n",
    "                            'HOOD_140':[HOOD_140_val],\n",
    "                            'NEIGHBOURHOOD_140':[NEIGHBOURHOOD_140_val],\n",
    "                            'LONG_WGS84':[LONG_WGS84_val],\n",
    "                            'LAT_WGS84':[LAT_WGS84_val],\n",
    "                            'TimeofCrime':[TimeofCrime_val],\n",
    "                            'temp':[temp_val],\n",
    "                            'conditions':[conditions_val]\n",
    "                           })"
   ]
  },
  {
   "cell_type": "markdown",
   "metadata": {
    "nteract": {
     "transient": {
      "deleting": false
     }
    }
   },
   "source": [
    "## **ii) Get the Results**"
   ]
  },
  {
   "cell_type": "code",
   "execution_count": null,
   "metadata": {
    "gather": {
     "logged": 1683782279522
    },
    "jupyter": {
     "outputs_hidden": false,
     "source_hidden": false
    },
    "nteract": {
     "transient": {
      "deleting": false
     }
    }
   },
   "outputs": [],
   "source": [
    "result = fitted_model.predict(input_data)\n",
    "print(\"The expected crime that can happen at\", LOCATION_TYPE_val, \"on\", REPORT_DATE_val,\"time as\", TimeofCrime_val,\"given the following conditions:\")\n",
    "print(\"Weather Conditions:\", conditions_val)\n",
    "print(\"Premises Type:\", PREMISES_TYPE_val)\n",
    "print(\"Division: \",DIVISION_val)\n",
    "print(\"Near by Area: \",NEIGHBOURHOOD_140_val)\n",
    "print(\"Predictions: Crime Likely to happen:\",result[0])\n"
   ]
  },
  {
   "cell_type": "markdown",
   "metadata": {
    "nteract": {
     "transient": {
      "deleting": false
     }
    }
   },
   "source": [
    "You can change the input to get the another predictions, lets do the predictions for case 2, with changed inputs"
   ]
  },
  {
   "cell_type": "markdown",
   "metadata": {
    "nteract": {
     "transient": {
      "deleting": false
     }
    }
   },
   "source": [
    "### **Case : 2**"
   ]
  },
  {
   "cell_type": "markdown",
   "metadata": {
    "nteract": {
     "transient": {
      "deleting": false
     }
    }
   },
   "source": [
    "Now we will do the predictions using the fitted model, for the input value given by you."
   ]
  },
  {
   "cell_type": "markdown",
   "metadata": {
    "nteract": {
     "transient": {
      "deleting": false
     }
    }
   },
   "source": [
    "### **i) Pass the input value**"
   ]
  },
  {
   "cell_type": "code",
   "execution_count": null,
   "metadata": {
    "gather": {
     "logged": 1683782279552
    },
    "jupyter": {
     "outputs_hidden": false,
     "source_hidden": false
    },
    "nteract": {
     "transient": {
      "deleting": false
     }
    }
   },
   "outputs": [],
   "source": [
    "# input values are as follows\n",
    "REPORT_DATE_val = '2022-09-29'\n",
    "OCC_DATE_val = '2022-02-19'\n",
    "REPORT_YEAR_val = 2022\n",
    "REPORT_MONTH_val = 'September'\n",
    "REPORT_DAY_val = 29\n",
    "REPORT_DOY_val = 272\n",
    "REPORT_DOW_val = 'Thursday'\n",
    "REPORT_HOUR_val = 23\n",
    "DIVISION_val = 'D32'\n",
    "LOCATION_TYPE_val = 'Streets, Roads, Highways (Bicycle Path, Privat...'\n",
    "PREMISES_TYPE_val = 'Outside'\n",
    "UCR_CODE_val = 1450\n",
    "HOOD_158_val = 155.00\n",
    "NEIGHBOURHOOD_158_val = 'Downsview'\n",
    "HOOD_140_val = 27.00\n",
    "NEIGHBOURHOOD_140_val = 'York University Heights (27)'\n",
    "LONG_WGS84_val = '-79.46338664'\n",
    "LAT_WGS84_val = '43.75024493'\n",
    "TimeofCrime_val = '04:00:00'\n",
    "temp_val = 11.60\n",
    "conditions_val = 'Partially cloudy'"
   ]
  },
  {
   "cell_type": "code",
   "execution_count": null,
   "metadata": {
    "gather": {
     "logged": 1683782279583
    },
    "jupyter": {
     "outputs_hidden": false,
     "source_hidden": false
    },
    "nteract": {
     "transient": {
      "deleting": false
     }
    }
   },
   "outputs": [],
   "source": [
    "input_data = pd.DataFrame({'REPORT_DATE':[REPORT_DATE_val],\n",
    "                            'OCC_DATE': [OCC_DATE_val],\n",
    "                            'REPORT_YEAR':[REPORT_YEAR_val],\n",
    "                            'REPORT_MONTH':[REPORT_MONTH_val],\n",
    "                            'REPORT_DAY':[REPORT_DAY_val],\n",
    "                            'REPORT_DOY':[REPORT_DOY_val],\n",
    "                            'REPORT_DOW':[REPORT_DOW_val],\n",
    "                            'REPORT_HOUR':[REPORT_HOUR_val],\n",
    "                            'DIVISION':[DIVISION_val],\n",
    "                            'LOCATION_TYPE':[LOCATION_TYPE_val],\n",
    "                            'PREMISES_TYPE':[PREMISES_TYPE_val],\n",
    "                            'UCR_CODE':[UCR_CODE_val],\n",
    "                            'HOOD_158':[HOOD_158_val],\n",
    "                            'NEIGHBOURHOOD_158':[NEIGHBOURHOOD_158_val],\n",
    "                            'HOOD_140':[HOOD_140_val],\n",
    "                            'NEIGHBOURHOOD_140':[NEIGHBOURHOOD_140_val],\n",
    "                            'LONG_WGS84':[LONG_WGS84_val],\n",
    "                            'LAT_WGS84':[LAT_WGS84_val],\n",
    "                            'TimeofCrime':[TimeofCrime_val],\n",
    "                            'temp':[temp_val],\n",
    "                            'conditions':[conditions_val]\n",
    "                           })"
   ]
  },
  {
   "cell_type": "markdown",
   "metadata": {
    "nteract": {
     "transient": {
      "deleting": false
     }
    }
   },
   "source": [
    "## **ii) Get the Results**"
   ]
  },
  {
   "cell_type": "code",
   "execution_count": null,
   "metadata": {
    "gather": {
     "logged": 1683782279614
    },
    "jupyter": {
     "outputs_hidden": false,
     "source_hidden": false
    },
    "nteract": {
     "transient": {
      "deleting": false
     }
    }
   },
   "outputs": [],
   "source": [
    "result = fitted_model.predict(input_data)\n",
    "print(\"The expected crime that can happen at\", LOCATION_TYPE_val, \"on\", REPORT_DATE_val,\"time as\", TimeofCrime_val,\"given the following conditions:\")\n",
    "print(\"Weather Conditions:\", conditions_val)\n",
    "print(\"Premises Type:\", PREMISES_TYPE_val)\n",
    "print(\"Division: \",DIVISION_val)\n",
    "print(\"Near by Area: \",NEIGHBOURHOOD_140_val)\n",
    "print(\"Predictions: Crime Likely to happen:\",result[0])\n"
   ]
  },
  {
   "cell_type": "markdown",
   "metadata": {
    "nteract": {
     "transient": {
      "deleting": false
     }
    }
   },
   "source": [
    "# **Thank You!**"
   ]
  }
 ],
 "metadata": {
  "kernel_info": {
   "name": "python38-azureml"
  },
  "kernelspec": {
   "display_name": "Python 3 (ipykernel)",
   "language": "python",
   "name": "python3"
  },
  "language_info": {
   "codemirror_mode": {
    "name": "ipython",
    "version": 3
   },
   "file_extension": ".py",
   "mimetype": "text/x-python",
   "name": "python",
   "nbconvert_exporter": "python",
   "pygments_lexer": "ipython3",
   "version": "3.10.9"
  },
  "microsoft": {
   "host": {
    "AzureML": {
     "notebookHasBeenCompleted": true
    }
   },
   "ms_spell_check": {
    "ms_spell_check_language": "en"
   }
  },
  "nteract": {
   "version": "nteract-front-end@1.0.0"
  }
 },
 "nbformat": 4,
 "nbformat_minor": 2
}
